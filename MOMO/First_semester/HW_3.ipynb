{
  "nbformat": 4,
  "nbformat_minor": 0,
  "metadata": {
    "colab": {
      "provenance": []
    },
    "kernelspec": {
      "name": "python3",
      "display_name": "Python 3"
    },
    "language_info": {
      "name": "python"
    }
  },
  "cells": [
    {
      "cell_type": "code",
      "execution_count": 36,
      "metadata": {
        "id": "Tfi1MUHTo4uH"
      },
      "outputs": [],
      "source": [
        "import pandas as pd # Библиотека Pandas для работы с табличными данными\n",
        "import numpy as np # библиотека Numpy для операций линейной алгебры и прочего\n",
        "import matplotlib.pyplot as plt # библиотека Matplotlib для визуализации\n",
        "import seaborn as sns # библиотека seaborn для визуализации\n",
        "import numpy as np # библиотека Numpy для операций линейной алгебры и прочего\n",
        "\n",
        "import plotly.graph_objects as go # Библиотека Plotly. Модуль \"Graph Objects\"\n",
        "import plotly.express as px # Библиотека Plotly. Модуль \"Express\"\n",
        "\n",
        "# предварительная обработка числовых признаков\n",
        "from sklearn.preprocessing import MinMaxScaler# Импортируем нормализацию от scikit-learn\n",
        "from sklearn.preprocessing import StandardScaler # Импортируем стандартизацию от scikit-learn\n",
        "from sklearn.preprocessing import PowerTransformer  # Степенное преобразование от scikit-learn\n",
        "# предварительная обработка категориальных признаков\n",
        "from sklearn.preprocessing import OneHotEncoder# Импортируем One-Hot Encoding от scikit-learn\n",
        "from sklearn.preprocessing import OrdinalEncoder# Импортируем Порядковое кодированиеот scikit-learn\n",
        "from sklearn.preprocessing import LabelEncoder# Импортируем LabelEncoder от scikit-learn\n",
        "\n",
        "from sklearn.pipeline import Pipeline # Pipeline.Не добавить, не убавить\n",
        "\n",
        "from sklearn.compose import ColumnTransformer # т.н. преобразователь колонок\n",
        "\n",
        "from sklearn.base import BaseEstimator, TransformerMixin # для создания собственных преобразователей / трансформеров данных"
      ]
    },
    {
      "cell_type": "markdown",
      "source": [
        "Набор данных представляет собой данные о продаже автомобилей в России по регионам.\n",
        "\n",
        "Набор включает ряд категориальных и численных значений, составляющих одну запись (строку). Число записей можно найти как число строк.\n",
        "\n",
        "Каждый столбец в записи — это отдельный параметр.\n",
        "\n",
        "Среди указанных параметров приведены целевой для задачи предсказания (регрессии) - цена автомобиля.\n",
        "\n",
        "Также среди параметров есть целевой для задачи классификации - тип топлива.\n",
        "\n",
        "\n"
      ],
      "metadata": {
        "id": "Yqt6cJJVpOsF"
      }
    },
    {
      "cell_type": "markdown",
      "source": [
        "Загружаем наши данные из файла"
      ],
      "metadata": {
        "id": "zMLaOB_gp4ju"
      }
    },
    {
      "cell_type": "code",
      "source": [
        "DF = pd.read_csv('/content/all_regions.csv', engine='python')\n",
        "DF"
      ],
      "metadata": {
        "colab": {
          "base_uri": "https://localhost:8080/",
          "height": 947
        },
        "id": "soPWsZ0_p4S_",
        "outputId": "a421d78c-ddff-43d7-f855-02317b5c956c"
      },
      "execution_count": 12,
      "outputs": [
        {
          "output_type": "execute_result",
          "data": {
            "text/plain": [
              "           brand             name       bodyType        color fuelType  \\\n",
              "0     Volkswagen             Golf  Хэтчбек 5 дв.  Серебристый   Бензин   \n",
              "1           Лада         1111 Ока  Хэтчбек 3 дв.   Фиолетовый   Бензин   \n",
              "2         Toyota         Funcargo  Хэтчбек 5 дв.  Серебристый   Бензин   \n",
              "3           Лада           Гранта        Лифтбек        Серый   Бензин   \n",
              "4           Лада      Нива Легенд     Джип 3 дв.      Зеленый   Бензин   \n",
              "...          ...              ...            ...          ...      ...   \n",
              "9455      Toyota      Prius Alpha        Минивэн  Серебристый   Бензин   \n",
              "9456      Toyota             C-HR     Джип 5 дв.     Бордовый   Бензин   \n",
              "9457      Toyota  Corolla Fielder      Универсал        Белый   Бензин   \n",
              "9458       Lexus            RX350     Джип 5 дв.       Черный   Бензин   \n",
              "9459      Nissan          Qashqai     Джип 5 дв.  Серебристый   Бензин   \n",
              "\n",
              "        year   mileage transmission  power    price  \\\n",
              "0        NaN  240000.0     Механика  101.0   280000   \n",
              "1     1996.0   37000.0     Механика   33.0    95000   \n",
              "2     2002.0  295000.0         АКПП   87.0   380000   \n",
              "3     2018.0   16000.0     Механика  106.0   795000   \n",
              "4        NaN       NaN     Механика   83.0  1022900   \n",
              "...      ...       ...          ...    ...      ...   \n",
              "9455  2011.0  136000.0     Вариатор   99.0  1130000   \n",
              "9456  2018.0   70000.0     Вариатор   98.0  1920000   \n",
              "9457  2002.0  200000.0         АКПП  109.0   505000   \n",
              "9458  2009.0  177000.0         АКПП  277.0  2099000   \n",
              "9459  2016.0   89000.0     Вариатор  144.0  1568000   \n",
              "\n",
              "                  vehicleConfiguration engineName engineDisplacement  \\\n",
              "0                                  NaN        NaN                NaN   \n",
              "1                         0.6 MT 11113  ВАЗ-11113            0.7 LTR   \n",
              "2                                1.3 J     2NZ-FE            1.3 LTR   \n",
              "3                       1.6 MT Comfort  ВАЗ-21127            1.6 LTR   \n",
              "4                                  NaN        NaN                NaN   \n",
              "...                                ...        ...                ...   \n",
              "9455  1.8 S Touring selection 5 seater    2ZR-FXE            1.8 LTR   \n",
              "9456                      Hybrid 1.8 G    2ZR-FXE            1.8 LTR   \n",
              "9457                             1.5 X     1NZ-FE            1.5 LTR   \n",
              "9458                   3.5 AT Premium+     2GR-FE            3.5 LTR   \n",
              "9459                       2.0 CVT SE+     MR20DD            2.0 LTR   \n",
              "\n",
              "                     date     location  \\\n",
              "0     2023-04-02 00:00:00       Майкоп   \n",
              "1     2023-04-02 00:00:00       Майкоп   \n",
              "2     2023-04-02 00:00:00       Майкоп   \n",
              "3     2023-04-02 00:00:00       Майкоп   \n",
              "4     2023-04-02 00:00:00  Яблоновский   \n",
              "...                   ...          ...   \n",
              "9455  2023-05-06 00:00:00         Чита   \n",
              "9456  2023-05-06 00:00:00         Чита   \n",
              "9457  2023-05-06 00:00:00         Чита   \n",
              "9458  2023-05-06 00:00:00         Чита   \n",
              "9459  2023-05-06 00:00:00         Чита   \n",
              "\n",
              "                                                   link  \\\n",
              "0     https://maykop.drom.ru/volkswagen/golf/5001300...   \n",
              "1         https://maykop.drom.ru/lada/oka/50378140.html   \n",
              "2     https://maykop.drom.ru/toyota/funcargo/5037751...   \n",
              "3      https://maykop.drom.ru/lada/granta/50382492.html   \n",
              "4     https://yablonovskiy.drom.ru/lada/niva_legend/...   \n",
              "...                                                 ...   \n",
              "9455  https://chita.drom.ru/toyota/prius_a/50214242....   \n",
              "9456    https://chita.drom.ru/toyota/c-hr/49475735.html   \n",
              "9457  https://chita.drom.ru/toyota/corolla_fielder/5...   \n",
              "9458    https://chita.drom.ru/lexus/rx350/50727182.html   \n",
              "9459          https://chita.drom.ru/nissan/qashqai/4948   \n",
              "\n",
              "                                            description           parse_date  \n",
              "0     101 л.с. люк не течёт. Документы в порядке. Со...  2023-05-02 01:00:00  \n",
              "1     Ваз Ока Год: 2003 Цвет: Баклажан, в ПТС так и ...  2023-05-02 20:00:00  \n",
              "2     ХОРОШЕЕ СОСТОЯНИЕ. замена комплекта грм и помп...  2023-05-02 20:00:00  \n",
              "3     Автомобиль в отличном техническом состоянии, н...  2023-05-02 23:00:00  \n",
              "4     Модель: Нива Легенд Комплектация: LADA (ВАЗ) N...  2023-05-02 20:00:00  \n",
              "...                                                 ...                  ...  \n",
              "9455  .В Продаже Prius Alpha S touring selection 13 ...  2023-05-06 19:00:00  \n",
              "9456  . Б/П, 2019 год. ВОЗМОЖНО ПРИОБРЕТЕНИЕ ЧЕРЕЗ А...  2023-05-06 19:00:00  \n",
              "9457  Крепкий надёжный Филдер. Достойное техническое...  2023-05-06 19:00:00  \n",
              "9458  Максимальная комплектация. Люк, проекция на ст...  2023-05-06 19:00:00  \n",
              "9459                                               None                 None  \n",
              "\n",
              "[9460 rows x 18 columns]"
            ],
            "text/html": [
              "\n",
              "  <div id=\"df-34bd77cc-160e-4965-9919-95224358462f\" class=\"colab-df-container\">\n",
              "    <div>\n",
              "<style scoped>\n",
              "    .dataframe tbody tr th:only-of-type {\n",
              "        vertical-align: middle;\n",
              "    }\n",
              "\n",
              "    .dataframe tbody tr th {\n",
              "        vertical-align: top;\n",
              "    }\n",
              "\n",
              "    .dataframe thead th {\n",
              "        text-align: right;\n",
              "    }\n",
              "</style>\n",
              "<table border=\"1\" class=\"dataframe\">\n",
              "  <thead>\n",
              "    <tr style=\"text-align: right;\">\n",
              "      <th></th>\n",
              "      <th>brand</th>\n",
              "      <th>name</th>\n",
              "      <th>bodyType</th>\n",
              "      <th>color</th>\n",
              "      <th>fuelType</th>\n",
              "      <th>year</th>\n",
              "      <th>mileage</th>\n",
              "      <th>transmission</th>\n",
              "      <th>power</th>\n",
              "      <th>price</th>\n",
              "      <th>vehicleConfiguration</th>\n",
              "      <th>engineName</th>\n",
              "      <th>engineDisplacement</th>\n",
              "      <th>date</th>\n",
              "      <th>location</th>\n",
              "      <th>link</th>\n",
              "      <th>description</th>\n",
              "      <th>parse_date</th>\n",
              "    </tr>\n",
              "  </thead>\n",
              "  <tbody>\n",
              "    <tr>\n",
              "      <th>0</th>\n",
              "      <td>Volkswagen</td>\n",
              "      <td>Golf</td>\n",
              "      <td>Хэтчбек 5 дв.</td>\n",
              "      <td>Серебристый</td>\n",
              "      <td>Бензин</td>\n",
              "      <td>NaN</td>\n",
              "      <td>240000.0</td>\n",
              "      <td>Механика</td>\n",
              "      <td>101.0</td>\n",
              "      <td>280000</td>\n",
              "      <td>NaN</td>\n",
              "      <td>NaN</td>\n",
              "      <td>NaN</td>\n",
              "      <td>2023-04-02 00:00:00</td>\n",
              "      <td>Майкоп</td>\n",
              "      <td>https://maykop.drom.ru/volkswagen/golf/5001300...</td>\n",
              "      <td>101 л.с. люк не течёт. Документы в порядке. Со...</td>\n",
              "      <td>2023-05-02 01:00:00</td>\n",
              "    </tr>\n",
              "    <tr>\n",
              "      <th>1</th>\n",
              "      <td>Лада</td>\n",
              "      <td>1111 Ока</td>\n",
              "      <td>Хэтчбек 3 дв.</td>\n",
              "      <td>Фиолетовый</td>\n",
              "      <td>Бензин</td>\n",
              "      <td>1996.0</td>\n",
              "      <td>37000.0</td>\n",
              "      <td>Механика</td>\n",
              "      <td>33.0</td>\n",
              "      <td>95000</td>\n",
              "      <td>0.6 MT 11113</td>\n",
              "      <td>ВАЗ-11113</td>\n",
              "      <td>0.7 LTR</td>\n",
              "      <td>2023-04-02 00:00:00</td>\n",
              "      <td>Майкоп</td>\n",
              "      <td>https://maykop.drom.ru/lada/oka/50378140.html</td>\n",
              "      <td>Ваз Ока Год: 2003 Цвет: Баклажан, в ПТС так и ...</td>\n",
              "      <td>2023-05-02 20:00:00</td>\n",
              "    </tr>\n",
              "    <tr>\n",
              "      <th>2</th>\n",
              "      <td>Toyota</td>\n",
              "      <td>Funcargo</td>\n",
              "      <td>Хэтчбек 5 дв.</td>\n",
              "      <td>Серебристый</td>\n",
              "      <td>Бензин</td>\n",
              "      <td>2002.0</td>\n",
              "      <td>295000.0</td>\n",
              "      <td>АКПП</td>\n",
              "      <td>87.0</td>\n",
              "      <td>380000</td>\n",
              "      <td>1.3 J</td>\n",
              "      <td>2NZ-FE</td>\n",
              "      <td>1.3 LTR</td>\n",
              "      <td>2023-04-02 00:00:00</td>\n",
              "      <td>Майкоп</td>\n",
              "      <td>https://maykop.drom.ru/toyota/funcargo/5037751...</td>\n",
              "      <td>ХОРОШЕЕ СОСТОЯНИЕ. замена комплекта грм и помп...</td>\n",
              "      <td>2023-05-02 20:00:00</td>\n",
              "    </tr>\n",
              "    <tr>\n",
              "      <th>3</th>\n",
              "      <td>Лада</td>\n",
              "      <td>Гранта</td>\n",
              "      <td>Лифтбек</td>\n",
              "      <td>Серый</td>\n",
              "      <td>Бензин</td>\n",
              "      <td>2018.0</td>\n",
              "      <td>16000.0</td>\n",
              "      <td>Механика</td>\n",
              "      <td>106.0</td>\n",
              "      <td>795000</td>\n",
              "      <td>1.6 MT Comfort</td>\n",
              "      <td>ВАЗ-21127</td>\n",
              "      <td>1.6 LTR</td>\n",
              "      <td>2023-04-02 00:00:00</td>\n",
              "      <td>Майкоп</td>\n",
              "      <td>https://maykop.drom.ru/lada/granta/50382492.html</td>\n",
              "      <td>Автомобиль в отличном техническом состоянии, н...</td>\n",
              "      <td>2023-05-02 23:00:00</td>\n",
              "    </tr>\n",
              "    <tr>\n",
              "      <th>4</th>\n",
              "      <td>Лада</td>\n",
              "      <td>Нива Легенд</td>\n",
              "      <td>Джип 3 дв.</td>\n",
              "      <td>Зеленый</td>\n",
              "      <td>Бензин</td>\n",
              "      <td>NaN</td>\n",
              "      <td>NaN</td>\n",
              "      <td>Механика</td>\n",
              "      <td>83.0</td>\n",
              "      <td>1022900</td>\n",
              "      <td>NaN</td>\n",
              "      <td>NaN</td>\n",
              "      <td>NaN</td>\n",
              "      <td>2023-04-02 00:00:00</td>\n",
              "      <td>Яблоновский</td>\n",
              "      <td>https://yablonovskiy.drom.ru/lada/niva_legend/...</td>\n",
              "      <td>Модель: Нива Легенд Комплектация: LADA (ВАЗ) N...</td>\n",
              "      <td>2023-05-02 20:00:00</td>\n",
              "    </tr>\n",
              "    <tr>\n",
              "      <th>...</th>\n",
              "      <td>...</td>\n",
              "      <td>...</td>\n",
              "      <td>...</td>\n",
              "      <td>...</td>\n",
              "      <td>...</td>\n",
              "      <td>...</td>\n",
              "      <td>...</td>\n",
              "      <td>...</td>\n",
              "      <td>...</td>\n",
              "      <td>...</td>\n",
              "      <td>...</td>\n",
              "      <td>...</td>\n",
              "      <td>...</td>\n",
              "      <td>...</td>\n",
              "      <td>...</td>\n",
              "      <td>...</td>\n",
              "      <td>...</td>\n",
              "      <td>...</td>\n",
              "    </tr>\n",
              "    <tr>\n",
              "      <th>9455</th>\n",
              "      <td>Toyota</td>\n",
              "      <td>Prius Alpha</td>\n",
              "      <td>Минивэн</td>\n",
              "      <td>Серебристый</td>\n",
              "      <td>Бензин</td>\n",
              "      <td>2011.0</td>\n",
              "      <td>136000.0</td>\n",
              "      <td>Вариатор</td>\n",
              "      <td>99.0</td>\n",
              "      <td>1130000</td>\n",
              "      <td>1.8 S Touring selection 5 seater</td>\n",
              "      <td>2ZR-FXE</td>\n",
              "      <td>1.8 LTR</td>\n",
              "      <td>2023-05-06 00:00:00</td>\n",
              "      <td>Чита</td>\n",
              "      <td>https://chita.drom.ru/toyota/prius_a/50214242....</td>\n",
              "      <td>.В Продаже Prius Alpha S touring selection 13 ...</td>\n",
              "      <td>2023-05-06 19:00:00</td>\n",
              "    </tr>\n",
              "    <tr>\n",
              "      <th>9456</th>\n",
              "      <td>Toyota</td>\n",
              "      <td>C-HR</td>\n",
              "      <td>Джип 5 дв.</td>\n",
              "      <td>Бордовый</td>\n",
              "      <td>Бензин</td>\n",
              "      <td>2018.0</td>\n",
              "      <td>70000.0</td>\n",
              "      <td>Вариатор</td>\n",
              "      <td>98.0</td>\n",
              "      <td>1920000</td>\n",
              "      <td>Hybrid 1.8 G</td>\n",
              "      <td>2ZR-FXE</td>\n",
              "      <td>1.8 LTR</td>\n",
              "      <td>2023-05-06 00:00:00</td>\n",
              "      <td>Чита</td>\n",
              "      <td>https://chita.drom.ru/toyota/c-hr/49475735.html</td>\n",
              "      <td>. Б/П, 2019 год. ВОЗМОЖНО ПРИОБРЕТЕНИЕ ЧЕРЕЗ А...</td>\n",
              "      <td>2023-05-06 19:00:00</td>\n",
              "    </tr>\n",
              "    <tr>\n",
              "      <th>9457</th>\n",
              "      <td>Toyota</td>\n",
              "      <td>Corolla Fielder</td>\n",
              "      <td>Универсал</td>\n",
              "      <td>Белый</td>\n",
              "      <td>Бензин</td>\n",
              "      <td>2002.0</td>\n",
              "      <td>200000.0</td>\n",
              "      <td>АКПП</td>\n",
              "      <td>109.0</td>\n",
              "      <td>505000</td>\n",
              "      <td>1.5 X</td>\n",
              "      <td>1NZ-FE</td>\n",
              "      <td>1.5 LTR</td>\n",
              "      <td>2023-05-06 00:00:00</td>\n",
              "      <td>Чита</td>\n",
              "      <td>https://chita.drom.ru/toyota/corolla_fielder/5...</td>\n",
              "      <td>Крепкий надёжный Филдер. Достойное техническое...</td>\n",
              "      <td>2023-05-06 19:00:00</td>\n",
              "    </tr>\n",
              "    <tr>\n",
              "      <th>9458</th>\n",
              "      <td>Lexus</td>\n",
              "      <td>RX350</td>\n",
              "      <td>Джип 5 дв.</td>\n",
              "      <td>Черный</td>\n",
              "      <td>Бензин</td>\n",
              "      <td>2009.0</td>\n",
              "      <td>177000.0</td>\n",
              "      <td>АКПП</td>\n",
              "      <td>277.0</td>\n",
              "      <td>2099000</td>\n",
              "      <td>3.5 AT Premium+</td>\n",
              "      <td>2GR-FE</td>\n",
              "      <td>3.5 LTR</td>\n",
              "      <td>2023-05-06 00:00:00</td>\n",
              "      <td>Чита</td>\n",
              "      <td>https://chita.drom.ru/lexus/rx350/50727182.html</td>\n",
              "      <td>Максимальная комплектация. Люк, проекция на ст...</td>\n",
              "      <td>2023-05-06 19:00:00</td>\n",
              "    </tr>\n",
              "    <tr>\n",
              "      <th>9459</th>\n",
              "      <td>Nissan</td>\n",
              "      <td>Qashqai</td>\n",
              "      <td>Джип 5 дв.</td>\n",
              "      <td>Серебристый</td>\n",
              "      <td>Бензин</td>\n",
              "      <td>2016.0</td>\n",
              "      <td>89000.0</td>\n",
              "      <td>Вариатор</td>\n",
              "      <td>144.0</td>\n",
              "      <td>1568000</td>\n",
              "      <td>2.0 CVT SE+</td>\n",
              "      <td>MR20DD</td>\n",
              "      <td>2.0 LTR</td>\n",
              "      <td>2023-05-06 00:00:00</td>\n",
              "      <td>Чита</td>\n",
              "      <td>https://chita.drom.ru/nissan/qashqai/4948</td>\n",
              "      <td>None</td>\n",
              "      <td>None</td>\n",
              "    </tr>\n",
              "  </tbody>\n",
              "</table>\n",
              "<p>9460 rows × 18 columns</p>\n",
              "</div>\n",
              "    <div class=\"colab-df-buttons\">\n",
              "\n",
              "  <div class=\"colab-df-container\">\n",
              "    <button class=\"colab-df-convert\" onclick=\"convertToInteractive('df-34bd77cc-160e-4965-9919-95224358462f')\"\n",
              "            title=\"Convert this dataframe to an interactive table.\"\n",
              "            style=\"display:none;\">\n",
              "\n",
              "  <svg xmlns=\"http://www.w3.org/2000/svg\" height=\"24px\" viewBox=\"0 -960 960 960\">\n",
              "    <path d=\"M120-120v-720h720v720H120Zm60-500h600v-160H180v160Zm220 220h160v-160H400v160Zm0 220h160v-160H400v160ZM180-400h160v-160H180v160Zm440 0h160v-160H620v160ZM180-180h160v-160H180v160Zm440 0h160v-160H620v160Z\"/>\n",
              "  </svg>\n",
              "    </button>\n",
              "\n",
              "  <style>\n",
              "    .colab-df-container {\n",
              "      display:flex;\n",
              "      gap: 12px;\n",
              "    }\n",
              "\n",
              "    .colab-df-convert {\n",
              "      background-color: #E8F0FE;\n",
              "      border: none;\n",
              "      border-radius: 50%;\n",
              "      cursor: pointer;\n",
              "      display: none;\n",
              "      fill: #1967D2;\n",
              "      height: 32px;\n",
              "      padding: 0 0 0 0;\n",
              "      width: 32px;\n",
              "    }\n",
              "\n",
              "    .colab-df-convert:hover {\n",
              "      background-color: #E2EBFA;\n",
              "      box-shadow: 0px 1px 2px rgba(60, 64, 67, 0.3), 0px 1px 3px 1px rgba(60, 64, 67, 0.15);\n",
              "      fill: #174EA6;\n",
              "    }\n",
              "\n",
              "    .colab-df-buttons div {\n",
              "      margin-bottom: 4px;\n",
              "    }\n",
              "\n",
              "    [theme=dark] .colab-df-convert {\n",
              "      background-color: #3B4455;\n",
              "      fill: #D2E3FC;\n",
              "    }\n",
              "\n",
              "    [theme=dark] .colab-df-convert:hover {\n",
              "      background-color: #434B5C;\n",
              "      box-shadow: 0px 1px 3px 1px rgba(0, 0, 0, 0.15);\n",
              "      filter: drop-shadow(0px 1px 2px rgba(0, 0, 0, 0.3));\n",
              "      fill: #FFFFFF;\n",
              "    }\n",
              "  </style>\n",
              "\n",
              "    <script>\n",
              "      const buttonEl =\n",
              "        document.querySelector('#df-34bd77cc-160e-4965-9919-95224358462f button.colab-df-convert');\n",
              "      buttonEl.style.display =\n",
              "        google.colab.kernel.accessAllowed ? 'block' : 'none';\n",
              "\n",
              "      async function convertToInteractive(key) {\n",
              "        const element = document.querySelector('#df-34bd77cc-160e-4965-9919-95224358462f');\n",
              "        const dataTable =\n",
              "          await google.colab.kernel.invokeFunction('convertToInteractive',\n",
              "                                                    [key], {});\n",
              "        if (!dataTable) return;\n",
              "\n",
              "        const docLinkHtml = 'Like what you see? Visit the ' +\n",
              "          '<a target=\"_blank\" href=https://colab.research.google.com/notebooks/data_table.ipynb>data table notebook</a>'\n",
              "          + ' to learn more about interactive tables.';\n",
              "        element.innerHTML = '';\n",
              "        dataTable['output_type'] = 'display_data';\n",
              "        await google.colab.output.renderOutput(dataTable, element);\n",
              "        const docLink = document.createElement('div');\n",
              "        docLink.innerHTML = docLinkHtml;\n",
              "        element.appendChild(docLink);\n",
              "      }\n",
              "    </script>\n",
              "  </div>\n",
              "\n",
              "\n",
              "<div id=\"df-8ab28bc4-7a54-4e2c-95ac-70a246e55b74\">\n",
              "  <button class=\"colab-df-quickchart\" onclick=\"quickchart('df-8ab28bc4-7a54-4e2c-95ac-70a246e55b74')\"\n",
              "            title=\"Suggest charts\"\n",
              "            style=\"display:none;\">\n",
              "\n",
              "<svg xmlns=\"http://www.w3.org/2000/svg\" height=\"24px\"viewBox=\"0 0 24 24\"\n",
              "     width=\"24px\">\n",
              "    <g>\n",
              "        <path d=\"M19 3H5c-1.1 0-2 .9-2 2v14c0 1.1.9 2 2 2h14c1.1 0 2-.9 2-2V5c0-1.1-.9-2-2-2zM9 17H7v-7h2v7zm4 0h-2V7h2v10zm4 0h-2v-4h2v4z\"/>\n",
              "    </g>\n",
              "</svg>\n",
              "  </button>\n",
              "\n",
              "<style>\n",
              "  .colab-df-quickchart {\n",
              "      --bg-color: #E8F0FE;\n",
              "      --fill-color: #1967D2;\n",
              "      --hover-bg-color: #E2EBFA;\n",
              "      --hover-fill-color: #174EA6;\n",
              "      --disabled-fill-color: #AAA;\n",
              "      --disabled-bg-color: #DDD;\n",
              "  }\n",
              "\n",
              "  [theme=dark] .colab-df-quickchart {\n",
              "      --bg-color: #3B4455;\n",
              "      --fill-color: #D2E3FC;\n",
              "      --hover-bg-color: #434B5C;\n",
              "      --hover-fill-color: #FFFFFF;\n",
              "      --disabled-bg-color: #3B4455;\n",
              "      --disabled-fill-color: #666;\n",
              "  }\n",
              "\n",
              "  .colab-df-quickchart {\n",
              "    background-color: var(--bg-color);\n",
              "    border: none;\n",
              "    border-radius: 50%;\n",
              "    cursor: pointer;\n",
              "    display: none;\n",
              "    fill: var(--fill-color);\n",
              "    height: 32px;\n",
              "    padding: 0;\n",
              "    width: 32px;\n",
              "  }\n",
              "\n",
              "  .colab-df-quickchart:hover {\n",
              "    background-color: var(--hover-bg-color);\n",
              "    box-shadow: 0 1px 2px rgba(60, 64, 67, 0.3), 0 1px 3px 1px rgba(60, 64, 67, 0.15);\n",
              "    fill: var(--button-hover-fill-color);\n",
              "  }\n",
              "\n",
              "  .colab-df-quickchart-complete:disabled,\n",
              "  .colab-df-quickchart-complete:disabled:hover {\n",
              "    background-color: var(--disabled-bg-color);\n",
              "    fill: var(--disabled-fill-color);\n",
              "    box-shadow: none;\n",
              "  }\n",
              "\n",
              "  .colab-df-spinner {\n",
              "    border: 2px solid var(--fill-color);\n",
              "    border-color: transparent;\n",
              "    border-bottom-color: var(--fill-color);\n",
              "    animation:\n",
              "      spin 1s steps(1) infinite;\n",
              "  }\n",
              "\n",
              "  @keyframes spin {\n",
              "    0% {\n",
              "      border-color: transparent;\n",
              "      border-bottom-color: var(--fill-color);\n",
              "      border-left-color: var(--fill-color);\n",
              "    }\n",
              "    20% {\n",
              "      border-color: transparent;\n",
              "      border-left-color: var(--fill-color);\n",
              "      border-top-color: var(--fill-color);\n",
              "    }\n",
              "    30% {\n",
              "      border-color: transparent;\n",
              "      border-left-color: var(--fill-color);\n",
              "      border-top-color: var(--fill-color);\n",
              "      border-right-color: var(--fill-color);\n",
              "    }\n",
              "    40% {\n",
              "      border-color: transparent;\n",
              "      border-right-color: var(--fill-color);\n",
              "      border-top-color: var(--fill-color);\n",
              "    }\n",
              "    60% {\n",
              "      border-color: transparent;\n",
              "      border-right-color: var(--fill-color);\n",
              "    }\n",
              "    80% {\n",
              "      border-color: transparent;\n",
              "      border-right-color: var(--fill-color);\n",
              "      border-bottom-color: var(--fill-color);\n",
              "    }\n",
              "    90% {\n",
              "      border-color: transparent;\n",
              "      border-bottom-color: var(--fill-color);\n",
              "    }\n",
              "  }\n",
              "</style>\n",
              "\n",
              "  <script>\n",
              "    async function quickchart(key) {\n",
              "      const quickchartButtonEl =\n",
              "        document.querySelector('#' + key + ' button');\n",
              "      quickchartButtonEl.disabled = true;  // To prevent multiple clicks.\n",
              "      quickchartButtonEl.classList.add('colab-df-spinner');\n",
              "      try {\n",
              "        const charts = await google.colab.kernel.invokeFunction(\n",
              "            'suggestCharts', [key], {});\n",
              "      } catch (error) {\n",
              "        console.error('Error during call to suggestCharts:', error);\n",
              "      }\n",
              "      quickchartButtonEl.classList.remove('colab-df-spinner');\n",
              "      quickchartButtonEl.classList.add('colab-df-quickchart-complete');\n",
              "    }\n",
              "    (() => {\n",
              "      let quickchartButtonEl =\n",
              "        document.querySelector('#df-8ab28bc4-7a54-4e2c-95ac-70a246e55b74 button');\n",
              "      quickchartButtonEl.style.display =\n",
              "        google.colab.kernel.accessAllowed ? 'block' : 'none';\n",
              "    })();\n",
              "  </script>\n",
              "</div>\n",
              "    </div>\n",
              "  </div>\n"
            ]
          },
          "metadata": {},
          "execution_count": 12
        }
      ]
    },
    {
      "cell_type": "code",
      "source": [
        "DF.columns"
      ],
      "metadata": {
        "colab": {
          "base_uri": "https://localhost:8080/"
        },
        "id": "30oLQ_xE16gz",
        "outputId": "c77ccf3b-7169-4e43-c624-5be0d6c3fe6c"
      },
      "execution_count": 13,
      "outputs": [
        {
          "output_type": "execute_result",
          "data": {
            "text/plain": [
              "Index(['brand', 'name', 'bodyType', 'color', 'fuelType', 'year', 'mileage',\n",
              "       'transmission', 'power', 'price', 'vehicleConfiguration', 'engineName',\n",
              "       'engineDisplacement', 'date', 'location', 'link', 'description',\n",
              "       'parse_date'],\n",
              "      dtype='object')"
            ]
          },
          "metadata": {},
          "execution_count": 13
        }
      ]
    },
    {
      "cell_type": "markdown",
      "source": [
        "**Предварительная обработка данных**"
      ],
      "metadata": {
        "id": "D8CIB-ex0kGm"
      }
    },
    {
      "cell_type": "markdown",
      "source": [
        "выберем нужные колонки"
      ],
      "metadata": {
        "id": "eNFeZBdw01go"
      }
    },
    {
      "cell_type": "code",
      "source": [
        "df_new = DF[['brand', 'name', 'bodyType', 'fuelType', 'transmission', 'power', 'year', 'mileage', 'price']]\n",
        "df_new"
      ],
      "metadata": {
        "colab": {
          "base_uri": "https://localhost:8080/",
          "height": 423
        },
        "id": "r4QY2TrR0oOO",
        "outputId": "515f9cfd-1850-4531-f38f-1fb05454a378"
      },
      "execution_count": 68,
      "outputs": [
        {
          "output_type": "execute_result",
          "data": {
            "text/plain": [
              "           brand             name       bodyType fuelType transmission  power  \\\n",
              "0     Volkswagen             Golf  Хэтчбек 5 дв.   Бензин     Механика  101.0   \n",
              "1           Лада         1111 Ока  Хэтчбек 3 дв.   Бензин     Механика   33.0   \n",
              "2         Toyota         Funcargo  Хэтчбек 5 дв.   Бензин         АКПП   87.0   \n",
              "3           Лада           Гранта        Лифтбек   Бензин     Механика  106.0   \n",
              "4           Лада      Нива Легенд     Джип 3 дв.   Бензин     Механика   83.0   \n",
              "...          ...              ...            ...      ...          ...    ...   \n",
              "9455      Toyota      Prius Alpha        Минивэн   Бензин     Вариатор   99.0   \n",
              "9456      Toyota             C-HR     Джип 5 дв.   Бензин     Вариатор   98.0   \n",
              "9457      Toyota  Corolla Fielder      Универсал   Бензин         АКПП  109.0   \n",
              "9458       Lexus            RX350     Джип 5 дв.   Бензин         АКПП  277.0   \n",
              "9459      Nissan          Qashqai     Джип 5 дв.   Бензин     Вариатор  144.0   \n",
              "\n",
              "        year   mileage    price  \n",
              "0        NaN  240000.0   280000  \n",
              "1     1996.0   37000.0    95000  \n",
              "2     2002.0  295000.0   380000  \n",
              "3     2018.0   16000.0   795000  \n",
              "4        NaN       NaN  1022900  \n",
              "...      ...       ...      ...  \n",
              "9455  2011.0  136000.0  1130000  \n",
              "9456  2018.0   70000.0  1920000  \n",
              "9457  2002.0  200000.0   505000  \n",
              "9458  2009.0  177000.0  2099000  \n",
              "9459  2016.0   89000.0  1568000  \n",
              "\n",
              "[9460 rows x 9 columns]"
            ],
            "text/html": [
              "\n",
              "  <div id=\"df-2fea4ac9-8db5-47db-8733-f66efbcc81ca\" class=\"colab-df-container\">\n",
              "    <div>\n",
              "<style scoped>\n",
              "    .dataframe tbody tr th:only-of-type {\n",
              "        vertical-align: middle;\n",
              "    }\n",
              "\n",
              "    .dataframe tbody tr th {\n",
              "        vertical-align: top;\n",
              "    }\n",
              "\n",
              "    .dataframe thead th {\n",
              "        text-align: right;\n",
              "    }\n",
              "</style>\n",
              "<table border=\"1\" class=\"dataframe\">\n",
              "  <thead>\n",
              "    <tr style=\"text-align: right;\">\n",
              "      <th></th>\n",
              "      <th>brand</th>\n",
              "      <th>name</th>\n",
              "      <th>bodyType</th>\n",
              "      <th>fuelType</th>\n",
              "      <th>transmission</th>\n",
              "      <th>power</th>\n",
              "      <th>year</th>\n",
              "      <th>mileage</th>\n",
              "      <th>price</th>\n",
              "    </tr>\n",
              "  </thead>\n",
              "  <tbody>\n",
              "    <tr>\n",
              "      <th>0</th>\n",
              "      <td>Volkswagen</td>\n",
              "      <td>Golf</td>\n",
              "      <td>Хэтчбек 5 дв.</td>\n",
              "      <td>Бензин</td>\n",
              "      <td>Механика</td>\n",
              "      <td>101.0</td>\n",
              "      <td>NaN</td>\n",
              "      <td>240000.0</td>\n",
              "      <td>280000</td>\n",
              "    </tr>\n",
              "    <tr>\n",
              "      <th>1</th>\n",
              "      <td>Лада</td>\n",
              "      <td>1111 Ока</td>\n",
              "      <td>Хэтчбек 3 дв.</td>\n",
              "      <td>Бензин</td>\n",
              "      <td>Механика</td>\n",
              "      <td>33.0</td>\n",
              "      <td>1996.0</td>\n",
              "      <td>37000.0</td>\n",
              "      <td>95000</td>\n",
              "    </tr>\n",
              "    <tr>\n",
              "      <th>2</th>\n",
              "      <td>Toyota</td>\n",
              "      <td>Funcargo</td>\n",
              "      <td>Хэтчбек 5 дв.</td>\n",
              "      <td>Бензин</td>\n",
              "      <td>АКПП</td>\n",
              "      <td>87.0</td>\n",
              "      <td>2002.0</td>\n",
              "      <td>295000.0</td>\n",
              "      <td>380000</td>\n",
              "    </tr>\n",
              "    <tr>\n",
              "      <th>3</th>\n",
              "      <td>Лада</td>\n",
              "      <td>Гранта</td>\n",
              "      <td>Лифтбек</td>\n",
              "      <td>Бензин</td>\n",
              "      <td>Механика</td>\n",
              "      <td>106.0</td>\n",
              "      <td>2018.0</td>\n",
              "      <td>16000.0</td>\n",
              "      <td>795000</td>\n",
              "    </tr>\n",
              "    <tr>\n",
              "      <th>4</th>\n",
              "      <td>Лада</td>\n",
              "      <td>Нива Легенд</td>\n",
              "      <td>Джип 3 дв.</td>\n",
              "      <td>Бензин</td>\n",
              "      <td>Механика</td>\n",
              "      <td>83.0</td>\n",
              "      <td>NaN</td>\n",
              "      <td>NaN</td>\n",
              "      <td>1022900</td>\n",
              "    </tr>\n",
              "    <tr>\n",
              "      <th>...</th>\n",
              "      <td>...</td>\n",
              "      <td>...</td>\n",
              "      <td>...</td>\n",
              "      <td>...</td>\n",
              "      <td>...</td>\n",
              "      <td>...</td>\n",
              "      <td>...</td>\n",
              "      <td>...</td>\n",
              "      <td>...</td>\n",
              "    </tr>\n",
              "    <tr>\n",
              "      <th>9455</th>\n",
              "      <td>Toyota</td>\n",
              "      <td>Prius Alpha</td>\n",
              "      <td>Минивэн</td>\n",
              "      <td>Бензин</td>\n",
              "      <td>Вариатор</td>\n",
              "      <td>99.0</td>\n",
              "      <td>2011.0</td>\n",
              "      <td>136000.0</td>\n",
              "      <td>1130000</td>\n",
              "    </tr>\n",
              "    <tr>\n",
              "      <th>9456</th>\n",
              "      <td>Toyota</td>\n",
              "      <td>C-HR</td>\n",
              "      <td>Джип 5 дв.</td>\n",
              "      <td>Бензин</td>\n",
              "      <td>Вариатор</td>\n",
              "      <td>98.0</td>\n",
              "      <td>2018.0</td>\n",
              "      <td>70000.0</td>\n",
              "      <td>1920000</td>\n",
              "    </tr>\n",
              "    <tr>\n",
              "      <th>9457</th>\n",
              "      <td>Toyota</td>\n",
              "      <td>Corolla Fielder</td>\n",
              "      <td>Универсал</td>\n",
              "      <td>Бензин</td>\n",
              "      <td>АКПП</td>\n",
              "      <td>109.0</td>\n",
              "      <td>2002.0</td>\n",
              "      <td>200000.0</td>\n",
              "      <td>505000</td>\n",
              "    </tr>\n",
              "    <tr>\n",
              "      <th>9458</th>\n",
              "      <td>Lexus</td>\n",
              "      <td>RX350</td>\n",
              "      <td>Джип 5 дв.</td>\n",
              "      <td>Бензин</td>\n",
              "      <td>АКПП</td>\n",
              "      <td>277.0</td>\n",
              "      <td>2009.0</td>\n",
              "      <td>177000.0</td>\n",
              "      <td>2099000</td>\n",
              "    </tr>\n",
              "    <tr>\n",
              "      <th>9459</th>\n",
              "      <td>Nissan</td>\n",
              "      <td>Qashqai</td>\n",
              "      <td>Джип 5 дв.</td>\n",
              "      <td>Бензин</td>\n",
              "      <td>Вариатор</td>\n",
              "      <td>144.0</td>\n",
              "      <td>2016.0</td>\n",
              "      <td>89000.0</td>\n",
              "      <td>1568000</td>\n",
              "    </tr>\n",
              "  </tbody>\n",
              "</table>\n",
              "<p>9460 rows × 9 columns</p>\n",
              "</div>\n",
              "    <div class=\"colab-df-buttons\">\n",
              "\n",
              "  <div class=\"colab-df-container\">\n",
              "    <button class=\"colab-df-convert\" onclick=\"convertToInteractive('df-2fea4ac9-8db5-47db-8733-f66efbcc81ca')\"\n",
              "            title=\"Convert this dataframe to an interactive table.\"\n",
              "            style=\"display:none;\">\n",
              "\n",
              "  <svg xmlns=\"http://www.w3.org/2000/svg\" height=\"24px\" viewBox=\"0 -960 960 960\">\n",
              "    <path d=\"M120-120v-720h720v720H120Zm60-500h600v-160H180v160Zm220 220h160v-160H400v160Zm0 220h160v-160H400v160ZM180-400h160v-160H180v160Zm440 0h160v-160H620v160ZM180-180h160v-160H180v160Zm440 0h160v-160H620v160Z\"/>\n",
              "  </svg>\n",
              "    </button>\n",
              "\n",
              "  <style>\n",
              "    .colab-df-container {\n",
              "      display:flex;\n",
              "      gap: 12px;\n",
              "    }\n",
              "\n",
              "    .colab-df-convert {\n",
              "      background-color: #E8F0FE;\n",
              "      border: none;\n",
              "      border-radius: 50%;\n",
              "      cursor: pointer;\n",
              "      display: none;\n",
              "      fill: #1967D2;\n",
              "      height: 32px;\n",
              "      padding: 0 0 0 0;\n",
              "      width: 32px;\n",
              "    }\n",
              "\n",
              "    .colab-df-convert:hover {\n",
              "      background-color: #E2EBFA;\n",
              "      box-shadow: 0px 1px 2px rgba(60, 64, 67, 0.3), 0px 1px 3px 1px rgba(60, 64, 67, 0.15);\n",
              "      fill: #174EA6;\n",
              "    }\n",
              "\n",
              "    .colab-df-buttons div {\n",
              "      margin-bottom: 4px;\n",
              "    }\n",
              "\n",
              "    [theme=dark] .colab-df-convert {\n",
              "      background-color: #3B4455;\n",
              "      fill: #D2E3FC;\n",
              "    }\n",
              "\n",
              "    [theme=dark] .colab-df-convert:hover {\n",
              "      background-color: #434B5C;\n",
              "      box-shadow: 0px 1px 3px 1px rgba(0, 0, 0, 0.15);\n",
              "      filter: drop-shadow(0px 1px 2px rgba(0, 0, 0, 0.3));\n",
              "      fill: #FFFFFF;\n",
              "    }\n",
              "  </style>\n",
              "\n",
              "    <script>\n",
              "      const buttonEl =\n",
              "        document.querySelector('#df-2fea4ac9-8db5-47db-8733-f66efbcc81ca button.colab-df-convert');\n",
              "      buttonEl.style.display =\n",
              "        google.colab.kernel.accessAllowed ? 'block' : 'none';\n",
              "\n",
              "      async function convertToInteractive(key) {\n",
              "        const element = document.querySelector('#df-2fea4ac9-8db5-47db-8733-f66efbcc81ca');\n",
              "        const dataTable =\n",
              "          await google.colab.kernel.invokeFunction('convertToInteractive',\n",
              "                                                    [key], {});\n",
              "        if (!dataTable) return;\n",
              "\n",
              "        const docLinkHtml = 'Like what you see? Visit the ' +\n",
              "          '<a target=\"_blank\" href=https://colab.research.google.com/notebooks/data_table.ipynb>data table notebook</a>'\n",
              "          + ' to learn more about interactive tables.';\n",
              "        element.innerHTML = '';\n",
              "        dataTable['output_type'] = 'display_data';\n",
              "        await google.colab.output.renderOutput(dataTable, element);\n",
              "        const docLink = document.createElement('div');\n",
              "        docLink.innerHTML = docLinkHtml;\n",
              "        element.appendChild(docLink);\n",
              "      }\n",
              "    </script>\n",
              "  </div>\n",
              "\n",
              "\n",
              "<div id=\"df-2182d34b-84f6-477f-9113-82791ffda709\">\n",
              "  <button class=\"colab-df-quickchart\" onclick=\"quickchart('df-2182d34b-84f6-477f-9113-82791ffda709')\"\n",
              "            title=\"Suggest charts\"\n",
              "            style=\"display:none;\">\n",
              "\n",
              "<svg xmlns=\"http://www.w3.org/2000/svg\" height=\"24px\"viewBox=\"0 0 24 24\"\n",
              "     width=\"24px\">\n",
              "    <g>\n",
              "        <path d=\"M19 3H5c-1.1 0-2 .9-2 2v14c0 1.1.9 2 2 2h14c1.1 0 2-.9 2-2V5c0-1.1-.9-2-2-2zM9 17H7v-7h2v7zm4 0h-2V7h2v10zm4 0h-2v-4h2v4z\"/>\n",
              "    </g>\n",
              "</svg>\n",
              "  </button>\n",
              "\n",
              "<style>\n",
              "  .colab-df-quickchart {\n",
              "      --bg-color: #E8F0FE;\n",
              "      --fill-color: #1967D2;\n",
              "      --hover-bg-color: #E2EBFA;\n",
              "      --hover-fill-color: #174EA6;\n",
              "      --disabled-fill-color: #AAA;\n",
              "      --disabled-bg-color: #DDD;\n",
              "  }\n",
              "\n",
              "  [theme=dark] .colab-df-quickchart {\n",
              "      --bg-color: #3B4455;\n",
              "      --fill-color: #D2E3FC;\n",
              "      --hover-bg-color: #434B5C;\n",
              "      --hover-fill-color: #FFFFFF;\n",
              "      --disabled-bg-color: #3B4455;\n",
              "      --disabled-fill-color: #666;\n",
              "  }\n",
              "\n",
              "  .colab-df-quickchart {\n",
              "    background-color: var(--bg-color);\n",
              "    border: none;\n",
              "    border-radius: 50%;\n",
              "    cursor: pointer;\n",
              "    display: none;\n",
              "    fill: var(--fill-color);\n",
              "    height: 32px;\n",
              "    padding: 0;\n",
              "    width: 32px;\n",
              "  }\n",
              "\n",
              "  .colab-df-quickchart:hover {\n",
              "    background-color: var(--hover-bg-color);\n",
              "    box-shadow: 0 1px 2px rgba(60, 64, 67, 0.3), 0 1px 3px 1px rgba(60, 64, 67, 0.15);\n",
              "    fill: var(--button-hover-fill-color);\n",
              "  }\n",
              "\n",
              "  .colab-df-quickchart-complete:disabled,\n",
              "  .colab-df-quickchart-complete:disabled:hover {\n",
              "    background-color: var(--disabled-bg-color);\n",
              "    fill: var(--disabled-fill-color);\n",
              "    box-shadow: none;\n",
              "  }\n",
              "\n",
              "  .colab-df-spinner {\n",
              "    border: 2px solid var(--fill-color);\n",
              "    border-color: transparent;\n",
              "    border-bottom-color: var(--fill-color);\n",
              "    animation:\n",
              "      spin 1s steps(1) infinite;\n",
              "  }\n",
              "\n",
              "  @keyframes spin {\n",
              "    0% {\n",
              "      border-color: transparent;\n",
              "      border-bottom-color: var(--fill-color);\n",
              "      border-left-color: var(--fill-color);\n",
              "    }\n",
              "    20% {\n",
              "      border-color: transparent;\n",
              "      border-left-color: var(--fill-color);\n",
              "      border-top-color: var(--fill-color);\n",
              "    }\n",
              "    30% {\n",
              "      border-color: transparent;\n",
              "      border-left-color: var(--fill-color);\n",
              "      border-top-color: var(--fill-color);\n",
              "      border-right-color: var(--fill-color);\n",
              "    }\n",
              "    40% {\n",
              "      border-color: transparent;\n",
              "      border-right-color: var(--fill-color);\n",
              "      border-top-color: var(--fill-color);\n",
              "    }\n",
              "    60% {\n",
              "      border-color: transparent;\n",
              "      border-right-color: var(--fill-color);\n",
              "    }\n",
              "    80% {\n",
              "      border-color: transparent;\n",
              "      border-right-color: var(--fill-color);\n",
              "      border-bottom-color: var(--fill-color);\n",
              "    }\n",
              "    90% {\n",
              "      border-color: transparent;\n",
              "      border-bottom-color: var(--fill-color);\n",
              "    }\n",
              "  }\n",
              "</style>\n",
              "\n",
              "  <script>\n",
              "    async function quickchart(key) {\n",
              "      const quickchartButtonEl =\n",
              "        document.querySelector('#' + key + ' button');\n",
              "      quickchartButtonEl.disabled = true;  // To prevent multiple clicks.\n",
              "      quickchartButtonEl.classList.add('colab-df-spinner');\n",
              "      try {\n",
              "        const charts = await google.colab.kernel.invokeFunction(\n",
              "            'suggestCharts', [key], {});\n",
              "      } catch (error) {\n",
              "        console.error('Error during call to suggestCharts:', error);\n",
              "      }\n",
              "      quickchartButtonEl.classList.remove('colab-df-spinner');\n",
              "      quickchartButtonEl.classList.add('colab-df-quickchart-complete');\n",
              "    }\n",
              "    (() => {\n",
              "      let quickchartButtonEl =\n",
              "        document.querySelector('#df-2182d34b-84f6-477f-9113-82791ffda709 button');\n",
              "      quickchartButtonEl.style.display =\n",
              "        google.colab.kernel.accessAllowed ? 'block' : 'none';\n",
              "    })();\n",
              "  </script>\n",
              "</div>\n",
              "    </div>\n",
              "  </div>\n"
            ]
          },
          "metadata": {},
          "execution_count": 68
        }
      ]
    },
    {
      "cell_type": "markdown",
      "source": [
        "Список числовых и категориальных данных"
      ],
      "metadata": {
        "id": "RRZS8pRm0H5B"
      }
    },
    {
      "cell_type": "code",
      "source": [
        "cat_columns = []\n",
        "num_columns = []\n",
        "\n",
        "for column_name in df_new.columns:\n",
        "    if (df_new[column_name].dtypes == object):\n",
        "        cat_columns +=[column_name]\n",
        "    else:\n",
        "        num_columns +=[column_name]\n",
        "\n",
        "print('categorical columns:\\t ',cat_columns, '\\n len = ',len(cat_columns))\n",
        "\n",
        "print('numerical columns:\\t ',  num_columns, '\\n len = ',len(num_columns))"
      ],
      "metadata": {
        "colab": {
          "base_uri": "https://localhost:8080/"
        },
        "id": "4a_-vnH50W07",
        "outputId": "13684cd5-6aee-4d60-efbe-5291a879205a"
      },
      "execution_count": 69,
      "outputs": [
        {
          "output_type": "stream",
          "name": "stdout",
          "text": [
            "categorical columns:\t  ['brand', 'name', 'bodyType', 'fuelType', 'transmission'] \n",
            " len =  5\n",
            "numerical columns:\t  ['power', 'year', 'mileage', 'price'] \n",
            " len =  4\n"
          ]
        }
      ]
    },
    {
      "cell_type": "code",
      "source": [
        "fig, axs = plt.subplots(1,4,figsize=(20,  4))\n",
        "df_new.hist(column = num_columns, ax = axs, color='brown');"
      ],
      "metadata": {
        "colab": {
          "base_uri": "https://localhost:8080/",
          "height": 264
        },
        "id": "6XkfXNAPHUfv",
        "outputId": "766f1d2e-4803-406e-eebd-2f05148d91b6"
      },
      "execution_count": 70,
      "outputs": [
        {
          "output_type": "display_data",
          "data": {
            "text/plain": [
              "<Figure size 2000x400 with 4 Axes>"
            ],
            "image/png": "[encoded data removed]"
          },
          "metadata": {}
        }
      ]
    },
    {
      "cell_type": "markdown",
      "source": [
        "Посмотрим сколько незаполненных значений"
      ],
      "metadata": {
        "id": "-yLovq5TBYxG"
      }
    },
    {
      "cell_type": "code",
      "source": [
        "df_new.isnull().sum()"
      ],
      "metadata": {
        "colab": {
          "base_uri": "https://localhost:8080/"
        },
        "id": "DgyzDcDZ87Zp",
        "outputId": "01f35a09-a075-4f10-c731-c838d34a2354"
      },
      "execution_count": 71,
      "outputs": [
        {
          "output_type": "execute_result",
          "data": {
            "text/plain": [
              "brand              0\n",
              "name               0\n",
              "bodyType           0\n",
              "fuelType          27\n",
              "transmission      29\n",
              "power            226\n",
              "year            4691\n",
              "mileage         2434\n",
              "price              0\n",
              "dtype: int64"
            ]
          },
          "metadata": {},
          "execution_count": 71
        }
      ]
    },
    {
      "cell_type": "markdown",
      "source": [
        "Видим, что не заполненно много значений в колонке year,mileage и power. Заполним их средними значениями"
      ],
      "metadata": {
        "id": "lTQCmzlqCpRU"
      }
    },
    {
      "cell_type": "code",
      "source": [
        "df_new['year'].fillna(df_new['year'].mean(), inplace = True)\n",
        "df_new['mileage'].fillna(df_new['mileage'].mean(), inplace = True)\n",
        "df_new['power'].fillna(df_new['power'].mean(), inplace = True)\n"
      ],
      "metadata": {
        "id": "F6JjjGGTCoqs"
      },
      "execution_count": 72,
      "outputs": []
    },
    {
      "cell_type": "code",
      "source": [
        "df_new['fuelType'].value_counts()"
      ],
      "metadata": {
        "colab": {
          "base_uri": "https://localhost:8080/"
        },
        "id": "KP3m5gQUDxSZ",
        "outputId": "472d5cee-0ac3-484c-abc2-836223fe7651"
      },
      "execution_count": 73,
      "outputs": [
        {
          "output_type": "execute_result",
          "data": {
            "text/plain": [
              "Бензин     8746\n",
              "Дизель      652\n",
              "Электро      35\n",
              "Name: fuelType, dtype: int64"
            ]
          },
          "metadata": {},
          "execution_count": 73
        }
      ]
    },
    {
      "cell_type": "markdown",
      "source": [
        "видим, что самый популярный вид топлива - это бензин. Заполним недостающие значения \"Бензин\" и не будем брать в расчет электро автомобили"
      ],
      "metadata": {
        "id": "FbRVUohwFDWs"
      }
    },
    {
      "cell_type": "code",
      "source": [
        "df_new['fuelType'].replace(np.nan, 'Бензин', inplace = True)\n",
        "df_new = df_new.loc[df_new['fuelType'] != \"Электро\"]\n",
        "df_new = df_new.reset_index(drop=True)\n",
        "df_new['fuelType'].value_counts()"
      ],
      "metadata": {
        "colab": {
          "base_uri": "https://localhost:8080/"
        },
        "id": "MwIp8Pj7FRA2",
        "outputId": "e9f68781-912d-4797-da06-d79197f60ee7"
      },
      "execution_count": 75,
      "outputs": [
        {
          "output_type": "execute_result",
          "data": {
            "text/plain": [
              "Бензин    8773\n",
              "Дизель     652\n",
              "Name: fuelType, dtype: int64"
            ]
          },
          "metadata": {},
          "execution_count": 75
        }
      ]
    },
    {
      "cell_type": "code",
      "source": [
        "df_new['transmission'].value_counts()"
      ],
      "metadata": {
        "colab": {
          "base_uri": "https://localhost:8080/"
        },
        "id": "tIQtXyquFbKu",
        "outputId": "7216b8c7-77bc-43ed-a63a-269a6b126ebe"
      },
      "execution_count": 76,
      "outputs": [
        {
          "output_type": "execute_result",
          "data": {
            "text/plain": [
              "Механика    3359\n",
              "АКПП        3010\n",
              "Вариатор    2301\n",
              "Робот        436\n",
              "Автомат      290\n",
              "Name: transmission, dtype: int64"
            ]
          },
          "metadata": {},
          "execution_count": 76
        }
      ]
    },
    {
      "cell_type": "markdown",
      "source": [
        "видим что нет преобладающих значений, а незаполненных полей мало. Думаю, что можно просто удалить незаполненные"
      ],
      "metadata": {
        "id": "kiOkHlzGF7TX"
      }
    },
    {
      "cell_type": "code",
      "source": [
        "df_new = df_new.dropna(subset=['transmission'])\n",
        "df_new = df_new.reset_index(drop=True)"
      ],
      "metadata": {
        "id": "bi6TeQceGwJM"
      },
      "execution_count": 77,
      "outputs": []
    },
    {
      "cell_type": "code",
      "source": [
        "df_new.isnull().sum()"
      ],
      "metadata": {
        "colab": {
          "base_uri": "https://localhost:8080/"
        },
        "id": "oQgv7J7BDik6",
        "outputId": "a187cdac-ebf2-4929-8b5d-d3a5eb62f41f"
      },
      "execution_count": 78,
      "outputs": [
        {
          "output_type": "execute_result",
          "data": {
            "text/plain": [
              "brand           0\n",
              "name            0\n",
              "bodyType        0\n",
              "fuelType        0\n",
              "transmission    0\n",
              "power           0\n",
              "year            0\n",
              "mileage         0\n",
              "price           0\n",
              "dtype: int64"
            ]
          },
          "metadata": {},
          "execution_count": 78
        }
      ]
    },
    {
      "cell_type": "code",
      "source": [
        "fig, axs = plt.subplots(1,4,figsize=(20,  4))\n",
        "\n",
        "df_new.hist(column = num_columns, ax = axs, color='brown');"
      ],
      "metadata": {
        "colab": {
          "base_uri": "https://localhost:8080/",
          "height": 264
        },
        "id": "63JjQBdD4xK2",
        "outputId": "639f49f6-625c-4c20-c9e4-c3950e6cf055"
      },
      "execution_count": 79,
      "outputs": [
        {
          "output_type": "display_data",
          "data": {
            "text/plain": [
              "<Figure size 2000x400 with 4 Axes>"
            ],
            "image/png": "[encoded data removed]"
          },
          "metadata": {}
        }
      ]
    },
    {
      "cell_type": "markdown",
      "source": [
        "fuelType убираем из обработки, поскольку она является целевой меткой и будет обработана отдельно\n",
        "\n",
        "Остальные колонки лучше нелинейно преобразовывать"
      ],
      "metadata": {
        "id": "cvtEZxJ85vfp"
      }
    },
    {
      "cell_type": "markdown",
      "source": [
        "**PipeLine**"
      ],
      "metadata": {
        "id": "ZvJIbUYc88CQ"
      }
    },
    {
      "cell_type": "code",
      "source": [
        "class QuantileReplacer(BaseEstimator, TransformerMixin):\n",
        "    def __init__(self, threshold=0.05):\n",
        "        self.threshold = threshold\n",
        "        self.quantiles = {}\n",
        "\n",
        "    def fit(self, X, y=None):\n",
        "        for col in X.select_dtypes(include='number'):\n",
        "            low_quantile = X[col].quantile(self.threshold)\n",
        "            high_quantile = X[col].quantile(1 - self.threshold)\n",
        "            self.quantiles[col] = (low_quantile, high_quantile)\n",
        "        return self\n",
        "\n",
        "    def transform(self, X):\n",
        "        X_copy = X.copy()\n",
        "        for col in X.select_dtypes(include='number'):\n",
        "            low_quantile, high_quantile = self.quantiles[col]\n",
        "            rare_mask = ((X[col] < low_quantile) | (X[col] > high_quantile))\n",
        "            if rare_mask.any():\n",
        "                rare_values = X_copy.loc[rare_mask, col]\n",
        "                replace_value = np.mean([low_quantile, high_quantile])\n",
        "                if rare_values.mean() > replace_value:\n",
        "                    X_copy.loc[rare_mask, col] = high_quantile\n",
        "                else:\n",
        "                    X_copy.loc[rare_mask, col] = low_quantile\n",
        "        return X_copy"
      ],
      "metadata": {
        "id": "eC-PIv9X3VZr"
      },
      "execution_count": 80,
      "outputs": []
    },
    {
      "cell_type": "code",
      "source": [
        "class RareGrouper(BaseEstimator, TransformerMixin):\n",
        "    def __init__(self, threshold=0.05, other_value='Other'):\n",
        "        self.threshold = threshold\n",
        "        self.other_value = other_value\n",
        "        self.freq_dict = {}\n",
        "\n",
        "    def fit(self, X, y=None):\n",
        "        for col in X.select_dtypes(include=['object']):\n",
        "            freq = X[col].value_counts(normalize=True)\n",
        "            self.freq_dict[col] = freq[freq >= self.threshold].index.tolist()\n",
        "        return self\n",
        "\n",
        "    def transform(self, X, y=None):\n",
        "        X_copy = X.copy()\n",
        "        for col in X.select_dtypes(include=['object']):\n",
        "            X_copy[col] = X_copy[col].apply(lambda x: x if x in self.freq_dict[col] else self.other_value)\n",
        "        return X_copy"
      ],
      "metadata": {
        "id": "hHYP_G0x3bNc"
      },
      "execution_count": 81,
      "outputs": []
    },
    {
      "cell_type": "code",
      "source": [
        "num_pipe_year_mileage = Pipeline([\n",
        "    ('power', PowerTransformer())\n",
        "])\n",
        "\n",
        "num_pipe = ['year','power','mileage']\n",
        "\n",
        "cat_pipe_style_fuel = Pipeline([\n",
        "    ('encoder', OneHotEncoder(drop='if_binary', handle_unknown='ignore', sparse_output=False))\n",
        "\n",
        "])\n",
        "\n",
        "num_pipe_price = Pipeline([\n",
        "    ('QuantReplace', QuantileReplacer(threshold=0.01, )),\n",
        "    ('power', PowerTransformer())\n",
        "])\n",
        "\n",
        "num_price = ['price']\n",
        "\n",
        "cat_style_fuel = ['bodyType']\n",
        "\n",
        "cat_pipe_brand = Pipeline([\n",
        "    ('replace_rare', RareGrouper(threshold=0.001, other_value='Other')),\n",
        "    ('encoder', OneHotEncoder(drop='if_binary', handle_unknown='ignore', sparse_output=False))\n",
        "])\n",
        "\n",
        "cat_brand = ['brand']\n",
        "\n",
        "cat_pipe_name = Pipeline([\n",
        "    ('replace_rare', RareGrouper(threshold=0.0001, other_value='Other')),\n",
        "    ('encoder', OneHotEncoder(drop='if_binary', handle_unknown='ignore', sparse_output=False))\n",
        "])\n",
        "\n",
        "cat_name = ['name']\n",
        "\n",
        "# Сделаем отдельно Pipeline с числовыми признаками\n",
        "preprocessors_num = ColumnTransformer(transformers=[\n",
        "    ('num_pipe', num_pipe_year_mileage, num_pipe),\n",
        "    ('num_price', num_pipe_price, num_price)\n",
        "])\n",
        "\n",
        "# и Pipeline со всеми признаками\n",
        "preprocessors_all = ColumnTransformer(transformers=[\n",
        "    ('num_pipe', num_pipe_year_mileage, num_pipe),\n",
        "    ('cat_style_fuel', cat_pipe_style_fuel, cat_style_fuel),\n",
        "    ('cat_brand', cat_pipe_brand, cat_brand),\n",
        "    ('cat_name', cat_pipe_name, cat_name),\n",
        "])"
      ],
      "metadata": {
        "id": "sgAkPdQr3c9v"
      },
      "execution_count": 82,
      "outputs": []
    },
    {
      "cell_type": "code",
      "source": [
        "# объединяем названия колонок в один список (важен порядок как в ColumnTransformer)\n",
        "columns_num = np.hstack([num_pipe,\n",
        "                        num_price ])"
      ],
      "metadata": {
        "id": "E70l__jF3g0R"
      },
      "execution_count": 83,
      "outputs": []
    },
    {
      "cell_type": "markdown",
      "source": [
        "**Логистическая регрессия**"
      ],
      "metadata": {
        "id": "se2AdTDfMJTd"
      }
    },
    {
      "cell_type": "code",
      "source": [
        "from sklearn.linear_model import LogisticRegression # Логистичекая регрессия от scikit-learn\n",
        "\n",
        "from sklearn.model_selection import train_test_split#  функция разбиения на тренировочную и тестовую выборку\n",
        "# в исполнении scikit-learn\n",
        "\n",
        "from sklearn.model_selection import StratifiedKFold # при кросс-валидации разбиваем данные в пропорции целевой метки\n",
        "from sklearn.model_selection import cross_validate # функция кросс-валидации от Scikit-learn\n",
        "\n",
        "from sklearn.metrics import f1_score # f1-мера от Scikit-learn\n",
        "from sklearn.metrics import classification_report # функция scikit-learn которая считает много метрик классификации"
      ],
      "metadata": {
        "id": "dzKIdk2zLqjE"
      },
      "execution_count": 84,
      "outputs": []
    },
    {
      "cell_type": "markdown",
      "source": [
        "**Считываем данные, разбиваем на тестовую и тренировочную**"
      ],
      "metadata": {
        "id": "6uoIy4RWMN8N"
      }
    },
    {
      "cell_type": "code",
      "source": [
        "# не забываем удалить целевую переменную \"мощность двигателя\" из признаков\n",
        "X,y = df_new.drop(columns = ['fuelType']), df_new['fuelType']"
      ],
      "metadata": {
        "id": "z7A2d4QtMRmg"
      },
      "execution_count": 85,
      "outputs": []
    },
    {
      "cell_type": "markdown",
      "source": [
        "**Приводим целевые метки к 0 и 1**"
      ],
      "metadata": {
        "id": "H4TnzAZDt_08"
      }
    },
    {
      "cell_type": "code",
      "source": [
        "Label = LabelEncoder()\n",
        "Label.fit(y) # задаем столбец, который хотим преобразовать\n",
        "Label.classes_ # в аттрибуте .classes_ хранится информация \"какой класс как шифруется\""
      ],
      "metadata": {
        "colab": {
          "base_uri": "https://localhost:8080/"
        },
        "id": "eK-LF2nluFBy",
        "outputId": "b6a67d00-ccab-4e9a-c17f-4f985c7d7613"
      },
      "execution_count": 86,
      "outputs": [
        {
          "output_type": "execute_result",
          "data": {
            "text/plain": [
              "array(['Бензин', 'Дизель'], dtype=object)"
            ]
          },
          "metadata": {},
          "execution_count": 86
        }
      ]
    },
    {
      "cell_type": "markdown",
      "source": [
        "Бензин - 0,\n",
        "Дизель - 1"
      ],
      "metadata": {
        "id": "0wH_6RMdv3dC"
      }
    },
    {
      "cell_type": "code",
      "source": [
        "target = Label.transform(y) # преобразуем и сохраняем в новую переменную\n",
        "target"
      ],
      "metadata": {
        "colab": {
          "base_uri": "https://localhost:8080/"
        },
        "id": "02E2fr9cwDxb",
        "outputId": "71f5f932-d936-494a-c496-292cbaeca29f"
      },
      "execution_count": 87,
      "outputs": [
        {
          "output_type": "execute_result",
          "data": {
            "text/plain": [
              "array([0, 0, 0, ..., 0, 0, 0])"
            ]
          },
          "metadata": {},
          "execution_count": 87
        }
      ]
    },
    {
      "cell_type": "code",
      "source": [
        "# разбиваем на тренировочную и валидационную\n",
        "X_train, X_val, y_train, y_val = train_test_split(X, target,\n",
        "                                                    test_size=0.3,\n",
        "                                                    random_state=42)\n",
        "X_train"
      ],
      "metadata": {
        "colab": {
          "base_uri": "https://localhost:8080/",
          "height": 423
        },
        "id": "IVyAk5UWwFsN",
        "outputId": "6700c2fd-5d12-4433-a51e-b9b67685a3a6"
      },
      "execution_count": 88,
      "outputs": [
        {
          "output_type": "execute_result",
          "data": {
            "text/plain": [
              "           brand         name       bodyType transmission  power        year  \\\n",
              "1412       Honda        Freed        Минивэн     Вариатор  118.0  2007.94653   \n",
              "6851         BMW           X6     Джип 5 дв.         АКПП  400.0  2020.00000   \n",
              "3455        Лада       Гранта          Седан     Механика   90.0  2022.00000   \n",
              "1722        Opel       Meriva        Минивэн         АКПП  120.0  2007.94653   \n",
              "5840    Daihatsu         Mira  Хэтчбек 5 дв.         АКПП   58.0  2007.94653   \n",
              "...          ...          ...            ...          ...    ...         ...   \n",
              "5734  Mitsubishi    Outlander     Джип 5 дв.     Вариатор  146.0  2007.94653   \n",
              "5191      Toyota        Prius        Лифтбек     Вариатор   76.0  2008.00000   \n",
              "5390      Toyota      Succeed      Универсал         АКПП  109.0  2012.00000   \n",
              "860        EXEED          TXL     Джип 5 дв.        Робот  186.0  2021.00000   \n",
              "7270       Honda  Freed Spike        Минивэн     Вариатор  118.0  2007.94653   \n",
              "\n",
              "            mileage    price  \n",
              "1412  169000.000000   980000  \n",
              "6851   48000.000000  9444444  \n",
              "3455  157764.873328   786900  \n",
              "1722   43000.000000   930000  \n",
              "5840  250000.000000   265000  \n",
              "...             ...      ...  \n",
              "5734  142000.000000  1395000  \n",
              "5191    1000.000000   720000  \n",
              "5390    1000.000000   698000  \n",
              "860   157764.873328  4249900  \n",
              "7270  138000.000000   845000  \n",
              "\n",
              "[6577 rows x 8 columns]"
            ],
            "text/html": [
              "\n",
              "  <div id=\"df-1afba110-b6aa-43be-a39f-3a92bd0bc14b\" class=\"colab-df-container\">\n",
              "    <div>\n",
              "<style scoped>\n",
              "    .dataframe tbody tr th:only-of-type {\n",
              "        vertical-align: middle;\n",
              "    }\n",
              "\n",
              "    .dataframe tbody tr th {\n",
              "        vertical-align: top;\n",
              "    }\n",
              "\n",
              "    .dataframe thead th {\n",
              "        text-align: right;\n",
              "    }\n",
              "</style>\n",
              "<table border=\"1\" class=\"dataframe\">\n",
              "  <thead>\n",
              "    <tr style=\"text-align: right;\">\n",
              "      <th></th>\n",
              "      <th>brand</th>\n",
              "      <th>name</th>\n",
              "      <th>bodyType</th>\n",
              "      <th>transmission</th>\n",
              "      <th>power</th>\n",
              "      <th>year</th>\n",
              "      <th>mileage</th>\n",
              "      <th>price</th>\n",
              "    </tr>\n",
              "  </thead>\n",
              "  <tbody>\n",
              "    <tr>\n",
              "      <th>1412</th>\n",
              "      <td>Honda</td>\n",
              "      <td>Freed</td>\n",
              "      <td>Минивэн</td>\n",
              "      <td>Вариатор</td>\n",
              "      <td>118.0</td>\n",
              "      <td>2007.94653</td>\n",
              "      <td>169000.000000</td>\n",
              "      <td>980000</td>\n",
              "    </tr>\n",
              "    <tr>\n",
              "      <th>6851</th>\n",
              "      <td>BMW</td>\n",
              "      <td>X6</td>\n",
              "      <td>Джип 5 дв.</td>\n",
              "      <td>АКПП</td>\n",
              "      <td>400.0</td>\n",
              "      <td>2020.00000</td>\n",
              "      <td>48000.000000</td>\n",
              "      <td>9444444</td>\n",
              "    </tr>\n",
              "    <tr>\n",
              "      <th>3455</th>\n",
              "      <td>Лада</td>\n",
              "      <td>Гранта</td>\n",
              "      <td>Седан</td>\n",
              "      <td>Механика</td>\n",
              "      <td>90.0</td>\n",
              "      <td>2022.00000</td>\n",
              "      <td>157764.873328</td>\n",
              "      <td>786900</td>\n",
              "    </tr>\n",
              "    <tr>\n",
              "      <th>1722</th>\n",
              "      <td>Opel</td>\n",
              "      <td>Meriva</td>\n",
              "      <td>Минивэн</td>\n",
              "      <td>АКПП</td>\n",
              "      <td>120.0</td>\n",
              "      <td>2007.94653</td>\n",
              "      <td>43000.000000</td>\n",
              "      <td>930000</td>\n",
              "    </tr>\n",
              "    <tr>\n",
              "      <th>5840</th>\n",
              "      <td>Daihatsu</td>\n",
              "      <td>Mira</td>\n",
              "      <td>Хэтчбек 5 дв.</td>\n",
              "      <td>АКПП</td>\n",
              "      <td>58.0</td>\n",
              "      <td>2007.94653</td>\n",
              "      <td>250000.000000</td>\n",
              "      <td>265000</td>\n",
              "    </tr>\n",
              "    <tr>\n",
              "      <th>...</th>\n",
              "      <td>...</td>\n",
              "      <td>...</td>\n",
              "      <td>...</td>\n",
              "      <td>...</td>\n",
              "      <td>...</td>\n",
              "      <td>...</td>\n",
              "      <td>...</td>\n",
              "      <td>...</td>\n",
              "    </tr>\n",
              "    <tr>\n",
              "      <th>5734</th>\n",
              "      <td>Mitsubishi</td>\n",
              "      <td>Outlander</td>\n",
              "      <td>Джип 5 дв.</td>\n",
              "      <td>Вариатор</td>\n",
              "      <td>146.0</td>\n",
              "      <td>2007.94653</td>\n",
              "      <td>142000.000000</td>\n",
              "      <td>1395000</td>\n",
              "    </tr>\n",
              "    <tr>\n",
              "      <th>5191</th>\n",
              "      <td>Toyota</td>\n",
              "      <td>Prius</td>\n",
              "      <td>Лифтбек</td>\n",
              "      <td>Вариатор</td>\n",
              "      <td>76.0</td>\n",
              "      <td>2008.00000</td>\n",
              "      <td>1000.000000</td>\n",
              "      <td>720000</td>\n",
              "    </tr>\n",
              "    <tr>\n",
              "      <th>5390</th>\n",
              "      <td>Toyota</td>\n",
              "      <td>Succeed</td>\n",
              "      <td>Универсал</td>\n",
              "      <td>АКПП</td>\n",
              "      <td>109.0</td>\n",
              "      <td>2012.00000</td>\n",
              "      <td>1000.000000</td>\n",
              "      <td>698000</td>\n",
              "    </tr>\n",
              "    <tr>\n",
              "      <th>860</th>\n",
              "      <td>EXEED</td>\n",
              "      <td>TXL</td>\n",
              "      <td>Джип 5 дв.</td>\n",
              "      <td>Робот</td>\n",
              "      <td>186.0</td>\n",
              "      <td>2021.00000</td>\n",
              "      <td>157764.873328</td>\n",
              "      <td>4249900</td>\n",
              "    </tr>\n",
              "    <tr>\n",
              "      <th>7270</th>\n",
              "      <td>Honda</td>\n",
              "      <td>Freed Spike</td>\n",
              "      <td>Минивэн</td>\n",
              "      <td>Вариатор</td>\n",
              "      <td>118.0</td>\n",
              "      <td>2007.94653</td>\n",
              "      <td>138000.000000</td>\n",
              "      <td>845000</td>\n",
              "    </tr>\n",
              "  </tbody>\n",
              "</table>\n",
              "<p>6577 rows × 8 columns</p>\n",
              "</div>\n",
              "    <div class=\"colab-df-buttons\">\n",
              "\n",
              "  <div class=\"colab-df-container\">\n",
              "    <button class=\"colab-df-convert\" onclick=\"convertToInteractive('df-1afba110-b6aa-43be-a39f-3a92bd0bc14b')\"\n",
              "            title=\"Convert this dataframe to an interactive table.\"\n",
              "            style=\"display:none;\">\n",
              "\n",
              "  <svg xmlns=\"http://www.w3.org/2000/svg\" height=\"24px\" viewBox=\"0 -960 960 960\">\n",
              "    <path d=\"M120-120v-720h720v720H120Zm60-500h600v-160H180v160Zm220 220h160v-160H400v160Zm0 220h160v-160H400v160ZM180-400h160v-160H180v160Zm440 0h160v-160H620v160ZM180-180h160v-160H180v160Zm440 0h160v-160H620v160Z\"/>\n",
              "  </svg>\n",
              "    </button>\n",
              "\n",
              "  <style>\n",
              "    .colab-df-container {\n",
              "      display:flex;\n",
              "      gap: 12px;\n",
              "    }\n",
              "\n",
              "    .colab-df-convert {\n",
              "      background-color: #E8F0FE;\n",
              "      border: none;\n",
              "      border-radius: 50%;\n",
              "      cursor: pointer;\n",
              "      display: none;\n",
              "      fill: #1967D2;\n",
              "      height: 32px;\n",
              "      padding: 0 0 0 0;\n",
              "      width: 32px;\n",
              "    }\n",
              "\n",
              "    .colab-df-convert:hover {\n",
              "      background-color: #E2EBFA;\n",
              "      box-shadow: 0px 1px 2px rgba(60, 64, 67, 0.3), 0px 1px 3px 1px rgba(60, 64, 67, 0.15);\n",
              "      fill: #174EA6;\n",
              "    }\n",
              "\n",
              "    .colab-df-buttons div {\n",
              "      margin-bottom: 4px;\n",
              "    }\n",
              "\n",
              "    [theme=dark] .colab-df-convert {\n",
              "      background-color: #3B4455;\n",
              "      fill: #D2E3FC;\n",
              "    }\n",
              "\n",
              "    [theme=dark] .colab-df-convert:hover {\n",
              "      background-color: #434B5C;\n",
              "      box-shadow: 0px 1px 3px 1px rgba(0, 0, 0, 0.15);\n",
              "      filter: drop-shadow(0px 1px 2px rgba(0, 0, 0, 0.3));\n",
              "      fill: #FFFFFF;\n",
              "    }\n",
              "  </style>\n",
              "\n",
              "    <script>\n",
              "      const buttonEl =\n",
              "        document.querySelector('#df-1afba110-b6aa-43be-a39f-3a92bd0bc14b button.colab-df-convert');\n",
              "      buttonEl.style.display =\n",
              "        google.colab.kernel.accessAllowed ? 'block' : 'none';\n",
              "\n",
              "      async function convertToInteractive(key) {\n",
              "        const element = document.querySelector('#df-1afba110-b6aa-43be-a39f-3a92bd0bc14b');\n",
              "        const dataTable =\n",
              "          await google.colab.kernel.invokeFunction('convertToInteractive',\n",
              "                                                    [key], {});\n",
              "        if (!dataTable) return;\n",
              "\n",
              "        const docLinkHtml = 'Like what you see? Visit the ' +\n",
              "          '<a target=\"_blank\" href=https://colab.research.google.com/notebooks/data_table.ipynb>data table notebook</a>'\n",
              "          + ' to learn more about interactive tables.';\n",
              "        element.innerHTML = '';\n",
              "        dataTable['output_type'] = 'display_data';\n",
              "        await google.colab.output.renderOutput(dataTable, element);\n",
              "        const docLink = document.createElement('div');\n",
              "        docLink.innerHTML = docLinkHtml;\n",
              "        element.appendChild(docLink);\n",
              "      }\n",
              "    </script>\n",
              "  </div>\n",
              "\n",
              "\n",
              "<div id=\"df-18b5b156-ce83-42f5-be1a-5094d095f55d\">\n",
              "  <button class=\"colab-df-quickchart\" onclick=\"quickchart('df-18b5b156-ce83-42f5-be1a-5094d095f55d')\"\n",
              "            title=\"Suggest charts\"\n",
              "            style=\"display:none;\">\n",
              "\n",
              "<svg xmlns=\"http://www.w3.org/2000/svg\" height=\"24px\"viewBox=\"0 0 24 24\"\n",
              "     width=\"24px\">\n",
              "    <g>\n",
              "        <path d=\"M19 3H5c-1.1 0-2 .9-2 2v14c0 1.1.9 2 2 2h14c1.1 0 2-.9 2-2V5c0-1.1-.9-2-2-2zM9 17H7v-7h2v7zm4 0h-2V7h2v10zm4 0h-2v-4h2v4z\"/>\n",
              "    </g>\n",
              "</svg>\n",
              "  </button>\n",
              "\n",
              "<style>\n",
              "  .colab-df-quickchart {\n",
              "      --bg-color: #E8F0FE;\n",
              "      --fill-color: #1967D2;\n",
              "      --hover-bg-color: #E2EBFA;\n",
              "      --hover-fill-color: #174EA6;\n",
              "      --disabled-fill-color: #AAA;\n",
              "      --disabled-bg-color: #DDD;\n",
              "  }\n",
              "\n",
              "  [theme=dark] .colab-df-quickchart {\n",
              "      --bg-color: #3B4455;\n",
              "      --fill-color: #D2E3FC;\n",
              "      --hover-bg-color: #434B5C;\n",
              "      --hover-fill-color: #FFFFFF;\n",
              "      --disabled-bg-color: #3B4455;\n",
              "      --disabled-fill-color: #666;\n",
              "  }\n",
              "\n",
              "  .colab-df-quickchart {\n",
              "    background-color: var(--bg-color);\n",
              "    border: none;\n",
              "    border-radius: 50%;\n",
              "    cursor: pointer;\n",
              "    display: none;\n",
              "    fill: var(--fill-color);\n",
              "    height: 32px;\n",
              "    padding: 0;\n",
              "    width: 32px;\n",
              "  }\n",
              "\n",
              "  .colab-df-quickchart:hover {\n",
              "    background-color: var(--hover-bg-color);\n",
              "    box-shadow: 0 1px 2px rgba(60, 64, 67, 0.3), 0 1px 3px 1px rgba(60, 64, 67, 0.15);\n",
              "    fill: var(--button-hover-fill-color);\n",
              "  }\n",
              "\n",
              "  .colab-df-quickchart-complete:disabled,\n",
              "  .colab-df-quickchart-complete:disabled:hover {\n",
              "    background-color: var(--disabled-bg-color);\n",
              "    fill: var(--disabled-fill-color);\n",
              "    box-shadow: none;\n",
              "  }\n",
              "\n",
              "  .colab-df-spinner {\n",
              "    border: 2px solid var(--fill-color);\n",
              "    border-color: transparent;\n",
              "    border-bottom-color: var(--fill-color);\n",
              "    animation:\n",
              "      spin 1s steps(1) infinite;\n",
              "  }\n",
              "\n",
              "  @keyframes spin {\n",
              "    0% {\n",
              "      border-color: transparent;\n",
              "      border-bottom-color: var(--fill-color);\n",
              "      border-left-color: var(--fill-color);\n",
              "    }\n",
              "    20% {\n",
              "      border-color: transparent;\n",
              "      border-left-color: var(--fill-color);\n",
              "      border-top-color: var(--fill-color);\n",
              "    }\n",
              "    30% {\n",
              "      border-color: transparent;\n",
              "      border-left-color: var(--fill-color);\n",
              "      border-top-color: var(--fill-color);\n",
              "      border-right-color: var(--fill-color);\n",
              "    }\n",
              "    40% {\n",
              "      border-color: transparent;\n",
              "      border-right-color: var(--fill-color);\n",
              "      border-top-color: var(--fill-color);\n",
              "    }\n",
              "    60% {\n",
              "      border-color: transparent;\n",
              "      border-right-color: var(--fill-color);\n",
              "    }\n",
              "    80% {\n",
              "      border-color: transparent;\n",
              "      border-right-color: var(--fill-color);\n",
              "      border-bottom-color: var(--fill-color);\n",
              "    }\n",
              "    90% {\n",
              "      border-color: transparent;\n",
              "      border-bottom-color: var(--fill-color);\n",
              "    }\n",
              "  }\n",
              "</style>\n",
              "\n",
              "  <script>\n",
              "    async function quickchart(key) {\n",
              "      const quickchartButtonEl =\n",
              "        document.querySelector('#' + key + ' button');\n",
              "      quickchartButtonEl.disabled = true;  // To prevent multiple clicks.\n",
              "      quickchartButtonEl.classList.add('colab-df-spinner');\n",
              "      try {\n",
              "        const charts = await google.colab.kernel.invokeFunction(\n",
              "            'suggestCharts', [key], {});\n",
              "      } catch (error) {\n",
              "        console.error('Error during call to suggestCharts:', error);\n",
              "      }\n",
              "      quickchartButtonEl.classList.remove('colab-df-spinner');\n",
              "      quickchartButtonEl.classList.add('colab-df-quickchart-complete');\n",
              "    }\n",
              "    (() => {\n",
              "      let quickchartButtonEl =\n",
              "        document.querySelector('#df-18b5b156-ce83-42f5-be1a-5094d095f55d button');\n",
              "      quickchartButtonEl.style.display =\n",
              "        google.colab.kernel.accessAllowed ? 'block' : 'none';\n",
              "    })();\n",
              "  </script>\n",
              "</div>\n",
              "    </div>\n",
              "  </div>\n"
            ]
          },
          "metadata": {},
          "execution_count": 88
        }
      ]
    },
    {
      "cell_type": "markdown",
      "source": [
        "**Оценим модель с использованием только числовых данных**"
      ],
      "metadata": {
        "id": "_epv_79fMwlg"
      }
    },
    {
      "cell_type": "markdown",
      "source": [
        "Преобразуем данные"
      ],
      "metadata": {
        "id": "4_BY9B2LMzQK"
      }
    },
    {
      "cell_type": "code",
      "source": [
        "# Сначала обучаем на тренировочных данных\n",
        "X_train_prep = preprocessors_num.fit_transform(X_train)\n",
        "# потом на валидационной\n",
        "X_val_prep = preprocessors_num.transform(X_val)"
      ],
      "metadata": {
        "id": "v9R7olo7Mx8W"
      },
      "execution_count": 89,
      "outputs": []
    },
    {
      "cell_type": "markdown",
      "source": [
        "Обучаем модель"
      ],
      "metadata": {
        "id": "8RAsd-faM173"
      }
    },
    {
      "cell_type": "code",
      "source": [
        "model = LogisticRegression(random_state = 42)\n",
        "\n",
        "model.fit(X_train_prep, y_train);"
      ],
      "metadata": {
        "id": "SKfMQCJHM4wh"
      },
      "execution_count": 90,
      "outputs": []
    },
    {
      "cell_type": "markdown",
      "source": [
        "**Подготовим несколько функций для анализа обученной модели**"
      ],
      "metadata": {
        "id": "j7KWDiBiM8Od"
      }
    },
    {
      "cell_type": "markdown",
      "source": [
        "вытаскивание коэффициентов из модели"
      ],
      "metadata": {
        "id": "L9BXAwuCM_Iy"
      }
    },
    {
      "cell_type": "code",
      "source": [
        "def get_coefs (model):\n",
        "    \"\"\"Берем веса как атрибуты обученной модели.\n",
        "    Входные переменные:\n",
        "    ===========\n",
        "    model: обученная модель\n",
        "    \"\"\"\n",
        "    B0=model.intercept_[0]\n",
        "    B=model.coef_[0]\n",
        "    return B0, B"
      ],
      "metadata": {
        "id": "ljdU93vKNCfW"
      },
      "execution_count": 91,
      "outputs": []
    },
    {
      "cell_type": "markdown",
      "source": [
        "написание модели"
      ],
      "metadata": {
        "id": "ffxus1FtNAwo"
      }
    },
    {
      "cell_type": "code",
      "source": [
        "def print_model (B0,B,features_names):\n",
        "    \"\"\"Написание уравнения модели.\n",
        "    Входные переменные:\n",
        "    ===========\n",
        "    B0: смещение (независимый коэффициент)\n",
        "    weights: веса признаков\n",
        "    features_names: список названий признаков\n",
        "    \"\"\"\n",
        "    line='{:.3f}'.format(B0)\n",
        "    sign=['+','-']\n",
        "    for p,(fn,b) in enumerate(zip(features_names,B)):\n",
        "        line=line+sign[int(0.5*(np.sign(b)-1))]+'{:.2f}*'.format(np.abs(b))+fn\n",
        "\n",
        "    print('Решение')\n",
        "    print(line)"
      ],
      "metadata": {
        "id": "DaRTnJltNFsL"
      },
      "execution_count": 92,
      "outputs": []
    },
    {
      "cell_type": "markdown",
      "source": [
        "визуализации весов в виде столбчатых диаграмм"
      ],
      "metadata": {
        "id": "sDfhWzqtNJmq"
      }
    },
    {
      "cell_type": "code",
      "source": [
        "def vis_weigths(weights,features_names = None, width = 1200, height = 600):\n",
        "    \"\"\"Отрисовка весов.\n",
        "    Входные переменные:\n",
        "    ===========\n",
        "    weights: веса признаков\n",
        "    features_names: список названий признаков\n",
        "    \"\"\"\n",
        "    numbers = np.arange(0,len(weights))                 # создаем массив от 0 до количество весов-1\n",
        "    if features_names:\n",
        "        tick_labels = np.hstack(['B0',features_names])\n",
        "    else:\n",
        "        tick_labels = ['B'+str(num) for num in numbers] # создаем \"названия\" весов\n",
        "    fig = go.Figure()\n",
        "    fig.add_trace(go.Bar(x=numbers[weights<0], y=weights[weights<0],\n",
        "                    marker_color='red',\n",
        "                    name='отрицательные веса'))\n",
        "    fig.add_trace(go.Bar(x=numbers[weights>=0], y=weights[weights>=0],\n",
        "                    marker_color='blue',\n",
        "                    name='положительные веса'\n",
        "                    ))\n",
        "\n",
        "    fig.update_layout(\n",
        "                title=\"Веса модели\",\n",
        "                width=width,\n",
        "                height=height,\n",
        "                template = \"plotly_dark\",\n",
        "                xaxis = dict(\n",
        "                                         tickmode = 'array',\n",
        "                                         tickvals = numbers,\n",
        "                                         ticktext = tick_labels,\n",
        "                                         )\n",
        "                )\n",
        "\n",
        "    fig.show()"
      ],
      "metadata": {
        "id": "eRiOWB0jNH3P"
      },
      "execution_count": 93,
      "outputs": []
    },
    {
      "cell_type": "markdown",
      "source": [
        "Напишем уравнение модели"
      ],
      "metadata": {
        "id": "Dn_A0VikNOah"
      }
    },
    {
      "cell_type": "code",
      "source": [
        "B0, B = get_coefs(model)\n",
        "features_names = list(columns_num)\n",
        "print_model(B0,B,features_names)"
      ],
      "metadata": {
        "colab": {
          "base_uri": "https://localhost:8080/"
        },
        "id": "WZ8Hu4v7NPq1",
        "outputId": "d16fe144-7ad7-47b5-a506-d742761d6c26"
      },
      "execution_count": 94,
      "outputs": [
        {
          "output_type": "stream",
          "name": "stdout",
          "text": [
            "Решение\n",
            "-3.148-0.70*year+0.40*power+0.25*mileage+0.99*price\n"
          ]
        }
      ]
    },
    {
      "cell_type": "markdown",
      "source": [
        "Визуализируем веса в виде столбчатых диаграмм"
      ],
      "metadata": {
        "id": "_1dq0vyfNcfK"
      }
    },
    {
      "cell_type": "code",
      "source": [
        "Bs = np.hstack([B0,B])\n",
        "vis_weigths(Bs,features_names)"
      ],
      "metadata": {
        "colab": {
          "base_uri": "https://localhost:8080/",
          "height": 637
        },
        "id": "GjXHVelTNeVY",
        "outputId": "7c13a205-ca75-43f3-d219-1f28cb314b60"
      },
      "execution_count": 95,
      "outputs": [
        {
          "output_type": "display_data",
          "data": {
            "text/html": [
              "<html>\n",
              "<head><meta charset=\"utf-8\" /></head>\n",
              "<body>\n",
              "    <div>            <script src=\"https://cdnjs.cloudflare.com/ajax/libs/mathjax/2.7.5/MathJax.js?config=TeX-AMS-MML_SVG\"></script><script type=\"text/javascript\">if (window.MathJax && window.MathJax.Hub && window.MathJax.Hub.Config) {window.MathJax.Hub.Config({SVG: {font: \"STIX-Web\"}});}</script>                <script type=\"text/javascript\">window.PlotlyConfig = {MathJaxConfig: 'local'};</script>\n",
              "        <script charset=\"utf-8\" src=\"https://cdn.plot.ly/plotly-2.24.1.min.js\"></script>                <div id=\"ce4dd762-cae0-4b6f-905a-47ee45fed690\" class=\"plotly-graph-div\" style=\"height:600px; width:1200px;\"></div>            <script type=\"text/javascript\">                                    window.PLOTLYENV=window.PLOTLYENV || {};                                    if (document.getElementById(\"ce4dd762-cae0-4b6f-905a-47ee45fed690\")) {                    Plotly.newPlot(                        \"ce4dd762-cae0-4b6f-905a-47ee45fed690\",                        [{\"marker\":{\"color\":\"red\"},\"name\":\"\\u043e\\u0442\\u0440\\u0438\\u0446\\u0430\\u0442\\u0435\\u043b\\u044c\\u043d\\u044b\\u0435 \\u0432\\u0435\\u0441\\u0430\",\"x\":[0,1],\"y\":[-3.1483720319759882,-0.7033780228906722],\"type\":\"bar\"},{\"marker\":{\"color\":\"blue\"},\"name\":\"\\u043f\\u043e\\u043b\\u043e\\u0436\\u0438\\u0442\\u0435\\u043b\\u044c\\u043d\\u044b\\u0435 \\u0432\\u0435\\u0441\\u0430\",\"x\":[2,3,4],\"y\":[0.40373213495152915,0.24618526457047557,0.9927807296748856],\"type\":\"bar\"}],                        {\"template\":{\"data\":{\"barpolar\":[{\"marker\":{\"line\":{\"color\":\"rgb(17,17,17)\",\"width\":0.5},\"pattern\":{\"fillmode\":\"overlay\",\"size\":10,\"solidity\":0.2}},\"type\":\"barpolar\"}],\"bar\":[{\"error_x\":{\"color\":\"#f2f5fa\"},\"error_y\":{\"color\":\"#f2f5fa\"},\"marker\":{\"line\":{\"color\":\"rgb(17,17,17)\",\"width\":0.5},\"pattern\":{\"fillmode\":\"overlay\",\"size\":10,\"solidity\":0.2}},\"type\":\"bar\"}],\"carpet\":[{\"aaxis\":{\"endlinecolor\":\"#A2B1C6\",\"gridcolor\":\"#506784\",\"linecolor\":\"#506784\",\"minorgridcolor\":\"#506784\",\"startlinecolor\":\"#A2B1C6\"},\"baxis\":{\"endlinecolor\":\"#A2B1C6\",\"gridcolor\":\"#506784\",\"linecolor\":\"#506784\",\"minorgridcolor\":\"#506784\",\"startlinecolor\":\"#A2B1C6\"},\"type\":\"carpet\"}],\"choropleth\":[{\"colorbar\":{\"outlinewidth\":0,\"ticks\":\"\"},\"type\":\"choropleth\"}],\"contourcarpet\":[{\"colorbar\":{\"outlinewidth\":0,\"ticks\":\"\"},\"type\":\"contourcarpet\"}],\"contour\":[{\"colorbar\":{\"outlinewidth\":0,\"ticks\":\"\"},\"colorscale\":[[0.0,\"#0d0887\"],[0.1111111111111111,\"#46039f\"],[0.2222222222222222,\"#7201a8\"],[0.3333333333333333,\"#9c179e\"],[0.4444444444444444,\"#bd3786\"],[0.5555555555555556,\"#d8576b\"],[0.6666666666666666,\"#ed7953\"],[0.7777777777777778,\"#fb9f3a\"],[0.8888888888888888,\"#fdca26\"],[1.0,\"#f0f921\"]],\"type\":\"contour\"}],\"heatmapgl\":[{\"colorbar\":{\"outlinewidth\":0,\"ticks\":\"\"},\"colorscale\":[[0.0,\"#0d0887\"],[0.1111111111111111,\"#46039f\"],[0.2222222222222222,\"#7201a8\"],[0.3333333333333333,\"#9c179e\"],[0.4444444444444444,\"#bd3786\"],[0.5555555555555556,\"#d8576b\"],[0.6666666666666666,\"#ed7953\"],[0.7777777777777778,\"#fb9f3a\"],[0.8888888888888888,\"#fdca26\"],[1.0,\"#f0f921\"]],\"type\":\"heatmapgl\"}],\"heatmap\":[{\"colorbar\":{\"outlinewidth\":0,\"ticks\":\"\"},\"colorscale\":[[0.0,\"#0d0887\"],[0.1111111111111111,\"#46039f\"],[0.2222222222222222,\"#7201a8\"],[0.3333333333333333,\"#9c179e\"],[0.4444444444444444,\"#bd3786\"],[0.5555555555555556,\"#d8576b\"],[0.6666666666666666,\"#ed7953\"],[0.7777777777777778,\"#fb9f3a\"],[0.8888888888888888,\"#fdca26\"],[1.0,\"#f0f921\"]],\"type\":\"heatmap\"}],\"histogram2dcontour\":[{\"colorbar\":{\"outlinewidth\":0,\"ticks\":\"\"},\"colorscale\":[[0.0,\"#0d0887\"],[0.1111111111111111,\"#46039f\"],[0.2222222222222222,\"#7201a8\"],[0.3333333333333333,\"#9c179e\"],[0.4444444444444444,\"#bd3786\"],[0.5555555555555556,\"#d8576b\"],[0.6666666666666666,\"#ed7953\"],[0.7777777777777778,\"#fb9f3a\"],[0.8888888888888888,\"#fdca26\"],[1.0,\"#f0f921\"]],\"type\":\"histogram2dcontour\"}],\"histogram2d\":[{\"colorbar\":{\"outlinewidth\":0,\"ticks\":\"\"},\"colorscale\":[[0.0,\"#0d0887\"],[0.1111111111111111,\"#46039f\"],[0.2222222222222222,\"#7201a8\"],[0.3333333333333333,\"#9c179e\"],[0.4444444444444444,\"#bd3786\"],[0.5555555555555556,\"#d8576b\"],[0.6666666666666666,\"#ed7953\"],[0.7777777777777778,\"#fb9f3a\"],[0.8888888888888888,\"#fdca26\"],[1.0,\"#f0f921\"]],\"type\":\"histogram2d\"}],\"histogram\":[{\"marker\":{\"pattern\":{\"fillmode\":\"overlay\",\"size\":10,\"solidity\":0.2}},\"type\":\"histogram\"}],\"mesh3d\":[{\"colorbar\":{\"outlinewidth\":0,\"ticks\":\"\"},\"type\":\"mesh3d\"}],\"parcoords\":[{\"line\":{\"colorbar\":{\"outlinewidth\":0,\"ticks\":\"\"}},\"type\":\"parcoords\"}],\"pie\":[{\"automargin\":true,\"type\":\"pie\"}],\"scatter3d\":[{\"line\":{\"colorbar\":{\"outlinewidth\":0,\"ticks\":\"\"}},\"marker\":{\"colorbar\":{\"outlinewidth\":0,\"ticks\":\"\"}},\"type\":\"scatter3d\"}],\"scattercarpet\":[{\"marker\":{\"colorbar\":{\"outlinewidth\":0,\"ticks\":\"\"}},\"type\":\"scattercarpet\"}],\"scattergeo\":[{\"marker\":{\"colorbar\":{\"outlinewidth\":0,\"ticks\":\"\"}},\"type\":\"scattergeo\"}],\"scattergl\":[{\"marker\":{\"line\":{\"color\":\"#283442\"}},\"type\":\"scattergl\"}],\"scattermapbox\":[{\"marker\":{\"colorbar\":{\"outlinewidth\":0,\"ticks\":\"\"}},\"type\":\"scattermapbox\"}],\"scatterpolargl\":[{\"marker\":{\"colorbar\":{\"outlinewidth\":0,\"ticks\":\"\"}},\"type\":\"scatterpolargl\"}],\"scatterpolar\":[{\"marker\":{\"colorbar\":{\"outlinewidth\":0,\"ticks\":\"\"}},\"type\":\"scatterpolar\"}],\"scatter\":[{\"marker\":{\"line\":{\"color\":\"#283442\"}},\"type\":\"scatter\"}],\"scatterternary\":[{\"marker\":{\"colorbar\":{\"outlinewidth\":0,\"ticks\":\"\"}},\"type\":\"scatterternary\"}],\"surface\":[{\"colorbar\":{\"outlinewidth\":0,\"ticks\":\"\"},\"colorscale\":[[0.0,\"#0d0887\"],[0.1111111111111111,\"#46039f\"],[0.2222222222222222,\"#7201a8\"],[0.3333333333333333,\"#9c179e\"],[0.4444444444444444,\"#bd3786\"],[0.5555555555555556,\"#d8576b\"],[0.6666666666666666,\"#ed7953\"],[0.7777777777777778,\"#fb9f3a\"],[0.8888888888888888,\"#fdca26\"],[1.0,\"#f0f921\"]],\"type\":\"surface\"}],\"table\":[{\"cells\":{\"fill\":{\"color\":\"#506784\"},\"line\":{\"color\":\"rgb(17,17,17)\"}},\"header\":{\"fill\":{\"color\":\"#2a3f5f\"},\"line\":{\"color\":\"rgb(17,17,17)\"}},\"type\":\"table\"}]},\"layout\":{\"annotationdefaults\":{\"arrowcolor\":\"#f2f5fa\",\"arrowhead\":0,\"arrowwidth\":1},\"autotypenumbers\":\"strict\",\"coloraxis\":{\"colorbar\":{\"outlinewidth\":0,\"ticks\":\"\"}},\"colorscale\":{\"diverging\":[[0,\"#8e0152\"],[0.1,\"#c51b7d\"],[0.2,\"#de77ae\"],[0.3,\"#f1b6da\"],[0.4,\"#fde0ef\"],[0.5,\"#f7f7f7\"],[0.6,\"#e6f5d0\"],[0.7,\"#b8e186\"],[0.8,\"#7fbc41\"],[0.9,\"#4d9221\"],[1,\"#276419\"]],\"sequential\":[[0.0,\"#0d0887\"],[0.1111111111111111,\"#46039f\"],[0.2222222222222222,\"#7201a8\"],[0.3333333333333333,\"#9c179e\"],[0.4444444444444444,\"#bd3786\"],[0.5555555555555556,\"#d8576b\"],[0.6666666666666666,\"#ed7953\"],[0.7777777777777778,\"#fb9f3a\"],[0.8888888888888888,\"#fdca26\"],[1.0,\"#f0f921\"]],\"sequentialminus\":[[0.0,\"#0d0887\"],[0.1111111111111111,\"#46039f\"],[0.2222222222222222,\"#7201a8\"],[0.3333333333333333,\"#9c179e\"],[0.4444444444444444,\"#bd3786\"],[0.5555555555555556,\"#d8576b\"],[0.6666666666666666,\"#ed7953\"],[0.7777777777777778,\"#fb9f3a\"],[0.8888888888888888,\"#fdca26\"],[1.0,\"#f0f921\"]]},\"colorway\":[\"#636efa\",\"#EF553B\",\"#00cc96\",\"#ab63fa\",\"#FFA15A\",\"#19d3f3\",\"#FF6692\",\"#B6E880\",\"#FF97FF\",\"#FECB52\"],\"font\":{\"color\":\"#f2f5fa\"},\"geo\":{\"bgcolor\":\"rgb(17,17,17)\",\"lakecolor\":\"rgb(17,17,17)\",\"landcolor\":\"rgb(17,17,17)\",\"showlakes\":true,\"showland\":true,\"subunitcolor\":\"#506784\"},\"hoverlabel\":{\"align\":\"left\"},\"hovermode\":\"closest\",\"mapbox\":{\"style\":\"dark\"},\"paper_bgcolor\":\"rgb(17,17,17)\",\"plot_bgcolor\":\"rgb(17,17,17)\",\"polar\":{\"angularaxis\":{\"gridcolor\":\"#506784\",\"linecolor\":\"#506784\",\"ticks\":\"\"},\"bgcolor\":\"rgb(17,17,17)\",\"radialaxis\":{\"gridcolor\":\"#506784\",\"linecolor\":\"#506784\",\"ticks\":\"\"}},\"scene\":{\"xaxis\":{\"backgroundcolor\":\"rgb(17,17,17)\",\"gridcolor\":\"#506784\",\"gridwidth\":2,\"linecolor\":\"#506784\",\"showbackground\":true,\"ticks\":\"\",\"zerolinecolor\":\"#C8D4E3\"},\"yaxis\":{\"backgroundcolor\":\"rgb(17,17,17)\",\"gridcolor\":\"#506784\",\"gridwidth\":2,\"linecolor\":\"#506784\",\"showbackground\":true,\"ticks\":\"\",\"zerolinecolor\":\"#C8D4E3\"},\"zaxis\":{\"backgroundcolor\":\"rgb(17,17,17)\",\"gridcolor\":\"#506784\",\"gridwidth\":2,\"linecolor\":\"#506784\",\"showbackground\":true,\"ticks\":\"\",\"zerolinecolor\":\"#C8D4E3\"}},\"shapedefaults\":{\"line\":{\"color\":\"#f2f5fa\"}},\"sliderdefaults\":{\"bgcolor\":\"#C8D4E3\",\"bordercolor\":\"rgb(17,17,17)\",\"borderwidth\":1,\"tickwidth\":0},\"ternary\":{\"aaxis\":{\"gridcolor\":\"#506784\",\"linecolor\":\"#506784\",\"ticks\":\"\"},\"baxis\":{\"gridcolor\":\"#506784\",\"linecolor\":\"#506784\",\"ticks\":\"\"},\"bgcolor\":\"rgb(17,17,17)\",\"caxis\":{\"gridcolor\":\"#506784\",\"linecolor\":\"#506784\",\"ticks\":\"\"}},\"title\":{\"x\":0.05},\"updatemenudefaults\":{\"bgcolor\":\"#506784\",\"borderwidth\":0},\"xaxis\":{\"automargin\":true,\"gridcolor\":\"#283442\",\"linecolor\":\"#506784\",\"ticks\":\"\",\"title\":{\"standoff\":15},\"zerolinecolor\":\"#283442\",\"zerolinewidth\":2},\"yaxis\":{\"automargin\":true,\"gridcolor\":\"#283442\",\"linecolor\":\"#506784\",\"ticks\":\"\",\"title\":{\"standoff\":15},\"zerolinecolor\":\"#283442\",\"zerolinewidth\":2}}},\"xaxis\":{\"tickmode\":\"array\",\"tickvals\":[0,1,2,3,4],\"ticktext\":[\"B0\",\"year\",\"power\",\"mileage\",\"price\"]},\"title\":{\"text\":\"\\u0412\\u0435\\u0441\\u0430 \\u043c\\u043e\\u0434\\u0435\\u043b\\u0438\"},\"width\":1200,\"height\":600},                        {\"responsive\": true}                    ).then(function(){\n",
              "                            \n",
              "var gd = document.getElementById('ce4dd762-cae0-4b6f-905a-47ee45fed690');\n",
              "var x = new MutationObserver(function (mutations, observer) {{\n",
              "        var display = window.getComputedStyle(gd).display;\n",
              "        if (!display || display === 'none') {{\n",
              "            console.log([gd, 'removed!']);\n",
              "            Plotly.purge(gd);\n",
              "            observer.disconnect();\n",
              "        }}\n",
              "}});\n",
              "\n",
              "// Listen for the removal of the full notebook cells\n",
              "var notebookContainer = gd.closest('#notebook-container');\n",
              "if (notebookContainer) {{\n",
              "    x.observe(notebookContainer, {childList: true});\n",
              "}}\n",
              "\n",
              "// Listen for the clearing of the current output cell\n",
              "var outputEl = gd.closest('.output');\n",
              "if (outputEl) {{\n",
              "    x.observe(outputEl, {childList: true});\n",
              "}}\n",
              "\n",
              "                        })                };                            </script>        </div>\n",
              "</body>\n",
              "</html>"
            ]
          },
          "metadata": {}
        }
      ]
    },
    {
      "cell_type": "markdown",
      "source": [
        "Оценка метрик"
      ],
      "metadata": {
        "id": "pebZ8pfYNuXQ"
      }
    },
    {
      "cell_type": "code",
      "source": [
        "def calculate_metric(model_pipe, X, y, metric = f1_score):\n",
        "    \"\"\"Расчет метрики.\n",
        "    Параметры:\n",
        "    ===========\n",
        "    model_pipe: модель или pipeline\n",
        "    X: признаки\n",
        "    y: истинные значения\n",
        "    metric: метрика (f1 - по умолчанию)\n",
        "    \"\"\"\n",
        "    y_model = model_pipe.predict(X)\n",
        "    return metric(y, y_model)\n",
        "\n",
        "print(f\"f1 на тренировочной выборке: {calculate_metric(model, X_train_prep, y_train):.4f}\")\n",
        "print(f\"f1 на валидационной выборке: {calculate_metric(model, X_val_prep, y_val):.4f}\")"
      ],
      "metadata": {
        "colab": {
          "base_uri": "https://localhost:8080/"
        },
        "id": "wevijDpPNvnw",
        "outputId": "4fd008ed-439e-4fc9-eff5-b7c97ee75dcf"
      },
      "execution_count": 96,
      "outputs": [
        {
          "output_type": "stream",
          "name": "stdout",
          "text": [
            "f1 на тренировочной выборке: 0.0173\n",
            "f1 на валидационной выборке: 0.0000\n"
          ]
        }
      ]
    },
    {
      "cell_type": "code",
      "source": [
        "print(classification_report(y_val, model.predict(X_val_prep), target_names=Label.classes_))"
      ],
      "metadata": {
        "colab": {
          "base_uri": "https://localhost:8080/"
        },
        "id": "DLH46qxqzY1C",
        "outputId": "845c2c3d-9187-40f9-8d89-d7f83321be2b"
      },
      "execution_count": 97,
      "outputs": [
        {
          "output_type": "stream",
          "name": "stdout",
          "text": [
            "              precision    recall  f1-score   support\n",
            "\n",
            "      Бензин       0.92      1.00      0.96      2604\n",
            "      Дизель       0.00      0.00      0.00       215\n",
            "\n",
            "    accuracy                           0.92      2819\n",
            "   macro avg       0.46      0.50      0.48      2819\n",
            "weighted avg       0.85      0.92      0.89      2819\n",
            "\n"
          ]
        }
      ]
    },
    {
      "cell_type": "markdown",
      "source": [
        "Кросс-валидация"
      ],
      "metadata": {
        "id": "biEVgT9UN3z8"
      }
    },
    {
      "cell_type": "code",
      "source": [
        "def cross_validation (X, y, model, scoring, cv_rule):\n",
        "    \"\"\"Расчет метрик на кросс-валидации.\n",
        "    Параметры:\n",
        "    ===========\n",
        "    model: модель или pipeline\n",
        "    X: признаки\n",
        "    y: истинные значения\n",
        "    scoring: словарь метрик\n",
        "    cv_rule: правило кросс-валидации\n",
        "    \"\"\"\n",
        "    scores = cross_validate(model,X, y,\n",
        "                      scoring=scoring, cv=cv_rule )\n",
        "    print('Ошибка на кросс-валидации')\n",
        "    DF_score = pd.DataFrame(scores)\n",
        "    display(DF_score)\n",
        "    print('\\n')\n",
        "    print(DF_score.mean()[2:])"
      ],
      "metadata": {
        "id": "lk9JwvGdN5pA"
      },
      "execution_count": 98,
      "outputs": []
    },
    {
      "cell_type": "code",
      "source": [
        "scoring_clf = {'ACC': 'accuracy',\n",
        "           'F1': 'f1',\n",
        "           'Precision': 'precision',\n",
        "           'Recall': 'recall'}"
      ],
      "metadata": {
        "id": "Kami3L2IN8mf"
      },
      "execution_count": 99,
      "outputs": []
    },
    {
      "cell_type": "code",
      "source": [
        "cross_validation (X_train_prep, y_train,\n",
        "                  model,\n",
        "                  scoring_clf,\n",
        "                  StratifiedKFold(n_splits=5, shuffle= True, random_state = 42))"
      ],
      "metadata": {
        "colab": {
          "base_uri": "https://localhost:8080/",
          "height": 345
        },
        "id": "eEVtElViN-SF",
        "outputId": "687007e6-a82f-4279-f396-b6d847353be0"
      },
      "execution_count": 100,
      "outputs": [
        {
          "output_type": "stream",
          "name": "stdout",
          "text": [
            "Ошибка на кросс-валидации\n"
          ]
        },
        {
          "output_type": "display_data",
          "data": {
            "text/plain": [
              "   fit_time  score_time  test_ACC   test_F1  test_Precision  test_Recall\n",
              "0  0.020629    0.019279  0.928571  0.040816        0.181818     0.022989\n",
              "1  0.019696    0.020694  0.931611  0.021739        0.250000     0.011364\n",
              "2  0.026597    0.013141  0.929278  0.000000        0.000000     0.000000\n",
              "3  0.021428    0.010526  0.932319  0.021978        0.250000     0.011494\n",
              "4  0.012132    0.007982  0.933080  0.022222        0.333333     0.011494"
            ],
            "text/html": [
              "\n",
              "  <div id=\"df-9f453f88-48e6-4066-b421-fdec4542a786\" class=\"colab-df-container\">\n",
              "    <div>\n",
              "<style scoped>\n",
              "    .dataframe tbody tr th:only-of-type {\n",
              "        vertical-align: middle;\n",
              "    }\n",
              "\n",
              "    .dataframe tbody tr th {\n",
              "        vertical-align: top;\n",
              "    }\n",
              "\n",
              "    .dataframe thead th {\n",
              "        text-align: right;\n",
              "    }\n",
              "</style>\n",
              "<table border=\"1\" class=\"dataframe\">\n",
              "  <thead>\n",
              "    <tr style=\"text-align: right;\">\n",
              "      <th></th>\n",
              "      <th>fit_time</th>\n",
              "      <th>score_time</th>\n",
              "      <th>test_ACC</th>\n",
              "      <th>test_F1</th>\n",
              "      <th>test_Precision</th>\n",
              "      <th>test_Recall</th>\n",
              "    </tr>\n",
              "  </thead>\n",
              "  <tbody>\n",
              "    <tr>\n",
              "      <th>0</th>\n",
              "      <td>0.020629</td>\n",
              "      <td>0.019279</td>\n",
              "      <td>0.928571</td>\n",
              "      <td>0.040816</td>\n",
              "      <td>0.181818</td>\n",
              "      <td>0.022989</td>\n",
              "    </tr>\n",
              "    <tr>\n",
              "      <th>1</th>\n",
              "      <td>0.019696</td>\n",
              "      <td>0.020694</td>\n",
              "      <td>0.931611</td>\n",
              "      <td>0.021739</td>\n",
              "      <td>0.250000</td>\n",
              "      <td>0.011364</td>\n",
              "    </tr>\n",
              "    <tr>\n",
              "      <th>2</th>\n",
              "      <td>0.026597</td>\n",
              "      <td>0.013141</td>\n",
              "      <td>0.929278</td>\n",
              "      <td>0.000000</td>\n",
              "      <td>0.000000</td>\n",
              "      <td>0.000000</td>\n",
              "    </tr>\n",
              "    <tr>\n",
              "      <th>3</th>\n",
              "      <td>0.021428</td>\n",
              "      <td>0.010526</td>\n",
              "      <td>0.932319</td>\n",
              "      <td>0.021978</td>\n",
              "      <td>0.250000</td>\n",
              "      <td>0.011494</td>\n",
              "    </tr>\n",
              "    <tr>\n",
              "      <th>4</th>\n",
              "      <td>0.012132</td>\n",
              "      <td>0.007982</td>\n",
              "      <td>0.933080</td>\n",
              "      <td>0.022222</td>\n",
              "      <td>0.333333</td>\n",
              "      <td>0.011494</td>\n",
              "    </tr>\n",
              "  </tbody>\n",
              "</table>\n",
              "</div>\n",
              "    <div class=\"colab-df-buttons\">\n",
              "\n",
              "  <div class=\"colab-df-container\">\n",
              "    <button class=\"colab-df-convert\" onclick=\"convertToInteractive('df-9f453f88-48e6-4066-b421-fdec4542a786')\"\n",
              "            title=\"Convert this dataframe to an interactive table.\"\n",
              "            style=\"display:none;\">\n",
              "\n",
              "  <svg xmlns=\"http://www.w3.org/2000/svg\" height=\"24px\" viewBox=\"0 -960 960 960\">\n",
              "    <path d=\"M120-120v-720h720v720H120Zm60-500h600v-160H180v160Zm220 220h160v-160H400v160Zm0 220h160v-160H400v160ZM180-400h160v-160H180v160Zm440 0h160v-160H620v160ZM180-180h160v-160H180v160Zm440 0h160v-160H620v160Z\"/>\n",
              "  </svg>\n",
              "    </button>\n",
              "\n",
              "  <style>\n",
              "    .colab-df-container {\n",
              "      display:flex;\n",
              "      gap: 12px;\n",
              "    }\n",
              "\n",
              "    .colab-df-convert {\n",
              "      background-color: #E8F0FE;\n",
              "      border: none;\n",
              "      border-radius: 50%;\n",
              "      cursor: pointer;\n",
              "      display: none;\n",
              "      fill: #1967D2;\n",
              "      height: 32px;\n",
              "      padding: 0 0 0 0;\n",
              "      width: 32px;\n",
              "    }\n",
              "\n",
              "    .colab-df-convert:hover {\n",
              "      background-color: #E2EBFA;\n",
              "      box-shadow: 0px 1px 2px rgba(60, 64, 67, 0.3), 0px 1px 3px 1px rgba(60, 64, 67, 0.15);\n",
              "      fill: #174EA6;\n",
              "    }\n",
              "\n",
              "    .colab-df-buttons div {\n",
              "      margin-bottom: 4px;\n",
              "    }\n",
              "\n",
              "    [theme=dark] .colab-df-convert {\n",
              "      background-color: #3B4455;\n",
              "      fill: #D2E3FC;\n",
              "    }\n",
              "\n",
              "    [theme=dark] .colab-df-convert:hover {\n",
              "      background-color: #434B5C;\n",
              "      box-shadow: 0px 1px 3px 1px rgba(0, 0, 0, 0.15);\n",
              "      filter: drop-shadow(0px 1px 2px rgba(0, 0, 0, 0.3));\n",
              "      fill: #FFFFFF;\n",
              "    }\n",
              "  </style>\n",
              "\n",
              "    <script>\n",
              "      const buttonEl =\n",
              "        document.querySelector('#df-9f453f88-48e6-4066-b421-fdec4542a786 button.colab-df-convert');\n",
              "      buttonEl.style.display =\n",
              "        google.colab.kernel.accessAllowed ? 'block' : 'none';\n",
              "\n",
              "      async function convertToInteractive(key) {\n",
              "        const element = document.querySelector('#df-9f453f88-48e6-4066-b421-fdec4542a786');\n",
              "        const dataTable =\n",
              "          await google.colab.kernel.invokeFunction('convertToInteractive',\n",
              "                                                    [key], {});\n",
              "        if (!dataTable) return;\n",
              "\n",
              "        const docLinkHtml = 'Like what you see? Visit the ' +\n",
              "          '<a target=\"_blank\" href=https://colab.research.google.com/notebooks/data_table.ipynb>data table notebook</a>'\n",
              "          + ' to learn more about interactive tables.';\n",
              "        element.innerHTML = '';\n",
              "        dataTable['output_type'] = 'display_data';\n",
              "        await google.colab.output.renderOutput(dataTable, element);\n",
              "        const docLink = document.createElement('div');\n",
              "        docLink.innerHTML = docLinkHtml;\n",
              "        element.appendChild(docLink);\n",
              "      }\n",
              "    </script>\n",
              "  </div>\n",
              "\n",
              "\n",
              "<div id=\"df-e9e4da3c-3da2-4e43-8d3a-a12189e56057\">\n",
              "  <button class=\"colab-df-quickchart\" onclick=\"quickchart('df-e9e4da3c-3da2-4e43-8d3a-a12189e56057')\"\n",
              "            title=\"Suggest charts\"\n",
              "            style=\"display:none;\">\n",
              "\n",
              "<svg xmlns=\"http://www.w3.org/2000/svg\" height=\"24px\"viewBox=\"0 0 24 24\"\n",
              "     width=\"24px\">\n",
              "    <g>\n",
              "        <path d=\"M19 3H5c-1.1 0-2 .9-2 2v14c0 1.1.9 2 2 2h14c1.1 0 2-.9 2-2V5c0-1.1-.9-2-2-2zM9 17H7v-7h2v7zm4 0h-2V7h2v10zm4 0h-2v-4h2v4z\"/>\n",
              "    </g>\n",
              "</svg>\n",
              "  </button>\n",
              "\n",
              "<style>\n",
              "  .colab-df-quickchart {\n",
              "      --bg-color: #E8F0FE;\n",
              "      --fill-color: #1967D2;\n",
              "      --hover-bg-color: #E2EBFA;\n",
              "      --hover-fill-color: #174EA6;\n",
              "      --disabled-fill-color: #AAA;\n",
              "      --disabled-bg-color: #DDD;\n",
              "  }\n",
              "\n",
              "  [theme=dark] .colab-df-quickchart {\n",
              "      --bg-color: #3B4455;\n",
              "      --fill-color: #D2E3FC;\n",
              "      --hover-bg-color: #434B5C;\n",
              "      --hover-fill-color: #FFFFFF;\n",
              "      --disabled-bg-color: #3B4455;\n",
              "      --disabled-fill-color: #666;\n",
              "  }\n",
              "\n",
              "  .colab-df-quickchart {\n",
              "    background-color: var(--bg-color);\n",
              "    border: none;\n",
              "    border-radius: 50%;\n",
              "    cursor: pointer;\n",
              "    display: none;\n",
              "    fill: var(--fill-color);\n",
              "    height: 32px;\n",
              "    padding: 0;\n",
              "    width: 32px;\n",
              "  }\n",
              "\n",
              "  .colab-df-quickchart:hover {\n",
              "    background-color: var(--hover-bg-color);\n",
              "    box-shadow: 0 1px 2px rgba(60, 64, 67, 0.3), 0 1px 3px 1px rgba(60, 64, 67, 0.15);\n",
              "    fill: var(--button-hover-fill-color);\n",
              "  }\n",
              "\n",
              "  .colab-df-quickchart-complete:disabled,\n",
              "  .colab-df-quickchart-complete:disabled:hover {\n",
              "    background-color: var(--disabled-bg-color);\n",
              "    fill: var(--disabled-fill-color);\n",
              "    box-shadow: none;\n",
              "  }\n",
              "\n",
              "  .colab-df-spinner {\n",
              "    border: 2px solid var(--fill-color);\n",
              "    border-color: transparent;\n",
              "    border-bottom-color: var(--fill-color);\n",
              "    animation:\n",
              "      spin 1s steps(1) infinite;\n",
              "  }\n",
              "\n",
              "  @keyframes spin {\n",
              "    0% {\n",
              "      border-color: transparent;\n",
              "      border-bottom-color: var(--fill-color);\n",
              "      border-left-color: var(--fill-color);\n",
              "    }\n",
              "    20% {\n",
              "      border-color: transparent;\n",
              "      border-left-color: var(--fill-color);\n",
              "      border-top-color: var(--fill-color);\n",
              "    }\n",
              "    30% {\n",
              "      border-color: transparent;\n",
              "      border-left-color: var(--fill-color);\n",
              "      border-top-color: var(--fill-color);\n",
              "      border-right-color: var(--fill-color);\n",
              "    }\n",
              "    40% {\n",
              "      border-color: transparent;\n",
              "      border-right-color: var(--fill-color);\n",
              "      border-top-color: var(--fill-color);\n",
              "    }\n",
              "    60% {\n",
              "      border-color: transparent;\n",
              "      border-right-color: var(--fill-color);\n",
              "    }\n",
              "    80% {\n",
              "      border-color: transparent;\n",
              "      border-right-color: var(--fill-color);\n",
              "      border-bottom-color: var(--fill-color);\n",
              "    }\n",
              "    90% {\n",
              "      border-color: transparent;\n",
              "      border-bottom-color: var(--fill-color);\n",
              "    }\n",
              "  }\n",
              "</style>\n",
              "\n",
              "  <script>\n",
              "    async function quickchart(key) {\n",
              "      const quickchartButtonEl =\n",
              "        document.querySelector('#' + key + ' button');\n",
              "      quickchartButtonEl.disabled = true;  // To prevent multiple clicks.\n",
              "      quickchartButtonEl.classList.add('colab-df-spinner');\n",
              "      try {\n",
              "        const charts = await google.colab.kernel.invokeFunction(\n",
              "            'suggestCharts', [key], {});\n",
              "      } catch (error) {\n",
              "        console.error('Error during call to suggestCharts:', error);\n",
              "      }\n",
              "      quickchartButtonEl.classList.remove('colab-df-spinner');\n",
              "      quickchartButtonEl.classList.add('colab-df-quickchart-complete');\n",
              "    }\n",
              "    (() => {\n",
              "      let quickchartButtonEl =\n",
              "        document.querySelector('#df-e9e4da3c-3da2-4e43-8d3a-a12189e56057 button');\n",
              "      quickchartButtonEl.style.display =\n",
              "        google.colab.kernel.accessAllowed ? 'block' : 'none';\n",
              "    })();\n",
              "  </script>\n",
              "</div>\n",
              "    </div>\n",
              "  </div>\n"
            ]
          },
          "metadata": {}
        },
        {
          "output_type": "stream",
          "name": "stdout",
          "text": [
            "\n",
            "\n",
            "test_ACC          0.930972\n",
            "test_F1           0.021351\n",
            "test_Precision    0.203030\n",
            "test_Recall       0.011468\n",
            "dtype: float64\n"
          ]
        }
      ]
    },
    {
      "cell_type": "markdown",
      "source": [
        "Небольшие выводы по модели:\n",
        "\n",
        "используя только 4 числовых признака можно достаточно хорошо предсказывать тип топлива\n",
        "\n",
        "модель выглядит \"логично\": с ростом мощности двигателя, пробега и цены \"увеличивается\" вероятность того что автомобиль имеет бензиновый двигатель, а с ростом года - вероятность того что автомобиль имеет дизельный двигатель"
      ],
      "metadata": {
        "id": "fxzMJQZ6zrF3"
      }
    },
    {
      "cell_type": "markdown",
      "source": [
        "**Объединяем Pipeline Предобработки и Модель**"
      ],
      "metadata": {
        "id": "XOnEN56H0W9b"
      }
    },
    {
      "cell_type": "code",
      "source": [
        "pipe_num = Pipeline([\n",
        "    ('preprocessors', preprocessors_num),\n",
        "    ('model', LogisticRegression(random_state = 42))\n",
        "])\n",
        "pipe_num['preprocessors']"
      ],
      "metadata": {
        "colab": {
          "base_uri": "https://localhost:8080/",
          "height": 150
        },
        "id": "Sobl6sCh0ZMk",
        "outputId": "2e06c84f-29dd-4087-d547-c8042f5f540f"
      },
      "execution_count": 102,
      "outputs": [
        {
          "output_type": "execute_result",
          "data": {
            "text/plain": [
              "ColumnTransformer(transformers=[('num_pipe',\n",
              "                                 Pipeline(steps=[('power',\n",
              "                                                  PowerTransformer())]),\n",
              "                                 ['year', 'power', 'mileage']),\n",
              "                                ('num_price',\n",
              "                                 Pipeline(steps=[('QuantReplace',\n",
              "                                                  QuantileReplacer(threshold=0.01)),\n",
              "                                                 ('power',\n",
              "                                                  PowerTransformer())]),\n",
              "                                 ['price'])])"
            ],
            "text/html": [
              "<style>#sk-container-id-1 {color: black;background-color: white;}#sk-container-id-1 pre{padding: 0;}#sk-container-id-1 div.sk-toggleable {background-color: white;}#sk-container-id-1 label.sk-toggleable__label {cursor: pointer;display: block;width: 100%;margin-bottom: 0;padding: 0.3em;box-sizing: border-box;text-align: center;}#sk-container-id-1 label.sk-toggleable__label-arrow:before {content: \"▸\";float: left;margin-right: 0.25em;color: #696969;}#sk-container-id-1 label.sk-toggleable__label-arrow:hover:before {color: black;}#sk-container-id-1 div.sk-estimator:hover label.sk-toggleable__label-arrow:before {color: black;}#sk-container-id-1 div.sk-toggleable__content {max-height: 0;max-width: 0;overflow: hidden;text-align: left;background-color: #f0f8ff;}#sk-container-id-1 div.sk-toggleable__content pre {margin: 0.2em;color: black;border-radius: 0.25em;background-color: #f0f8ff;}#sk-container-id-1 input.sk-toggleable__control:checked~div.sk-toggleable__content {max-height: 200px;max-width: 100%;overflow: auto;}#sk-container-id-1 input.sk-toggleable__control:checked~label.sk-toggleable__label-arrow:before {content: \"▾\";}#sk-container-id-1 div.sk-estimator input.sk-toggleable__control:checked~label.sk-toggleable__label {background-color: #d4ebff;}#sk-container-id-1 div.sk-label input.sk-toggleable__control:checked~label.sk-toggleable__label {background-color: #d4ebff;}#sk-container-id-1 input.sk-hidden--visually {border: 0;clip: rect(1px 1px 1px 1px);clip: rect(1px, 1px, 1px, 1px);height: 1px;margin: -1px;overflow: hidden;padding: 0;position: absolute;width: 1px;}#sk-container-id-1 div.sk-estimator {font-family: monospace;background-color: #f0f8ff;border: 1px dotted black;border-radius: 0.25em;box-sizing: border-box;margin-bottom: 0.5em;}#sk-container-id-1 div.sk-estimator:hover {background-color: #d4ebff;}#sk-container-id-1 div.sk-parallel-item::after {content: \"\";width: 100%;border-bottom: 1px solid gray;flex-grow: 1;}#sk-container-id-1 div.sk-label:hover label.sk-toggleable__label {background-color: #d4ebff;}#sk-container-id-1 div.sk-serial::before {content: \"\";position: absolute;border-left: 1px solid gray;box-sizing: border-box;top: 0;bottom: 0;left: 50%;z-index: 0;}#sk-container-id-1 div.sk-serial {display: flex;flex-direction: column;align-items: center;background-color: white;padding-right: 0.2em;padding-left: 0.2em;position: relative;}#sk-container-id-1 div.sk-item {position: relative;z-index: 1;}#sk-container-id-1 div.sk-parallel {display: flex;align-items: stretch;justify-content: center;background-color: white;position: relative;}#sk-container-id-1 div.sk-item::before, #sk-container-id-1 div.sk-parallel-item::before {content: \"\";position: absolute;border-left: 1px solid gray;box-sizing: border-box;top: 0;bottom: 0;left: 50%;z-index: -1;}#sk-container-id-1 div.sk-parallel-item {display: flex;flex-direction: column;z-index: 1;position: relative;background-color: white;}#sk-container-id-1 div.sk-parallel-item:first-child::after {align-self: flex-end;width: 50%;}#sk-container-id-1 div.sk-parallel-item:last-child::after {align-self: flex-start;width: 50%;}#sk-container-id-1 div.sk-parallel-item:only-child::after {width: 0;}#sk-container-id-1 div.sk-dashed-wrapped {border: 1px dashed gray;margin: 0 0.4em 0.5em 0.4em;box-sizing: border-box;padding-bottom: 0.4em;background-color: white;}#sk-container-id-1 div.sk-label label {font-family: monospace;font-weight: bold;display: inline-block;line-height: 1.2em;}#sk-container-id-1 div.sk-label-container {text-align: center;}#sk-container-id-1 div.sk-container {/* jupyter's `normalize.less` sets `[hidden] { display: none; }` but bootstrap.min.css set `[hidden] { display: none !important; }` so we also need the `!important` here to be able to override the default hidden behavior on the sphinx rendered scikit-learn.org. See: https://github.com/scikit-learn/scikit-learn/issues/21755 */display: inline-block !important;position: relative;}#sk-container-id-1 div.sk-text-repr-fallback {display: none;}</style><div id=\"sk-container-id-1\" class=\"sk-top-container\"><div class=\"sk-text-repr-fallback\"><pre>ColumnTransformer(transformers=[(&#x27;num_pipe&#x27;,\n",
              "                                 Pipeline(steps=[(&#x27;power&#x27;,\n",
              "                                                  PowerTransformer())]),\n",
              "                                 [&#x27;year&#x27;, &#x27;power&#x27;, &#x27;mileage&#x27;]),\n",
              "                                (&#x27;num_price&#x27;,\n",
              "                                 Pipeline(steps=[(&#x27;QuantReplace&#x27;,\n",
              "                                                  QuantileReplacer(threshold=0.01)),\n",
              "                                                 (&#x27;power&#x27;,\n",
              "                                                  PowerTransformer())]),\n",
              "                                 [&#x27;price&#x27;])])</pre><b>In a Jupyter environment, please rerun this cell to show the HTML representation or trust the notebook. <br />On GitHub, the HTML representation is unable to render, please try loading this page with nbviewer.org.</b></div><div class=\"sk-container\" hidden><div class=\"sk-item sk-dashed-wrapped\"><div class=\"sk-label-container\"><div class=\"sk-label sk-toggleable\"><input class=\"sk-toggleable__control sk-hidden--visually\" id=\"sk-estimator-id-1\" type=\"checkbox\" ><label for=\"sk-estimator-id-1\" class=\"sk-toggleable__label sk-toggleable__label-arrow\">ColumnTransformer</label><div class=\"sk-toggleable__content\"><pre>ColumnTransformer(transformers=[(&#x27;num_pipe&#x27;,\n",
              "                                 Pipeline(steps=[(&#x27;power&#x27;,\n",
              "                                                  PowerTransformer())]),\n",
              "                                 [&#x27;year&#x27;, &#x27;power&#x27;, &#x27;mileage&#x27;]),\n",
              "                                (&#x27;num_price&#x27;,\n",
              "                                 Pipeline(steps=[(&#x27;QuantReplace&#x27;,\n",
              "                                                  QuantileReplacer(threshold=0.01)),\n",
              "                                                 (&#x27;power&#x27;,\n",
              "                                                  PowerTransformer())]),\n",
              "                                 [&#x27;price&#x27;])])</pre></div></div></div><div class=\"sk-parallel\"><div class=\"sk-parallel-item\"><div class=\"sk-item\"><div class=\"sk-label-container\"><div class=\"sk-label sk-toggleable\"><input class=\"sk-toggleable__control sk-hidden--visually\" id=\"sk-estimator-id-2\" type=\"checkbox\" ><label for=\"sk-estimator-id-2\" class=\"sk-toggleable__label sk-toggleable__label-arrow\">num_pipe</label><div class=\"sk-toggleable__content\"><pre>[&#x27;year&#x27;, &#x27;power&#x27;, &#x27;mileage&#x27;]</pre></div></div></div><div class=\"sk-serial\"><div class=\"sk-item\"><div class=\"sk-serial\"><div class=\"sk-item\"><div class=\"sk-estimator sk-toggleable\"><input class=\"sk-toggleable__control sk-hidden--visually\" id=\"sk-estimator-id-3\" type=\"checkbox\" ><label for=\"sk-estimator-id-3\" class=\"sk-toggleable__label sk-toggleable__label-arrow\">PowerTransformer</label><div class=\"sk-toggleable__content\"><pre>PowerTransformer()</pre></div></div></div></div></div></div></div></div><div class=\"sk-parallel-item\"><div class=\"sk-item\"><div class=\"sk-label-container\"><div class=\"sk-label sk-toggleable\"><input class=\"sk-toggleable__control sk-hidden--visually\" id=\"sk-estimator-id-4\" type=\"checkbox\" ><label for=\"sk-estimator-id-4\" class=\"sk-toggleable__label sk-toggleable__label-arrow\">num_price</label><div class=\"sk-toggleable__content\"><pre>[&#x27;price&#x27;]</pre></div></div></div><div class=\"sk-serial\"><div class=\"sk-item\"><div class=\"sk-serial\"><div class=\"sk-item\"><div class=\"sk-estimator sk-toggleable\"><input class=\"sk-toggleable__control sk-hidden--visually\" id=\"sk-estimator-id-5\" type=\"checkbox\" ><label for=\"sk-estimator-id-5\" class=\"sk-toggleable__label sk-toggleable__label-arrow\">QuantileReplacer</label><div class=\"sk-toggleable__content\"><pre>QuantileReplacer(threshold=0.01)</pre></div></div></div><div class=\"sk-item\"><div class=\"sk-estimator sk-toggleable\"><input class=\"sk-toggleable__control sk-hidden--visually\" id=\"sk-estimator-id-6\" type=\"checkbox\" ><label for=\"sk-estimator-id-6\" class=\"sk-toggleable__label sk-toggleable__label-arrow\">PowerTransformer</label><div class=\"sk-toggleable__content\"><pre>PowerTransformer()</pre></div></div></div></div></div></div></div></div></div></div></div></div>"
            ]
          },
          "metadata": {},
          "execution_count": 102
        }
      ]
    },
    {
      "cell_type": "code",
      "source": [
        "pipe_num.fit(X_train, y_train)"
      ],
      "metadata": {
        "colab": {
          "base_uri": "https://localhost:8080/",
          "height": 223
        },
        "id": "fKPaLjjg0buT",
        "outputId": "5565cf92-5e99-48c1-9bc0-cd20de43202d"
      },
      "execution_count": 103,
      "outputs": [
        {
          "output_type": "execute_result",
          "data": {
            "text/plain": [
              "Pipeline(steps=[('preprocessors',\n",
              "                 ColumnTransformer(transformers=[('num_pipe',\n",
              "                                                  Pipeline(steps=[('power',\n",
              "                                                                   PowerTransformer())]),\n",
              "                                                  ['year', 'power', 'mileage']),\n",
              "                                                 ('num_price',\n",
              "                                                  Pipeline(steps=[('QuantReplace',\n",
              "                                                                   QuantileReplacer(threshold=0.01)),\n",
              "                                                                  ('power',\n",
              "                                                                   PowerTransformer())]),\n",
              "                                                  ['price'])])),\n",
              "                ('model', LogisticRegression(random_state=42))])"
            ],
            "text/html": [
              "<style>#sk-container-id-2 {color: black;background-color: white;}#sk-container-id-2 pre{padding: 0;}#sk-container-id-2 div.sk-toggleable {background-color: white;}#sk-container-id-2 label.sk-toggleable__label {cursor: pointer;display: block;width: 100%;margin-bottom: 0;padding: 0.3em;box-sizing: border-box;text-align: center;}#sk-container-id-2 label.sk-toggleable__label-arrow:before {content: \"▸\";float: left;margin-right: 0.25em;color: #696969;}#sk-container-id-2 label.sk-toggleable__label-arrow:hover:before {color: black;}#sk-container-id-2 div.sk-estimator:hover label.sk-toggleable__label-arrow:before {color: black;}#sk-container-id-2 div.sk-toggleable__content {max-height: 0;max-width: 0;overflow: hidden;text-align: left;background-color: #f0f8ff;}#sk-container-id-2 div.sk-toggleable__content pre {margin: 0.2em;color: black;border-radius: 0.25em;background-color: #f0f8ff;}#sk-container-id-2 input.sk-toggleable__control:checked~div.sk-toggleable__content {max-height: 200px;max-width: 100%;overflow: auto;}#sk-container-id-2 input.sk-toggleable__control:checked~label.sk-toggleable__label-arrow:before {content: \"▾\";}#sk-container-id-2 div.sk-estimator input.sk-toggleable__control:checked~label.sk-toggleable__label {background-color: #d4ebff;}#sk-container-id-2 div.sk-label input.sk-toggleable__control:checked~label.sk-toggleable__label {background-color: #d4ebff;}#sk-container-id-2 input.sk-hidden--visually {border: 0;clip: rect(1px 1px 1px 1px);clip: rect(1px, 1px, 1px, 1px);height: 1px;margin: -1px;overflow: hidden;padding: 0;position: absolute;width: 1px;}#sk-container-id-2 div.sk-estimator {font-family: monospace;background-color: #f0f8ff;border: 1px dotted black;border-radius: 0.25em;box-sizing: border-box;margin-bottom: 0.5em;}#sk-container-id-2 div.sk-estimator:hover {background-color: #d4ebff;}#sk-container-id-2 div.sk-parallel-item::after {content: \"\";width: 100%;border-bottom: 1px solid gray;flex-grow: 1;}#sk-container-id-2 div.sk-label:hover label.sk-toggleable__label {background-color: #d4ebff;}#sk-container-id-2 div.sk-serial::before {content: \"\";position: absolute;border-left: 1px solid gray;box-sizing: border-box;top: 0;bottom: 0;left: 50%;z-index: 0;}#sk-container-id-2 div.sk-serial {display: flex;flex-direction: column;align-items: center;background-color: white;padding-right: 0.2em;padding-left: 0.2em;position: relative;}#sk-container-id-2 div.sk-item {position: relative;z-index: 1;}#sk-container-id-2 div.sk-parallel {display: flex;align-items: stretch;justify-content: center;background-color: white;position: relative;}#sk-container-id-2 div.sk-item::before, #sk-container-id-2 div.sk-parallel-item::before {content: \"\";position: absolute;border-left: 1px solid gray;box-sizing: border-box;top: 0;bottom: 0;left: 50%;z-index: -1;}#sk-container-id-2 div.sk-parallel-item {display: flex;flex-direction: column;z-index: 1;position: relative;background-color: white;}#sk-container-id-2 div.sk-parallel-item:first-child::after {align-self: flex-end;width: 50%;}#sk-container-id-2 div.sk-parallel-item:last-child::after {align-self: flex-start;width: 50%;}#sk-container-id-2 div.sk-parallel-item:only-child::after {width: 0;}#sk-container-id-2 div.sk-dashed-wrapped {border: 1px dashed gray;margin: 0 0.4em 0.5em 0.4em;box-sizing: border-box;padding-bottom: 0.4em;background-color: white;}#sk-container-id-2 div.sk-label label {font-family: monospace;font-weight: bold;display: inline-block;line-height: 1.2em;}#sk-container-id-2 div.sk-label-container {text-align: center;}#sk-container-id-2 div.sk-container {/* jupyter's `normalize.less` sets `[hidden] { display: none; }` but bootstrap.min.css set `[hidden] { display: none !important; }` so we also need the `!important` here to be able to override the default hidden behavior on the sphinx rendered scikit-learn.org. See: https://github.com/scikit-learn/scikit-learn/issues/21755 */display: inline-block !important;position: relative;}#sk-container-id-2 div.sk-text-repr-fallback {display: none;}</style><div id=\"sk-container-id-2\" class=\"sk-top-container\"><div class=\"sk-text-repr-fallback\"><pre>Pipeline(steps=[(&#x27;preprocessors&#x27;,\n",
              "                 ColumnTransformer(transformers=[(&#x27;num_pipe&#x27;,\n",
              "                                                  Pipeline(steps=[(&#x27;power&#x27;,\n",
              "                                                                   PowerTransformer())]),\n",
              "                                                  [&#x27;year&#x27;, &#x27;power&#x27;, &#x27;mileage&#x27;]),\n",
              "                                                 (&#x27;num_price&#x27;,\n",
              "                                                  Pipeline(steps=[(&#x27;QuantReplace&#x27;,\n",
              "                                                                   QuantileReplacer(threshold=0.01)),\n",
              "                                                                  (&#x27;power&#x27;,\n",
              "                                                                   PowerTransformer())]),\n",
              "                                                  [&#x27;price&#x27;])])),\n",
              "                (&#x27;model&#x27;, LogisticRegression(random_state=42))])</pre><b>In a Jupyter environment, please rerun this cell to show the HTML representation or trust the notebook. <br />On GitHub, the HTML representation is unable to render, please try loading this page with nbviewer.org.</b></div><div class=\"sk-container\" hidden><div class=\"sk-item sk-dashed-wrapped\"><div class=\"sk-label-container\"><div class=\"sk-label sk-toggleable\"><input class=\"sk-toggleable__control sk-hidden--visually\" id=\"sk-estimator-id-7\" type=\"checkbox\" ><label for=\"sk-estimator-id-7\" class=\"sk-toggleable__label sk-toggleable__label-arrow\">Pipeline</label><div class=\"sk-toggleable__content\"><pre>Pipeline(steps=[(&#x27;preprocessors&#x27;,\n",
              "                 ColumnTransformer(transformers=[(&#x27;num_pipe&#x27;,\n",
              "                                                  Pipeline(steps=[(&#x27;power&#x27;,\n",
              "                                                                   PowerTransformer())]),\n",
              "                                                  [&#x27;year&#x27;, &#x27;power&#x27;, &#x27;mileage&#x27;]),\n",
              "                                                 (&#x27;num_price&#x27;,\n",
              "                                                  Pipeline(steps=[(&#x27;QuantReplace&#x27;,\n",
              "                                                                   QuantileReplacer(threshold=0.01)),\n",
              "                                                                  (&#x27;power&#x27;,\n",
              "                                                                   PowerTransformer())]),\n",
              "                                                  [&#x27;price&#x27;])])),\n",
              "                (&#x27;model&#x27;, LogisticRegression(random_state=42))])</pre></div></div></div><div class=\"sk-serial\"><div class=\"sk-item sk-dashed-wrapped\"><div class=\"sk-label-container\"><div class=\"sk-label sk-toggleable\"><input class=\"sk-toggleable__control sk-hidden--visually\" id=\"sk-estimator-id-8\" type=\"checkbox\" ><label for=\"sk-estimator-id-8\" class=\"sk-toggleable__label sk-toggleable__label-arrow\">preprocessors: ColumnTransformer</label><div class=\"sk-toggleable__content\"><pre>ColumnTransformer(transformers=[(&#x27;num_pipe&#x27;,\n",
              "                                 Pipeline(steps=[(&#x27;power&#x27;,\n",
              "                                                  PowerTransformer())]),\n",
              "                                 [&#x27;year&#x27;, &#x27;power&#x27;, &#x27;mileage&#x27;]),\n",
              "                                (&#x27;num_price&#x27;,\n",
              "                                 Pipeline(steps=[(&#x27;QuantReplace&#x27;,\n",
              "                                                  QuantileReplacer(threshold=0.01)),\n",
              "                                                 (&#x27;power&#x27;,\n",
              "                                                  PowerTransformer())]),\n",
              "                                 [&#x27;price&#x27;])])</pre></div></div></div><div class=\"sk-parallel\"><div class=\"sk-parallel-item\"><div class=\"sk-item\"><div class=\"sk-label-container\"><div class=\"sk-label sk-toggleable\"><input class=\"sk-toggleable__control sk-hidden--visually\" id=\"sk-estimator-id-9\" type=\"checkbox\" ><label for=\"sk-estimator-id-9\" class=\"sk-toggleable__label sk-toggleable__label-arrow\">num_pipe</label><div class=\"sk-toggleable__content\"><pre>[&#x27;year&#x27;, &#x27;power&#x27;, &#x27;mileage&#x27;]</pre></div></div></div><div class=\"sk-serial\"><div class=\"sk-item\"><div class=\"sk-serial\"><div class=\"sk-item\"><div class=\"sk-estimator sk-toggleable\"><input class=\"sk-toggleable__control sk-hidden--visually\" id=\"sk-estimator-id-10\" type=\"checkbox\" ><label for=\"sk-estimator-id-10\" class=\"sk-toggleable__label sk-toggleable__label-arrow\">PowerTransformer</label><div class=\"sk-toggleable__content\"><pre>PowerTransformer()</pre></div></div></div></div></div></div></div></div><div class=\"sk-parallel-item\"><div class=\"sk-item\"><div class=\"sk-label-container\"><div class=\"sk-label sk-toggleable\"><input class=\"sk-toggleable__control sk-hidden--visually\" id=\"sk-estimator-id-11\" type=\"checkbox\" ><label for=\"sk-estimator-id-11\" class=\"sk-toggleable__label sk-toggleable__label-arrow\">num_price</label><div class=\"sk-toggleable__content\"><pre>[&#x27;price&#x27;]</pre></div></div></div><div class=\"sk-serial\"><div class=\"sk-item\"><div class=\"sk-serial\"><div class=\"sk-item\"><div class=\"sk-estimator sk-toggleable\"><input class=\"sk-toggleable__control sk-hidden--visually\" id=\"sk-estimator-id-12\" type=\"checkbox\" ><label for=\"sk-estimator-id-12\" class=\"sk-toggleable__label sk-toggleable__label-arrow\">QuantileReplacer</label><div class=\"sk-toggleable__content\"><pre>QuantileReplacer(threshold=0.01)</pre></div></div></div><div class=\"sk-item\"><div class=\"sk-estimator sk-toggleable\"><input class=\"sk-toggleable__control sk-hidden--visually\" id=\"sk-estimator-id-13\" type=\"checkbox\" ><label for=\"sk-estimator-id-13\" class=\"sk-toggleable__label sk-toggleable__label-arrow\">PowerTransformer</label><div class=\"sk-toggleable__content\"><pre>PowerTransformer()</pre></div></div></div></div></div></div></div></div></div></div><div class=\"sk-item\"><div class=\"sk-estimator sk-toggleable\"><input class=\"sk-toggleable__control sk-hidden--visually\" id=\"sk-estimator-id-14\" type=\"checkbox\" ><label for=\"sk-estimator-id-14\" class=\"sk-toggleable__label sk-toggleable__label-arrow\">LogisticRegression</label><div class=\"sk-toggleable__content\"><pre>LogisticRegression(random_state=42)</pre></div></div></div></div></div></div></div>"
            ]
          },
          "metadata": {},
          "execution_count": 103
        }
      ]
    },
    {
      "cell_type": "code",
      "source": [
        "B0, B = get_coefs(pipe_num['model'])\n",
        "features_names = list(columns_num)\n",
        "\n",
        "print_model (B0,B,features_names)"
      ],
      "metadata": {
        "colab": {
          "base_uri": "https://localhost:8080/"
        },
        "id": "6q3SV38TODIB",
        "outputId": "afd5c96b-0fa2-4f84-9d41-0945a4fb37a2"
      },
      "execution_count": 104,
      "outputs": [
        {
          "output_type": "stream",
          "name": "stdout",
          "text": [
            "Решение\n",
            "-3.148-0.70*year+0.40*power+0.25*mileage+0.99*price\n"
          ]
        }
      ]
    },
    {
      "cell_type": "code",
      "source": [
        "print(f\"f1 на тренировочной выборке: {calculate_metric(pipe_num, X_train, y_train):.4f}\")\n",
        "print(f\"f1 на валидационной выборке: {calculate_metric(pipe_num, X_val, y_val):.4f}\")"
      ],
      "metadata": {
        "colab": {
          "base_uri": "https://localhost:8080/"
        },
        "id": "J7QjnInj0mk4",
        "outputId": "97c71ba1-17fd-475b-d531-9d1c19344581"
      },
      "execution_count": 105,
      "outputs": [
        {
          "output_type": "stream",
          "name": "stdout",
          "text": [
            "f1 на тренировочной выборке: 0.0173\n",
            "f1 на валидационной выборке: 0.0000\n"
          ]
        }
      ]
    },
    {
      "cell_type": "code",
      "source": [
        "print(classification_report(y_val, pipe_num.predict(X_val), target_names=Label.classes_))"
      ],
      "metadata": {
        "colab": {
          "base_uri": "https://localhost:8080/"
        },
        "id": "D0T3oeeC0qkA",
        "outputId": "e2a34e2a-71ae-4f81-e6f9-75265056ea90"
      },
      "execution_count": 106,
      "outputs": [
        {
          "output_type": "stream",
          "name": "stdout",
          "text": [
            "              precision    recall  f1-score   support\n",
            "\n",
            "      Бензин       0.92      1.00      0.96      2604\n",
            "      Дизель       0.00      0.00      0.00       215\n",
            "\n",
            "    accuracy                           0.92      2819\n",
            "   macro avg       0.46      0.50      0.48      2819\n",
            "weighted avg       0.85      0.92      0.89      2819\n",
            "\n"
          ]
        }
      ]
    },
    {
      "cell_type": "code",
      "source": [
        "cross_validation (X_train, y_train,\n",
        "                  pipe_num,\n",
        "                  scoring_clf,\n",
        "                  StratifiedKFold(n_splits=5, shuffle= True, random_state = 42))"
      ],
      "metadata": {
        "colab": {
          "base_uri": "https://localhost:8080/",
          "height": 345
        },
        "id": "Cyp1HEyu0ur9",
        "outputId": "65b1d23c-7d3f-4e30-dab6-f76f2a5f0f25"
      },
      "execution_count": 107,
      "outputs": [
        {
          "output_type": "stream",
          "name": "stdout",
          "text": [
            "Ошибка на кросс-валидации\n"
          ]
        },
        {
          "output_type": "display_data",
          "data": {
            "text/plain": [
              "   fit_time  score_time  test_ACC   test_F1  test_Precision  test_Recall\n",
              "0  0.082820    0.037392  0.928571  0.040816        0.181818     0.022989\n",
              "1  0.145523    0.041153  0.931611  0.021739        0.250000     0.011364\n",
              "2  0.021590    0.000000       NaN       NaN             NaN          NaN\n",
              "3  0.106747    0.041040  0.932319  0.021978        0.250000     0.011494\n",
              "4  0.140629    0.045482  0.933080  0.022222        0.333333     0.011494"
            ],
            "text/html": [
              "\n",
              "  <div id=\"df-8ca1db53-eb33-4ff6-a39a-57f1c3d94b2e\" class=\"colab-df-container\">\n",
              "    <div>\n",
              "<style scoped>\n",
              "    .dataframe tbody tr th:only-of-type {\n",
              "        vertical-align: middle;\n",
              "    }\n",
              "\n",
              "    .dataframe tbody tr th {\n",
              "        vertical-align: top;\n",
              "    }\n",
              "\n",
              "    .dataframe thead th {\n",
              "        text-align: right;\n",
              "    }\n",
              "</style>\n",
              "<table border=\"1\" class=\"dataframe\">\n",
              "  <thead>\n",
              "    <tr style=\"text-align: right;\">\n",
              "      <th></th>\n",
              "      <th>fit_time</th>\n",
              "      <th>score_time</th>\n",
              "      <th>test_ACC</th>\n",
              "      <th>test_F1</th>\n",
              "      <th>test_Precision</th>\n",
              "      <th>test_Recall</th>\n",
              "    </tr>\n",
              "  </thead>\n",
              "  <tbody>\n",
              "    <tr>\n",
              "      <th>0</th>\n",
              "      <td>0.082820</td>\n",
              "      <td>0.037392</td>\n",
              "      <td>0.928571</td>\n",
              "      <td>0.040816</td>\n",
              "      <td>0.181818</td>\n",
              "      <td>0.022989</td>\n",
              "    </tr>\n",
              "    <tr>\n",
              "      <th>1</th>\n",
              "      <td>0.145523</td>\n",
              "      <td>0.041153</td>\n",
              "      <td>0.931611</td>\n",
              "      <td>0.021739</td>\n",
              "      <td>0.250000</td>\n",
              "      <td>0.011364</td>\n",
              "    </tr>\n",
              "    <tr>\n",
              "      <th>2</th>\n",
              "      <td>0.021590</td>\n",
              "      <td>0.000000</td>\n",
              "      <td>NaN</td>\n",
              "      <td>NaN</td>\n",
              "      <td>NaN</td>\n",
              "      <td>NaN</td>\n",
              "    </tr>\n",
              "    <tr>\n",
              "      <th>3</th>\n",
              "      <td>0.106747</td>\n",
              "      <td>0.041040</td>\n",
              "      <td>0.932319</td>\n",
              "      <td>0.021978</td>\n",
              "      <td>0.250000</td>\n",
              "      <td>0.011494</td>\n",
              "    </tr>\n",
              "    <tr>\n",
              "      <th>4</th>\n",
              "      <td>0.140629</td>\n",
              "      <td>0.045482</td>\n",
              "      <td>0.933080</td>\n",
              "      <td>0.022222</td>\n",
              "      <td>0.333333</td>\n",
              "      <td>0.011494</td>\n",
              "    </tr>\n",
              "  </tbody>\n",
              "</table>\n",
              "</div>\n",
              "    <div class=\"colab-df-buttons\">\n",
              "\n",
              "  <div class=\"colab-df-container\">\n",
              "    <button class=\"colab-df-convert\" onclick=\"convertToInteractive('df-8ca1db53-eb33-4ff6-a39a-57f1c3d94b2e')\"\n",
              "            title=\"Convert this dataframe to an interactive table.\"\n",
              "            style=\"display:none;\">\n",
              "\n",
              "  <svg xmlns=\"http://www.w3.org/2000/svg\" height=\"24px\" viewBox=\"0 -960 960 960\">\n",
              "    <path d=\"M120-120v-720h720v720H120Zm60-500h600v-160H180v160Zm220 220h160v-160H400v160Zm0 220h160v-160H400v160ZM180-400h160v-160H180v160Zm440 0h160v-160H620v160ZM180-180h160v-160H180v160Zm440 0h160v-160H620v160Z\"/>\n",
              "  </svg>\n",
              "    </button>\n",
              "\n",
              "  <style>\n",
              "    .colab-df-container {\n",
              "      display:flex;\n",
              "      gap: 12px;\n",
              "    }\n",
              "\n",
              "    .colab-df-convert {\n",
              "      background-color: #E8F0FE;\n",
              "      border: none;\n",
              "      border-radius: 50%;\n",
              "      cursor: pointer;\n",
              "      display: none;\n",
              "      fill: #1967D2;\n",
              "      height: 32px;\n",
              "      padding: 0 0 0 0;\n",
              "      width: 32px;\n",
              "    }\n",
              "\n",
              "    .colab-df-convert:hover {\n",
              "      background-color: #E2EBFA;\n",
              "      box-shadow: 0px 1px 2px rgba(60, 64, 67, 0.3), 0px 1px 3px 1px rgba(60, 64, 67, 0.15);\n",
              "      fill: #174EA6;\n",
              "    }\n",
              "\n",
              "    .colab-df-buttons div {\n",
              "      margin-bottom: 4px;\n",
              "    }\n",
              "\n",
              "    [theme=dark] .colab-df-convert {\n",
              "      background-color: #3B4455;\n",
              "      fill: #D2E3FC;\n",
              "    }\n",
              "\n",
              "    [theme=dark] .colab-df-convert:hover {\n",
              "      background-color: #434B5C;\n",
              "      box-shadow: 0px 1px 3px 1px rgba(0, 0, 0, 0.15);\n",
              "      filter: drop-shadow(0px 1px 2px rgba(0, 0, 0, 0.3));\n",
              "      fill: #FFFFFF;\n",
              "    }\n",
              "  </style>\n",
              "\n",
              "    <script>\n",
              "      const buttonEl =\n",
              "        document.querySelector('#df-8ca1db53-eb33-4ff6-a39a-57f1c3d94b2e button.colab-df-convert');\n",
              "      buttonEl.style.display =\n",
              "        google.colab.kernel.accessAllowed ? 'block' : 'none';\n",
              "\n",
              "      async function convertToInteractive(key) {\n",
              "        const element = document.querySelector('#df-8ca1db53-eb33-4ff6-a39a-57f1c3d94b2e');\n",
              "        const dataTable =\n",
              "          await google.colab.kernel.invokeFunction('convertToInteractive',\n",
              "                                                    [key], {});\n",
              "        if (!dataTable) return;\n",
              "\n",
              "        const docLinkHtml = 'Like what you see? Visit the ' +\n",
              "          '<a target=\"_blank\" href=https://colab.research.google.com/notebooks/data_table.ipynb>data table notebook</a>'\n",
              "          + ' to learn more about interactive tables.';\n",
              "        element.innerHTML = '';\n",
              "        dataTable['output_type'] = 'display_data';\n",
              "        await google.colab.output.renderOutput(dataTable, element);\n",
              "        const docLink = document.createElement('div');\n",
              "        docLink.innerHTML = docLinkHtml;\n",
              "        element.appendChild(docLink);\n",
              "      }\n",
              "    </script>\n",
              "  </div>\n",
              "\n",
              "\n",
              "<div id=\"df-0709d381-b8fe-42a8-975d-5fe135a8170f\">\n",
              "  <button class=\"colab-df-quickchart\" onclick=\"quickchart('df-0709d381-b8fe-42a8-975d-5fe135a8170f')\"\n",
              "            title=\"Suggest charts\"\n",
              "            style=\"display:none;\">\n",
              "\n",
              "<svg xmlns=\"http://www.w3.org/2000/svg\" height=\"24px\"viewBox=\"0 0 24 24\"\n",
              "     width=\"24px\">\n",
              "    <g>\n",
              "        <path d=\"M19 3H5c-1.1 0-2 .9-2 2v14c0 1.1.9 2 2 2h14c1.1 0 2-.9 2-2V5c0-1.1-.9-2-2-2zM9 17H7v-7h2v7zm4 0h-2V7h2v10zm4 0h-2v-4h2v4z\"/>\n",
              "    </g>\n",
              "</svg>\n",
              "  </button>\n",
              "\n",
              "<style>\n",
              "  .colab-df-quickchart {\n",
              "      --bg-color: #E8F0FE;\n",
              "      --fill-color: #1967D2;\n",
              "      --hover-bg-color: #E2EBFA;\n",
              "      --hover-fill-color: #174EA6;\n",
              "      --disabled-fill-color: #AAA;\n",
              "      --disabled-bg-color: #DDD;\n",
              "  }\n",
              "\n",
              "  [theme=dark] .colab-df-quickchart {\n",
              "      --bg-color: #3B4455;\n",
              "      --fill-color: #D2E3FC;\n",
              "      --hover-bg-color: #434B5C;\n",
              "      --hover-fill-color: #FFFFFF;\n",
              "      --disabled-bg-color: #3B4455;\n",
              "      --disabled-fill-color: #666;\n",
              "  }\n",
              "\n",
              "  .colab-df-quickchart {\n",
              "    background-color: var(--bg-color);\n",
              "    border: none;\n",
              "    border-radius: 50%;\n",
              "    cursor: pointer;\n",
              "    display: none;\n",
              "    fill: var(--fill-color);\n",
              "    height: 32px;\n",
              "    padding: 0;\n",
              "    width: 32px;\n",
              "  }\n",
              "\n",
              "  .colab-df-quickchart:hover {\n",
              "    background-color: var(--hover-bg-color);\n",
              "    box-shadow: 0 1px 2px rgba(60, 64, 67, 0.3), 0 1px 3px 1px rgba(60, 64, 67, 0.15);\n",
              "    fill: var(--button-hover-fill-color);\n",
              "  }\n",
              "\n",
              "  .colab-df-quickchart-complete:disabled,\n",
              "  .colab-df-quickchart-complete:disabled:hover {\n",
              "    background-color: var(--disabled-bg-color);\n",
              "    fill: var(--disabled-fill-color);\n",
              "    box-shadow: none;\n",
              "  }\n",
              "\n",
              "  .colab-df-spinner {\n",
              "    border: 2px solid var(--fill-color);\n",
              "    border-color: transparent;\n",
              "    border-bottom-color: var(--fill-color);\n",
              "    animation:\n",
              "      spin 1s steps(1) infinite;\n",
              "  }\n",
              "\n",
              "  @keyframes spin {\n",
              "    0% {\n",
              "      border-color: transparent;\n",
              "      border-bottom-color: var(--fill-color);\n",
              "      border-left-color: var(--fill-color);\n",
              "    }\n",
              "    20% {\n",
              "      border-color: transparent;\n",
              "      border-left-color: var(--fill-color);\n",
              "      border-top-color: var(--fill-color);\n",
              "    }\n",
              "    30% {\n",
              "      border-color: transparent;\n",
              "      border-left-color: var(--fill-color);\n",
              "      border-top-color: var(--fill-color);\n",
              "      border-right-color: var(--fill-color);\n",
              "    }\n",
              "    40% {\n",
              "      border-color: transparent;\n",
              "      border-right-color: var(--fill-color);\n",
              "      border-top-color: var(--fill-color);\n",
              "    }\n",
              "    60% {\n",
              "      border-color: transparent;\n",
              "      border-right-color: var(--fill-color);\n",
              "    }\n",
              "    80% {\n",
              "      border-color: transparent;\n",
              "      border-right-color: var(--fill-color);\n",
              "      border-bottom-color: var(--fill-color);\n",
              "    }\n",
              "    90% {\n",
              "      border-color: transparent;\n",
              "      border-bottom-color: var(--fill-color);\n",
              "    }\n",
              "  }\n",
              "</style>\n",
              "\n",
              "  <script>\n",
              "    async function quickchart(key) {\n",
              "      const quickchartButtonEl =\n",
              "        document.querySelector('#' + key + ' button');\n",
              "      quickchartButtonEl.disabled = true;  // To prevent multiple clicks.\n",
              "      quickchartButtonEl.classList.add('colab-df-spinner');\n",
              "      try {\n",
              "        const charts = await google.colab.kernel.invokeFunction(\n",
              "            'suggestCharts', [key], {});\n",
              "      } catch (error) {\n",
              "        console.error('Error during call to suggestCharts:', error);\n",
              "      }\n",
              "      quickchartButtonEl.classList.remove('colab-df-spinner');\n",
              "      quickchartButtonEl.classList.add('colab-df-quickchart-complete');\n",
              "    }\n",
              "    (() => {\n",
              "      let quickchartButtonEl =\n",
              "        document.querySelector('#df-0709d381-b8fe-42a8-975d-5fe135a8170f button');\n",
              "      quickchartButtonEl.style.display =\n",
              "        google.colab.kernel.accessAllowed ? 'block' : 'none';\n",
              "    })();\n",
              "  </script>\n",
              "</div>\n",
              "    </div>\n",
              "  </div>\n"
            ]
          },
          "metadata": {}
        },
        {
          "output_type": "stream",
          "name": "stdout",
          "text": [
            "\n",
            "\n",
            "test_ACC          0.931395\n",
            "test_F1           0.026689\n",
            "test_Precision    0.253788\n",
            "test_Recall       0.014335\n",
            "dtype: float64\n"
          ]
        }
      ]
    },
    {
      "cell_type": "markdown",
      "source": [
        "**Оценим влияние категориальных признаков**"
      ],
      "metadata": {
        "id": "mmyfSGDXQX-z"
      }
    },
    {
      "cell_type": "code",
      "source": [
        "pipe_all = Pipeline([\n",
        "    ('preprocessors', preprocessors_all),\n",
        "    ('model', LogisticRegression(random_state = 42))\n",
        "    ])\n",
        "pipe_all.fit(X_train, y_train)"
      ],
      "metadata": {
        "id": "_QnklBOJQZ4c",
        "colab": {
          "base_uri": "https://localhost:8080/",
          "height": 223
        },
        "outputId": "57a3d36f-07ff-4a79-a894-70173aa92008"
      },
      "execution_count": 109,
      "outputs": [
        {
          "output_type": "execute_result",
          "data": {
            "text/plain": [
              "Pipeline(steps=[('preprocessors',\n",
              "                 ColumnTransformer(transformers=[('num_pipe',\n",
              "                                                  Pipeline(steps=[('power',\n",
              "                                                                   PowerTransformer())]),\n",
              "                                                  ['year', 'power', 'mileage']),\n",
              "                                                 ('cat_style_fuel',\n",
              "                                                  Pipeline(steps=[('encoder',\n",
              "                                                                   OneHotEncoder(drop='if_binary',\n",
              "                                                                                 handle_unknown='ignore',\n",
              "                                                                                 sparse_output=False))]),\n",
              "                                                  ['bodyType']),\n",
              "                                                 ('cat_brand',\n",
              "                                                  Pipeline(steps=[('replace_rare',\n",
              "                                                                   RareGrouper(threshold=0.001)),\n",
              "                                                                  ('encoder',\n",
              "                                                                   OneHotEncoder(drop='if_binary',\n",
              "                                                                                 handle_unknown='ignore',\n",
              "                                                                                 sparse_output=False))]),\n",
              "                                                  ['brand']),\n",
              "                                                 ('cat_name',\n",
              "                                                  Pipeline(steps=[('replace_rare',\n",
              "                                                                   RareGrouper(threshold=0.0001)),\n",
              "                                                                  ('encoder',\n",
              "                                                                   OneHotEncoder(drop='if_binary',\n",
              "                                                                                 handle_unknown='ignore',\n",
              "                                                                                 sparse_output=False))]),\n",
              "                                                  ['name'])])),\n",
              "                ('model', LogisticRegression(random_state=42))])"
            ],
            "text/html": [
              "<style>#sk-container-id-3 {color: black;background-color: white;}#sk-container-id-3 pre{padding: 0;}#sk-container-id-3 div.sk-toggleable {background-color: white;}#sk-container-id-3 label.sk-toggleable__label {cursor: pointer;display: block;width: 100%;margin-bottom: 0;padding: 0.3em;box-sizing: border-box;text-align: center;}#sk-container-id-3 label.sk-toggleable__label-arrow:before {content: \"▸\";float: left;margin-right: 0.25em;color: #696969;}#sk-container-id-3 label.sk-toggleable__label-arrow:hover:before {color: black;}#sk-container-id-3 div.sk-estimator:hover label.sk-toggleable__label-arrow:before {color: black;}#sk-container-id-3 div.sk-toggleable__content {max-height: 0;max-width: 0;overflow: hidden;text-align: left;background-color: #f0f8ff;}#sk-container-id-3 div.sk-toggleable__content pre {margin: 0.2em;color: black;border-radius: 0.25em;background-color: #f0f8ff;}#sk-container-id-3 input.sk-toggleable__control:checked~div.sk-toggleable__content {max-height: 200px;max-width: 100%;overflow: auto;}#sk-container-id-3 input.sk-toggleable__control:checked~label.sk-toggleable__label-arrow:before {content: \"▾\";}#sk-container-id-3 div.sk-estimator input.sk-toggleable__control:checked~label.sk-toggleable__label {background-color: #d4ebff;}#sk-container-id-3 div.sk-label input.sk-toggleable__control:checked~label.sk-toggleable__label {background-color: #d4ebff;}#sk-container-id-3 input.sk-hidden--visually {border: 0;clip: rect(1px 1px 1px 1px);clip: rect(1px, 1px, 1px, 1px);height: 1px;margin: -1px;overflow: hidden;padding: 0;position: absolute;width: 1px;}#sk-container-id-3 div.sk-estimator {font-family: monospace;background-color: #f0f8ff;border: 1px dotted black;border-radius: 0.25em;box-sizing: border-box;margin-bottom: 0.5em;}#sk-container-id-3 div.sk-estimator:hover {background-color: #d4ebff;}#sk-container-id-3 div.sk-parallel-item::after {content: \"\";width: 100%;border-bottom: 1px solid gray;flex-grow: 1;}#sk-container-id-3 div.sk-label:hover label.sk-toggleable__label {background-color: #d4ebff;}#sk-container-id-3 div.sk-serial::before {content: \"\";position: absolute;border-left: 1px solid gray;box-sizing: border-box;top: 0;bottom: 0;left: 50%;z-index: 0;}#sk-container-id-3 div.sk-serial {display: flex;flex-direction: column;align-items: center;background-color: white;padding-right: 0.2em;padding-left: 0.2em;position: relative;}#sk-container-id-3 div.sk-item {position: relative;z-index: 1;}#sk-container-id-3 div.sk-parallel {display: flex;align-items: stretch;justify-content: center;background-color: white;position: relative;}#sk-container-id-3 div.sk-item::before, #sk-container-id-3 div.sk-parallel-item::before {content: \"\";position: absolute;border-left: 1px solid gray;box-sizing: border-box;top: 0;bottom: 0;left: 50%;z-index: -1;}#sk-container-id-3 div.sk-parallel-item {display: flex;flex-direction: column;z-index: 1;position: relative;background-color: white;}#sk-container-id-3 div.sk-parallel-item:first-child::after {align-self: flex-end;width: 50%;}#sk-container-id-3 div.sk-parallel-item:last-child::after {align-self: flex-start;width: 50%;}#sk-container-id-3 div.sk-parallel-item:only-child::after {width: 0;}#sk-container-id-3 div.sk-dashed-wrapped {border: 1px dashed gray;margin: 0 0.4em 0.5em 0.4em;box-sizing: border-box;padding-bottom: 0.4em;background-color: white;}#sk-container-id-3 div.sk-label label {font-family: monospace;font-weight: bold;display: inline-block;line-height: 1.2em;}#sk-container-id-3 div.sk-label-container {text-align: center;}#sk-container-id-3 div.sk-container {/* jupyter's `normalize.less` sets `[hidden] { display: none; }` but bootstrap.min.css set `[hidden] { display: none !important; }` so we also need the `!important` here to be able to override the default hidden behavior on the sphinx rendered scikit-learn.org. See: https://github.com/scikit-learn/scikit-learn/issues/21755 */display: inline-block !important;position: relative;}#sk-container-id-3 div.sk-text-repr-fallback {display: none;}</style><div id=\"sk-container-id-3\" class=\"sk-top-container\"><div class=\"sk-text-repr-fallback\"><pre>Pipeline(steps=[(&#x27;preprocessors&#x27;,\n",
              "                 ColumnTransformer(transformers=[(&#x27;num_pipe&#x27;,\n",
              "                                                  Pipeline(steps=[(&#x27;power&#x27;,\n",
              "                                                                   PowerTransformer())]),\n",
              "                                                  [&#x27;year&#x27;, &#x27;power&#x27;, &#x27;mileage&#x27;]),\n",
              "                                                 (&#x27;cat_style_fuel&#x27;,\n",
              "                                                  Pipeline(steps=[(&#x27;encoder&#x27;,\n",
              "                                                                   OneHotEncoder(drop=&#x27;if_binary&#x27;,\n",
              "                                                                                 handle_unknown=&#x27;ignore&#x27;,\n",
              "                                                                                 sparse_output=False))]),\n",
              "                                                  [&#x27;bodyType&#x27;]),\n",
              "                                                 (&#x27;cat_brand&#x27;,\n",
              "                                                  Pipeline(steps=[(&#x27;replace_rare&#x27;,\n",
              "                                                                   RareGrouper(threshold=0.001)),\n",
              "                                                                  (&#x27;encoder&#x27;,\n",
              "                                                                   OneHotEncoder(drop=&#x27;if_binary&#x27;,\n",
              "                                                                                 handle_unknown=&#x27;ignore&#x27;,\n",
              "                                                                                 sparse_output=False))]),\n",
              "                                                  [&#x27;brand&#x27;]),\n",
              "                                                 (&#x27;cat_name&#x27;,\n",
              "                                                  Pipeline(steps=[(&#x27;replace_rare&#x27;,\n",
              "                                                                   RareGrouper(threshold=0.0001)),\n",
              "                                                                  (&#x27;encoder&#x27;,\n",
              "                                                                   OneHotEncoder(drop=&#x27;if_binary&#x27;,\n",
              "                                                                                 handle_unknown=&#x27;ignore&#x27;,\n",
              "                                                                                 sparse_output=False))]),\n",
              "                                                  [&#x27;name&#x27;])])),\n",
              "                (&#x27;model&#x27;, LogisticRegression(random_state=42))])</pre><b>In a Jupyter environment, please rerun this cell to show the HTML representation or trust the notebook. <br />On GitHub, the HTML representation is unable to render, please try loading this page with nbviewer.org.</b></div><div class=\"sk-container\" hidden><div class=\"sk-item sk-dashed-wrapped\"><div class=\"sk-label-container\"><div class=\"sk-label sk-toggleable\"><input class=\"sk-toggleable__control sk-hidden--visually\" id=\"sk-estimator-id-15\" type=\"checkbox\" ><label for=\"sk-estimator-id-15\" class=\"sk-toggleable__label sk-toggleable__label-arrow\">Pipeline</label><div class=\"sk-toggleable__content\"><pre>Pipeline(steps=[(&#x27;preprocessors&#x27;,\n",
              "                 ColumnTransformer(transformers=[(&#x27;num_pipe&#x27;,\n",
              "                                                  Pipeline(steps=[(&#x27;power&#x27;,\n",
              "                                                                   PowerTransformer())]),\n",
              "                                                  [&#x27;year&#x27;, &#x27;power&#x27;, &#x27;mileage&#x27;]),\n",
              "                                                 (&#x27;cat_style_fuel&#x27;,\n",
              "                                                  Pipeline(steps=[(&#x27;encoder&#x27;,\n",
              "                                                                   OneHotEncoder(drop=&#x27;if_binary&#x27;,\n",
              "                                                                                 handle_unknown=&#x27;ignore&#x27;,\n",
              "                                                                                 sparse_output=False))]),\n",
              "                                                  [&#x27;bodyType&#x27;]),\n",
              "                                                 (&#x27;cat_brand&#x27;,\n",
              "                                                  Pipeline(steps=[(&#x27;replace_rare&#x27;,\n",
              "                                                                   RareGrouper(threshold=0.001)),\n",
              "                                                                  (&#x27;encoder&#x27;,\n",
              "                                                                   OneHotEncoder(drop=&#x27;if_binary&#x27;,\n",
              "                                                                                 handle_unknown=&#x27;ignore&#x27;,\n",
              "                                                                                 sparse_output=False))]),\n",
              "                                                  [&#x27;brand&#x27;]),\n",
              "                                                 (&#x27;cat_name&#x27;,\n",
              "                                                  Pipeline(steps=[(&#x27;replace_rare&#x27;,\n",
              "                                                                   RareGrouper(threshold=0.0001)),\n",
              "                                                                  (&#x27;encoder&#x27;,\n",
              "                                                                   OneHotEncoder(drop=&#x27;if_binary&#x27;,\n",
              "                                                                                 handle_unknown=&#x27;ignore&#x27;,\n",
              "                                                                                 sparse_output=False))]),\n",
              "                                                  [&#x27;name&#x27;])])),\n",
              "                (&#x27;model&#x27;, LogisticRegression(random_state=42))])</pre></div></div></div><div class=\"sk-serial\"><div class=\"sk-item sk-dashed-wrapped\"><div class=\"sk-label-container\"><div class=\"sk-label sk-toggleable\"><input class=\"sk-toggleable__control sk-hidden--visually\" id=\"sk-estimator-id-16\" type=\"checkbox\" ><label for=\"sk-estimator-id-16\" class=\"sk-toggleable__label sk-toggleable__label-arrow\">preprocessors: ColumnTransformer</label><div class=\"sk-toggleable__content\"><pre>ColumnTransformer(transformers=[(&#x27;num_pipe&#x27;,\n",
              "                                 Pipeline(steps=[(&#x27;power&#x27;,\n",
              "                                                  PowerTransformer())]),\n",
              "                                 [&#x27;year&#x27;, &#x27;power&#x27;, &#x27;mileage&#x27;]),\n",
              "                                (&#x27;cat_style_fuel&#x27;,\n",
              "                                 Pipeline(steps=[(&#x27;encoder&#x27;,\n",
              "                                                  OneHotEncoder(drop=&#x27;if_binary&#x27;,\n",
              "                                                                handle_unknown=&#x27;ignore&#x27;,\n",
              "                                                                sparse_output=False))]),\n",
              "                                 [&#x27;bodyType&#x27;]),\n",
              "                                (&#x27;cat_brand&#x27;,\n",
              "                                 Pipeline(steps=[(&#x27;replace_rare&#x27;,\n",
              "                                                  RareGrouper(threshold=0.001)),\n",
              "                                                 (&#x27;encoder&#x27;,\n",
              "                                                  OneHotEncoder(drop=&#x27;if_binary&#x27;,\n",
              "                                                                handle_unknown=&#x27;ignore&#x27;,\n",
              "                                                                sparse_output=False))]),\n",
              "                                 [&#x27;brand&#x27;]),\n",
              "                                (&#x27;cat_name&#x27;,\n",
              "                                 Pipeline(steps=[(&#x27;replace_rare&#x27;,\n",
              "                                                  RareGrouper(threshold=0.0001)),\n",
              "                                                 (&#x27;encoder&#x27;,\n",
              "                                                  OneHotEncoder(drop=&#x27;if_binary&#x27;,\n",
              "                                                                handle_unknown=&#x27;ignore&#x27;,\n",
              "                                                                sparse_output=False))]),\n",
              "                                 [&#x27;name&#x27;])])</pre></div></div></div><div class=\"sk-parallel\"><div class=\"sk-parallel-item\"><div class=\"sk-item\"><div class=\"sk-label-container\"><div class=\"sk-label sk-toggleable\"><input class=\"sk-toggleable__control sk-hidden--visually\" id=\"sk-estimator-id-17\" type=\"checkbox\" ><label for=\"sk-estimator-id-17\" class=\"sk-toggleable__label sk-toggleable__label-arrow\">num_pipe</label><div class=\"sk-toggleable__content\"><pre>[&#x27;year&#x27;, &#x27;power&#x27;, &#x27;mileage&#x27;]</pre></div></div></div><div class=\"sk-serial\"><div class=\"sk-item\"><div class=\"sk-serial\"><div class=\"sk-item\"><div class=\"sk-estimator sk-toggleable\"><input class=\"sk-toggleable__control sk-hidden--visually\" id=\"sk-estimator-id-18\" type=\"checkbox\" ><label for=\"sk-estimator-id-18\" class=\"sk-toggleable__label sk-toggleable__label-arrow\">PowerTransformer</label><div class=\"sk-toggleable__content\"><pre>PowerTransformer()</pre></div></div></div></div></div></div></div></div><div class=\"sk-parallel-item\"><div class=\"sk-item\"><div class=\"sk-label-container\"><div class=\"sk-label sk-toggleable\"><input class=\"sk-toggleable__control sk-hidden--visually\" id=\"sk-estimator-id-19\" type=\"checkbox\" ><label for=\"sk-estimator-id-19\" class=\"sk-toggleable__label sk-toggleable__label-arrow\">cat_style_fuel</label><div class=\"sk-toggleable__content\"><pre>[&#x27;bodyType&#x27;]</pre></div></div></div><div class=\"sk-serial\"><div class=\"sk-item\"><div class=\"sk-serial\"><div class=\"sk-item\"><div class=\"sk-estimator sk-toggleable\"><input class=\"sk-toggleable__control sk-hidden--visually\" id=\"sk-estimator-id-20\" type=\"checkbox\" ><label for=\"sk-estimator-id-20\" class=\"sk-toggleable__label sk-toggleable__label-arrow\">OneHotEncoder</label><div class=\"sk-toggleable__content\"><pre>OneHotEncoder(drop=&#x27;if_binary&#x27;, handle_unknown=&#x27;ignore&#x27;, sparse_output=False)</pre></div></div></div></div></div></div></div></div><div class=\"sk-parallel-item\"><div class=\"sk-item\"><div class=\"sk-label-container\"><div class=\"sk-label sk-toggleable\"><input class=\"sk-toggleable__control sk-hidden--visually\" id=\"sk-estimator-id-21\" type=\"checkbox\" ><label for=\"sk-estimator-id-21\" class=\"sk-toggleable__label sk-toggleable__label-arrow\">cat_brand</label><div class=\"sk-toggleable__content\"><pre>[&#x27;brand&#x27;]</pre></div></div></div><div class=\"sk-serial\"><div class=\"sk-item\"><div class=\"sk-serial\"><div class=\"sk-item\"><div class=\"sk-estimator sk-toggleable\"><input class=\"sk-toggleable__control sk-hidden--visually\" id=\"sk-estimator-id-22\" type=\"checkbox\" ><label for=\"sk-estimator-id-22\" class=\"sk-toggleable__label sk-toggleable__label-arrow\">RareGrouper</label><div class=\"sk-toggleable__content\"><pre>RareGrouper(threshold=0.001)</pre></div></div></div><div class=\"sk-item\"><div class=\"sk-estimator sk-toggleable\"><input class=\"sk-toggleable__control sk-hidden--visually\" id=\"sk-estimator-id-23\" type=\"checkbox\" ><label for=\"sk-estimator-id-23\" class=\"sk-toggleable__label sk-toggleable__label-arrow\">OneHotEncoder</label><div class=\"sk-toggleable__content\"><pre>OneHotEncoder(drop=&#x27;if_binary&#x27;, handle_unknown=&#x27;ignore&#x27;, sparse_output=False)</pre></div></div></div></div></div></div></div></div><div class=\"sk-parallel-item\"><div class=\"sk-item\"><div class=\"sk-label-container\"><div class=\"sk-label sk-toggleable\"><input class=\"sk-toggleable__control sk-hidden--visually\" id=\"sk-estimator-id-24\" type=\"checkbox\" ><label for=\"sk-estimator-id-24\" class=\"sk-toggleable__label sk-toggleable__label-arrow\">cat_name</label><div class=\"sk-toggleable__content\"><pre>[&#x27;name&#x27;]</pre></div></div></div><div class=\"sk-serial\"><div class=\"sk-item\"><div class=\"sk-serial\"><div class=\"sk-item\"><div class=\"sk-estimator sk-toggleable\"><input class=\"sk-toggleable__control sk-hidden--visually\" id=\"sk-estimator-id-25\" type=\"checkbox\" ><label for=\"sk-estimator-id-25\" class=\"sk-toggleable__label sk-toggleable__label-arrow\">RareGrouper</label><div class=\"sk-toggleable__content\"><pre>RareGrouper(threshold=0.0001)</pre></div></div></div><div class=\"sk-item\"><div class=\"sk-estimator sk-toggleable\"><input class=\"sk-toggleable__control sk-hidden--visually\" id=\"sk-estimator-id-26\" type=\"checkbox\" ><label for=\"sk-estimator-id-26\" class=\"sk-toggleable__label sk-toggleable__label-arrow\">OneHotEncoder</label><div class=\"sk-toggleable__content\"><pre>OneHotEncoder(drop=&#x27;if_binary&#x27;, handle_unknown=&#x27;ignore&#x27;, sparse_output=False)</pre></div></div></div></div></div></div></div></div></div></div><div class=\"sk-item\"><div class=\"sk-estimator sk-toggleable\"><input class=\"sk-toggleable__control sk-hidden--visually\" id=\"sk-estimator-id-27\" type=\"checkbox\" ><label for=\"sk-estimator-id-27\" class=\"sk-toggleable__label sk-toggleable__label-arrow\">LogisticRegression</label><div class=\"sk-toggleable__content\"><pre>LogisticRegression(random_state=42)</pre></div></div></div></div></div></div></div>"
            ]
          },
          "metadata": {},
          "execution_count": 109
        }
      ]
    },
    {
      "cell_type": "code",
      "source": [
        "cat_style_fuel_names = pipe_all['preprocessors'].transformers_[1][1]['encoder'].get_feature_names_out(cat_style_fuel)\n",
        "cat_brand_names =  pipe_all['preprocessors'].transformers_[2][1]['encoder'].get_feature_names_out(cat_brand)\n",
        "cat_name_names =  pipe_all['preprocessors'].transformers_[3][1]['encoder'].get_feature_names_out(cat_name)\n",
        "\n",
        "# объединяем названия колонок в один список (важен порядок как в ColumnTransformer)\n",
        "columns = np.hstack([num_pipe,\n",
        "                    cat_style_fuel_names,\n",
        "                    cat_brand_names,\n",
        "                    cat_name_names])"
      ],
      "metadata": {
        "id": "3lRZJtYuQdet"
      },
      "execution_count": 112,
      "outputs": []
    },
    {
      "cell_type": "code",
      "source": [
        "B0, B = get_coefs(pipe_all['model'])\n",
        "features_names = list(columns)\n",
        "\n",
        "print_model (B0,B,features_names)"
      ],
      "metadata": {
        "id": "stAmua4tR57R",
        "colab": {
          "base_uri": "https://localhost:8080/"
        },
        "outputId": "35e5c102-9012-4bfd-ee3a-6f88f0463ea9"
      },
      "execution_count": 115,
      "outputs": [
        {
          "output_type": "stream",
          "name": "stdout",
          "text": [
            "Решение\n",
            "-3.270-0.21*year-0.25*power+0.15*mileage+0.50*bodyType_Джип 3 дв.+0.75*bodyType_Джип 5 дв.-1.13*bodyType_Купе-1.62*bodyType_Лифтбек+1.91*bodyType_Минивэн-0.01*bodyType_Открытый+3.58*bodyType_Пикап-1.42*bodyType_Седан-0.38*bodyType_Универсал-0.49*bodyType_Хэтчбек 3 дв.-1.69*bodyType_Хэтчбек 5 дв.+0.78*brand_Audi+2.63*brand_BMW-0.64*brand_Chery-0.16*brand_Chevrolet-0.04*brand_Citroen-0.22*brand_Daewoo-0.31*brand_Daihatsu-0.07*brand_Datsun-0.52*brand_Dodge-0.93*brand_EXEED-0.66*brand_Fiat+0.56*brand_Ford-0.73*brand_Geely+0.22*brand_Great Wall-0.24*brand_Haval-2.50*brand_Honda+1.94*brand_Hyundai-0.47*brand_Infiniti+0.83*brand_Kia+1.90*brand_Land Rover-1.08*brand_Lexus-0.21*brand_Lifan+0.50*brand_Mazda+2.58*brand_Mercedes-Benz+0.16*brand_Mitsubishi+0.26*brand_Nissan-0.73*brand_OMODA+0.44*brand_Opel+0.72*brand_Other+1.29*brand_Peugeot+0.91*brand_Renault-0.62*brand_Skoda+1.75*brand_SsangYong-0.83*brand_Subaru-1.08*brand_Suzuki-0.15*brand_Toyota+1.20*brand_Volkswagen-0.19*brand_Volvo-0.61*brand_ГАЗ-1.00*brand_ИЖ-2.56*brand_Лада-1.05*brand_Москвич-1.06*brand_УАЗ-0.06*name_1-Series-0.03*name_100-0.06*name_107-0.05*name_1111 Ока-0.33*name_1500-0.02*name_156-0.11*name_190-0.11*name_207-0.04*name_21 Волга-0.00*name_2101-0.02*name_2104-0.02*name_2105-0.05*name_2106-0.07*name_2107-0.02*name_2108-0.01*name_2109-0.02*name_21099-0.05*name_2110-0.01*name_2111-0.02*name_2112-0.02*name_2114 Самара-0.02*name_2115 Самара-0.02*name_2125 Комби-0.01*name_2126 Ода-0.01*name_21261 Фабула-0.01*name_2141-0.35*name_2217-0.00*name_24 Волга-0.69*name_2715-0.26*name_2717-1.02*name_3+0.51*name_3-Series+0.97*name_300C-0.10*name_306-0.03*name_307-0.07*name_308-0.01*name_3102 Волга-0.02*name_31029 Волга-0.07*name_3110 Волга-0.03*name_31105 Волга-0.15*name_3151-0.03*name_3153-0.02*name_403-0.01*name_412-0.11*name_4Runner-0.27*name_4x4 2121 Нива-0.09*name_4x4 2131 Нива-0.02*name_4x4 Урбан+0.46*name_5-Series-0.02*name_508-0.02*name_626-0.08*name_69+1.28*name_7-Series-0.11*name_80-0.01*name_9-3-0.28*name_969-0.01*name_A3+0.35*name_A4-0.06*name_A5-0.07*name_A6-0.05*name_A6 allroad quattro+0.91*name_A8-0.76*name_AD-0.52*name_ASX-0.02*name_AZ-Wagon-0.28*name_Accent-0.02*name_Accord-0.39*name_Actyon+0.20*name_Actyon Sports-0.02*name_Airwave-0.01*name_Albea-0.01*name_Allex-0.29*name_Allion-0.16*name_Almera-0.05*name_Almera Classic-0.70*name_Alphard-0.02*name_Altezza-0.02*name_Altima-0.03*name_Alto+1.59*name_Amarok-0.01*name_Amulet A15+1.11*name_Antara-0.15*name_Aqua-0.02*name_Aristo-0.48*name_Arkana-0.00*name_Ascot-0.24*name_Astra-0.11*name_Astra Family-0.07*name_Astra GTC-0.05*name_Atenza-0.05*name_Atlas-0.07*name_Atlas Pro-0.11*name_Atos-0.06*name_Auris-0.01*name_Avalon-0.01*name_Avancier-0.15*name_Avante-0.16*name_Avenir+0.67*name_Avensis-0.10*name_Aveo-0.04*name_Axela+0.19*name_B-Series+0.57*name_BT-50-0.36*name_Bassara-0.11*name_Be-Go-0.09*name_Belta-0.61*name_Berlingo-0.13*name_Besturn X40-0.65*name_Biante+1.56*name_Bighorn-0.01*name_Blade-0.06*name_Bluebird-0.07*name_Bluebird Sylphy+0.40*name_Bongo+0.94*name_Bongo Friendee-0.00*name_Bonus 3 - A19-0.00*name_Bonus A13-0.01*name_Boon-0.01*name_Brevis-0.62*name_C-Class-0.74*name_C-HR-0.41*name_C-MAX-0.29*name_C3 Picasso-0.01*name_C4-0.08*name_C4 Cactus-0.72*name_C5-0.14*name_CLA-Class-0.20*name_CLK-Class-0.11*name_CR-V-0.00*name_CR-Z-0.03*name_CT200h+0.82*name_CX-3-0.02*name_CX-5-0.30*name_CX-7-1.32*name_Caddy-0.03*name_Caldina-0.01*name_Caliber-0.07*name_Cami+0.19*name_Camry-0.04*name_Camry Gracia-0.16*name_Capella-0.05*name_Captiva-0.13*name_Captur-0.44*name_Caravan+0.37*name_Caravan Elgrand+2.45*name_Caravelle+0.45*name_Carina-0.02*name_Carina E-0.01*name_Carina ED-0.03*name_Carisma+2.75*name_Carnival-0.01*name_Carol-0.14*name_Carry Van-0.01*name_Cavalier-0.36*name_Cayenne-0.02*name_Cedric-0.16*name_Ceed-0.06*name_Cefiro-0.04*name_Celica-0.01*name_Celsior-0.14*name_Cerato-0.05*name_Challenger-0.20*name_Chariot Grandis-0.22*name_Chaser-0.00*name_City-0.01*name_Civic-0.01*name_Civic Ferio-0.02*name_Cobalt-0.02*name_Colt-0.20*name_Coolray SX11+0.38*name_Corolla-0.14*name_Corolla Axio-0.05*name_Corolla Cross-0.01*name_Corolla FX-1.09*name_Corolla Fielder-0.05*name_Corolla Rumion-0.03*name_Corolla Runx-1.23*name_Corolla Spacio+1.94*name_Corona-0.06*name_Corona Exiv+0.52*name_Corona Premio-0.20*name_Corsa+0.61*name_Cresta-1.13*name_Creta-0.01*name_Crossroad-0.25*name_Crown-0.03*name_Crown Majesta-0.06*name_Cruze-0.13*name_Cube-0.03*name_Cultus-0.05*name_DAYZ-0.02*name_DAYZ Roox-0.01*name_DS5-0.02*name_Datsun+0.39*name_Defender+1.49*name_Delica-0.01*name_Delica D:2-0.34*name_Delica D:3+0.13*name_Delica D:5+0.88*name_Demio-0.05*name_Diamante-0.25*name_Dion+0.35*name_Discovery+1.02*name_Discovery Sport-0.66*name_Doblo-0.01*name_Duet+0.92*name_Duster-0.12*name_E-Class-0.06*name_E5-0.00*name_ES250-0.09*name_EX35-0.01*name_Echo-0.18*name_Elantra+0.29*name_Elgrand-0.02*name_Elysion-0.00*name_Emgrand EC7-0.25*name_Emgrand X7-0.03*name_Equus-0.40*name_Escape-0.06*name_Escort-0.07*name_Escudo-0.02*name_Espero-0.67*name_Esquire+0.58*name_Estima Emina+0.76*name_Estima Lucida-0.10*name_Every-0.13*name_Expedition-0.27*name_Expert-0.24*name_Explorer-0.10*name_Express-0.54*name_F150-0.02*name_F3-0.11*name_F7-0.21*name_FX35-0.04*name_FX45-0.03*name_Fabia-0.15*name_Familia-0.05*name_Familia S-Wagon-0.01*name_Fiesta-0.06*name_Fit-0.07*name_Fit Shuttle-0.04*name_Flair Crossover-0.01*name_Florid-0.08*name_Fluence-0.03*name_Flyer+0.09*name_Focus-0.01*name_Fora A21-0.45*name_Forester+0.86*name_Fortuner+0.95*name_Freda-0.67*name_Freed-0.17*name_Freed Spike-0.02*name_Freed+-0.70*name_Freelander-0.07*name_Funcargo-0.08*name_Fusion-0.30*name_G-Class-0.00*name_G35+0.72*name_GL-Class-0.34*name_GLA-Class-0.22*name_GLC Coupe-0.16*name_GLE Coupe+0.46*name_GLK-Class-0.22*name_GLS-Class-0.00*name_GS430-0.01*name_GS450h-0.01*name_GT 86-0.01*name_GT-R-0.08*name_GX470-1.08*name_Gaia-0.15*name_Galant-0.01*name_Gentra-0.10*name_Getz-0.03*name_Gloria-0.42*name_Golf-0.10*name_Golf Plus+1.14*name_Grand C4 Picasso-0.28*name_Grand Cherokee-0.03*name_Grand Escudo+0.58*name_Grand Santa Fe+1.22*name_Grand Starex-0.32*name_Grand Vitara-0.03*name_Grand Vitara XL-7+0.54*name_Granvia+1.25*name_H1-0.09*name_H2-0.33*name_H3-0.04*name_H6-0.02*name_H9-0.16*name_HR-V-1.14*name_Harrier+1.92*name_Hiace-0.19*name_Highlander-0.42*name_Hijet+1.52*name_Hilux+2.91*name_Hilux Surf+1.01*name_Homy Elgrand-0.16*name_Hover-0.15*name_Hover H3+0.50*name_Hover H5-0.01*name_IS250-0.01*name_IS300h-0.02*name_Ibiza-0.01*name_Ignis-0.03*name_Impreza-0.00*name_Impreza WRX STI-0.02*name_Insight-0.00*name_Inspire-0.01*name_Integra-1.54*name_Ipsum-0.58*name_Isis+0.55*name_Istana-0.11*name_Jade+0.51*name_Jetta-0.18*name_Jimny-0.03*name_Jimny Wide-0.07*name_Jolion-0.91*name_Juke-0.01*name_K5-0.10*name_Kadett-0.58*name_Kangoo-0.30*name_Kaptur-0.03*name_Karoq-0.10*name_Kix-0.00*name_Kizashi-0.35*name_Kluger V-0.09*name_Kodiaq+0.28*name_Koleos-0.27*name_Kona+0.12*name_Korando Sports+0.19*name_Kuga+0.95*name_Kyron+0.94*name_L200-0.01*name_LS430-0.00*name_LS460-0.00*name_LS500-0.00*name_LS600hL-0.26*name_LX-0.03*name_LX470-0.08*name_LX570-0.17*name_Lacetti-0.02*name_Laguna-0.32*name_Lancer-0.07*name_Lancer Cedia+2.63*name_Land Cruiser+2.18*name_Land Cruiser Prado-0.11*name_Lanos-0.04*name_Latitude-0.02*name_Laurel-0.03*name_Legacy-0.03*name_Legacy B4-0.01*name_Legacy Lancaster-0.00*name_Legend-0.04*name_Levorg-0.00*name_Liana-0.68*name_Liberty-0.00*name_Life+1.20*name_Lite Ace-0.18*name_Lite Ace Noah-0.52*name_Logan-0.17*name_M-Class-0.03*name_MK-0.02*name_MK Cross-0.57*name_MPV-0.14*name_March-0.45*name_Mark II-0.03*name_Mark X+0.36*name_Master Ace Surf-0.08*name_Matiz-0.12*name_Matrix-0.05*name_Maxima-0.12*name_Mazda3-0.24*name_Mazda5-0.17*name_Mazda6+0.46*name_Megane+0.59*name_Mercedes+0.56*name_Meriva-0.01*name_Micra-0.16*name_Mira-0.09*name_Mira e:S-0.05*name_Mirage-0.05*name_Mobilio-0.01*name_Moco-0.17*name_Mokka-0.16*name_Mondeo-0.04*name_Monjaro-0.20*name_Monterey-0.21*name_Montero-0.06*name_Move+1.28*name_Multivan-0.27*name_Murano-0.26*name_Musso-0.00*name_N-BOX-0.01*name_N-WGN+0.53*name_NP300-0.18*name_NV100 Clipper-1.17*name_NV200-0.07*name_NX200-0.01*name_NX250-0.02*name_NX300-0.03*name_NX300h-1.15*name_Nadia+0.33*name_Navara-0.01*name_Neon-0.12*name_Nexia-1.02*name_Niva-0.84*name_Noah-0.31*name_Note-0.19*name_Octavia-0.13*name_Odyssey-0.02*name_Omega-0.05*name_Opa-0.05*name_Optima-0.12*name_Orlando-0.04*name_Outback-0.96*name_Outlander+1.20*name_Pajero-0.17*name_Pajero Mini+1.36*name_Pajero Sport-0.15*name_Pajero iO+0.63*name_Palisade-0.67*name_Partner-0.47*name_Passat-0.20*name_Passo+0.85*name_Pathfinder+2.32*name_Patrol-0.08*name_Picanto-0.20*name_Picnic-0.00*name_Pilot-0.11*name_Platz-0.63*name_Polo-0.02*name_Porte-0.00*name_Prelude-0.33*name_Premacy-0.28*name_Premio-0.22*name_Presage-0.01*name_Presea-0.15*name_Primera-0.08*name_Primera Camino-0.42*name_Prius-1.34*name_Prius Alpha-0.01*name_Prius PHV+1.92*name_Proace+0.00*name_Probox-0.16*name_Proceed Marvie-0.02*name_Pulsar-0.07*name_Pyzar+0.18*name_Q5-0.01*name_Q50-0.33*name_Q7-0.01*name_QQ Sweet-0.01*name_QQ6 S21-0.03*name_QX56-0.03*name_QX60-0.05*name_QX70-0.02*name_QX80-0.98*name_Qashqai-0.15*name_Qashqai+2-0.01*name_Quoris-0.05*name_R'nessa-0.01*name_R2-1.13*name_RAV4-0.01*name_RS5-0.67*name_RVR-0.03*name_RX200t-0.04*name_RX270-0.19*name_RX300-0.10*name_RX330-0.30*name_RX350-0.04*name_RX400h-0.01*name_RX450h-0.13*name_Ractis-0.00*name_Rafaga-0.10*name_Raize-0.40*name_Ram+0.12*name_Range Rover Sport+0.72*name_Range Rover Velar-0.07*name_Rapid-0.19*name_Raum-0.18*name_Regius+0.30*name_Rexton-0.30*name_Rio-0.05*name_Rio X (X-Line)+0.81*name_Rocky+0.28*name_Rodius-0.01*name_Roomster-0.01*name_Roomy-0.01*name_Roox-0.24*name_Rush+0.06*name_S-Class+0.54*name_S-MAX-0.01*name_S5-0.04*name_S60-0.01*name_SC430-0.03*name_SX4-0.00*name_Saber+2.42*name_Safari-0.36*name_Safe-0.01*name_Sai-0.07*name_Sandero-0.11*name_Sandero Stepway+0.95*name_Santa Fe+2.05*name_Scenic-0.02*name_Scorpio-0.50*name_Seltos-0.01*name_Sentra-0.55*name_Serena-0.29*name_Sharan-0.03*name_Shuma-0.04*name_Shuttle-0.72*name_Sienta-0.08*name_Sierra-0.05*name_Skyline-0.02*name_Soarer-0.01*name_Solano-0.92*name_Solaris-0.01*name_Solio-0.20*name_Sonata+1.47*name_Sorento-0.16*name_Soul-0.66*name_Space Gear-0.01*name_Spade-0.01*name_Spark-0.19*name_Spectra-1.26*name_Sportage+0.47*name_Sprinter-0.20*name_Sprinter Carib-0.01*name_Sprinter Trueno+0.55*name_Starex+1.43*name_Staria-0.04*name_Starlet-0.27*name_Stepwgn-0.02*name_Stinger-0.35*name_Stream-0.33*name_Succeed-0.10*name_Sunny-0.02*name_Superb-0.02*name_Swift-0.12*name_Symbol-0.11*name_T600-0.54*name_TXL-0.26*name_Tacoma-0.02*name_Tank-0.01*name_Tanto-0.34*name_Taos-0.19*name_Teana+0.94*name_Tercel-0.19*name_Terios Kid+0.41*name_Terracan+1.41*name_Terrano+0.79*name_Terrano Regulus-0.01*name_Thor-0.04*name_Tiggo 4-0.03*name_Tiggo 4 Pro-0.03*name_Tiggo 5-0.12*name_Tiggo 7 Pro-0.06*name_Tiggo 8-0.06*name_Tiggo 8 Pro-0.03*name_Tiggo 8 Pro Max-0.21*name_Tiggo T11-1.23*name_Tiguan-0.06*name_Tiida-0.05*name_Tiida Latio-0.21*name_Tingo-0.53*name_Tino-0.02*name_Toppo-0.00*name_Torneo+0.21*name_Touareg+0.63*name_Touring Hiace+0.43*name_Tourneo+0.49*name_Tourneo Connect+0.18*name_Town Ace-0.34*name_Town Ace Noah+1.62*name_TrailBlazer+2.34*name_Traveller-0.00*name_Trezia-0.02*name_Tribeca-0.17*name_Tribute-0.53*name_Tucson-0.07*name_Tugella FY11-0.35*name_Twingo+0.53*name_Urvan+1.68*name_V-Class-0.13*name_VX+0.07*name_Vanette-0.25*name_Vanguard+0.61*name_Vectra-0.34*name_Vellfire-0.04*name_Vento-0.17*name_Venza-0.03*name_Verossa-0.00*name_Very A13-0.13*name_Vezel-0.13*name_Vista-0.21*name_Vista Ardeo-0.02*name_Vita-0.04*name_Vitara+0.66*name_Vito-0.41*name_Vitz-0.01*name_Volt-0.06*name_Voltz-1.24*name_Voxy+0.91*name_W123-0.01*name_Wagon R-0.00*name_Wagon R Solio-0.01*name_WiLL VS-0.01*name_Windom+0.41*name_Wingle 7-0.39*name_Wingroad-1.94*name_Wish+0.09*name_X-Class-0.57*name_X-Trail-0.02*name_X-Type+0.37*name_X1-1.12*name_X3+0.38*name_X5-0.01*name_X50+0.89*name_X6-0.19*name_X60-0.16*name_XC90-0.19*name_XV-0.00*name_Xbee-0.43*name_Xceed-0.20*name_Xsara Picasso-0.01*name_YRV+0.85*name_Yaris-0.18*name_Yeti-0.75*name_Zafira-0.00*name_Zest-0.04*name_eK Wagon-0.01*name_ek Custom-0.01*name_i-0.19*name_i30-0.04*name_i40-0.07*name_i8-0.00*name_indiS S18D-0.09*name_ist-0.82*name_ix35-0.07*name_on-DO-1.02*name_Буханка-0.05*name_Веста-0.04*name_Веста Кросс-0.01*name_Волга Сайбер-0.27*name_Гранта-0.01*name_Гранта Кросс-0.00*name_Гранта Спорт-0.29*name_Запорожец-0.00*name_ИЖ+0.87*name_Иномарки-0.03*name_Калина-0.00*name_Калина Кросс-0.00*name_Калина Спорт-0.13*name_Ларгус-0.04*name_Ларгус Кросс-0.01*name_Нива (2020-21 гг.)-0.41*name_Нива Легенд-0.73*name_Нива Тревел-0.29*name_Патриот-0.40*name_Пикап-0.05*name_Приора-0.05*name_Сенс-0.01*name_Х-рей-0.01*name_Х-рей Кросс+0.83*name_Хантер-0.01*name_Шанс\n"
          ]
        }
      ]
    },
    {
      "cell_type": "markdown",
      "source": [
        "**Модификация функции для отрисовки весов**"
      ],
      "metadata": {
        "id": "vzigStVd_6Bs"
      }
    },
    {
      "cell_type": "code",
      "source": [
        "def vis_weigths_threshold(weights, feature_names, threshold, width = 1200, height = 600):\n",
        "    \"\"\"Отрисовка весов с фильтром.\n",
        "    Входные переменные:\n",
        "    ===========\n",
        "    weights: веса признаков\n",
        "    features_names: список названий признаков\n",
        "    threshold: порог \"значимости\" коэффициентов\n",
        "    \"\"\"\n",
        "    # фильтруем веса коэффициентов\n",
        "    mask = np.abs(weights) >= threshold\n",
        "    weights_filtered = weights[mask]\n",
        "    feature_names_filtered = [name for name, m in zip(feature_names, mask[1:]) if m]\n",
        "\n",
        "    # Рисуем столбчатую диаграмму\n",
        "    vis_weigths(weights_filtered,feature_names_filtered, width = width, height = height)"
      ],
      "metadata": {
        "id": "dHs9AhEGSzY6"
      },
      "execution_count": 118,
      "outputs": []
    },
    {
      "cell_type": "code",
      "source": [
        "Bs = np.hstack([B0,B])\n",
        "vis_weigths_threshold(Bs,columns, 1,  width = 1600)"
      ],
      "metadata": {
        "colab": {
          "base_uri": "https://localhost:8080/",
          "height": 637
        },
        "id": "MlkOUthRS1LW",
        "outputId": "54eacc08-ce59-4a71-d281-55551ba1eb05"
      },
      "execution_count": 119,
      "outputs": [
        {
          "output_type": "display_data",
          "data": {
            "text/html": [
              "<html>\n",
              "<head><meta charset=\"utf-8\" /></head>\n",
              "<body>\n",
              "    <div>            <script src=\"https://cdnjs.cloudflare.com/ajax/libs/mathjax/2.7.5/MathJax.js?config=TeX-AMS-MML_SVG\"></script><script type=\"text/javascript\">if (window.MathJax && window.MathJax.Hub && window.MathJax.Hub.Config) {window.MathJax.Hub.Config({SVG: {font: \"STIX-Web\"}});}</script>                <script type=\"text/javascript\">window.PlotlyConfig = {MathJaxConfig: 'local'};</script>\n",
              "        <script charset=\"utf-8\" src=\"https://cdn.plot.ly/plotly-2.24.1.min.js\"></script>                <div id=\"89526786-d717-4e9d-b8be-948283d7e90f\" class=\"plotly-graph-div\" style=\"height:600px; width:1600px;\"></div>            <script type=\"text/javascript\">                                    window.PLOTLYENV=window.PLOTLYENV || {};                                    if (document.getElementById(\"89526786-d717-4e9d-b8be-948283d7e90f\")) {                    Plotly.newPlot(                        \"89526786-d717-4e9d-b8be-948283d7e90f\",                        [{\"marker\":{\"color\":\"red\"},\"name\":\"\\u043e\\u0442\\u0440\\u0438\\u0446\\u0430\\u0442\\u0435\\u043b\\u044c\\u043d\\u044b\\u0435 \\u0432\\u0435\\u0441\\u0430\",\"x\":[0,1,2,5,6,8,11,15,17,18,19,20,25,28,29,31,34,38,43,48,49,50,54,56,60,63,67,68,69,70],\"y\":[-3.2700971984019325,-1.1263844042442004,-1.6228584202496372,-1.4161498361756328,-1.6900356187888457,-2.500315203506204,-1.0779454368071961,-1.0794377487882392,-2.558646218671785,-1.0516348690086406,-1.0647923687345542,-1.0230018465243131,-1.3162481489786932,-1.0897116833478961,-1.2255637645561737,-1.125775186307968,-1.0801983940377196,-1.1363031865976454,-1.5419201154539948,-1.1742662335046614,-1.1524213481034884,-1.016563576939583,-1.344026867065427,-1.1281214234224284,-1.2575266230715794,-1.2276262779612048,-1.2357623975762189,-1.9445255565584612,-1.1242659478747796,-1.0172722624309725],\"type\":\"bar\"},{\"marker\":{\"color\":\"blue\"},\"name\":\"\\u043f\\u043e\\u043b\\u043e\\u0436\\u0438\\u0442\\u0435\\u043b\\u044c\\u043d\\u044b\\u0435 \\u0432\\u0435\\u0441\\u0430\",\"x\":[3,4,7,9,10,12,13,14,16,21,22,23,24,26,27,30,32,33,35,36,37,39,40,41,42,44,45,46,47,51,52,53,55,57,58,59,61,62,64,65,66],\"y\":[1.906047447349282,3.580960542390891,2.6339436817107758,1.9410723869896103,1.8972703467549263,2.581893725266411,1.2900272535165884,1.7479708122150712,1.1967815287880883,1.2792724326781826,1.5874223251179609,1.1051609095859658,1.5599063391508972,2.449664831480522,2.747577164782125,1.9384354026937483,1.4898182216812383,1.017572077812986,1.141849600079074,1.2210234983745734,1.248284835308771,1.9166255900548008,1.5208986931677821,2.9054950560431765,1.008571126930814,2.628492856462449,2.1838030368310712,1.204746818599442,1.2756565838547167,1.1984104018680783,1.3594701183989126,2.3199579322517883,1.920389555763069,2.4202763756680343,2.0527992896774525,1.467839976899013,1.425624557308738,1.4069078282786194,1.6204533253825752,2.342576793037269,1.6773619194103522],\"type\":\"bar\"}],                        {\"template\":{\"data\":{\"barpolar\":[{\"marker\":{\"line\":{\"color\":\"rgb(17,17,17)\",\"width\":0.5},\"pattern\":{\"fillmode\":\"overlay\",\"size\":10,\"solidity\":0.2}},\"type\":\"barpolar\"}],\"bar\":[{\"error_x\":{\"color\":\"#f2f5fa\"},\"error_y\":{\"color\":\"#f2f5fa\"},\"marker\":{\"line\":{\"color\":\"rgb(17,17,17)\",\"width\":0.5},\"pattern\":{\"fillmode\":\"overlay\",\"size\":10,\"solidity\":0.2}},\"type\":\"bar\"}],\"carpet\":[{\"aaxis\":{\"endlinecolor\":\"#A2B1C6\",\"gridcolor\":\"#506784\",\"linecolor\":\"#506784\",\"minorgridcolor\":\"#506784\",\"startlinecolor\":\"#A2B1C6\"},\"baxis\":{\"endlinecolor\":\"#A2B1C6\",\"gridcolor\":\"#506784\",\"linecolor\":\"#506784\",\"minorgridcolor\":\"#506784\",\"startlinecolor\":\"#A2B1C6\"},\"type\":\"carpet\"}],\"choropleth\":[{\"colorbar\":{\"outlinewidth\":0,\"ticks\":\"\"},\"type\":\"choropleth\"}],\"contourcarpet\":[{\"colorbar\":{\"outlinewidth\":0,\"ticks\":\"\"},\"type\":\"contourcarpet\"}],\"contour\":[{\"colorbar\":{\"outlinewidth\":0,\"ticks\":\"\"},\"colorscale\":[[0.0,\"#0d0887\"],[0.1111111111111111,\"#46039f\"],[0.2222222222222222,\"#7201a8\"],[0.3333333333333333,\"#9c179e\"],[0.4444444444444444,\"#bd3786\"],[0.5555555555555556,\"#d8576b\"],[0.6666666666666666,\"#ed7953\"],[0.7777777777777778,\"#fb9f3a\"],[0.8888888888888888,\"#fdca26\"],[1.0,\"#f0f921\"]],\"type\":\"contour\"}],\"heatmapgl\":[{\"colorbar\":{\"outlinewidth\":0,\"ticks\":\"\"},\"colorscale\":[[0.0,\"#0d0887\"],[0.1111111111111111,\"#46039f\"],[0.2222222222222222,\"#7201a8\"],[0.3333333333333333,\"#9c179e\"],[0.4444444444444444,\"#bd3786\"],[0.5555555555555556,\"#d8576b\"],[0.6666666666666666,\"#ed7953\"],[0.7777777777777778,\"#fb9f3a\"],[0.8888888888888888,\"#fdca26\"],[1.0,\"#f0f921\"]],\"type\":\"heatmapgl\"}],\"heatmap\":[{\"colorbar\":{\"outlinewidth\":0,\"ticks\":\"\"},\"colorscale\":[[0.0,\"#0d0887\"],[0.1111111111111111,\"#46039f\"],[0.2222222222222222,\"#7201a8\"],[0.3333333333333333,\"#9c179e\"],[0.4444444444444444,\"#bd3786\"],[0.5555555555555556,\"#d8576b\"],[0.6666666666666666,\"#ed7953\"],[0.7777777777777778,\"#fb9f3a\"],[0.8888888888888888,\"#fdca26\"],[1.0,\"#f0f921\"]],\"type\":\"heatmap\"}],\"histogram2dcontour\":[{\"colorbar\":{\"outlinewidth\":0,\"ticks\":\"\"},\"colorscale\":[[0.0,\"#0d0887\"],[0.1111111111111111,\"#46039f\"],[0.2222222222222222,\"#7201a8\"],[0.3333333333333333,\"#9c179e\"],[0.4444444444444444,\"#bd3786\"],[0.5555555555555556,\"#d8576b\"],[0.6666666666666666,\"#ed7953\"],[0.7777777777777778,\"#fb9f3a\"],[0.8888888888888888,\"#fdca26\"],[1.0,\"#f0f921\"]],\"type\":\"histogram2dcontour\"}],\"histogram2d\":[{\"colorbar\":{\"outlinewidth\":0,\"ticks\":\"\"},\"colorscale\":[[0.0,\"#0d0887\"],[0.1111111111111111,\"#46039f\"],[0.2222222222222222,\"#7201a8\"],[0.3333333333333333,\"#9c179e\"],[0.4444444444444444,\"#bd3786\"],[0.5555555555555556,\"#d8576b\"],[0.6666666666666666,\"#ed7953\"],[0.7777777777777778,\"#fb9f3a\"],[0.8888888888888888,\"#fdca26\"],[1.0,\"#f0f921\"]],\"type\":\"histogram2d\"}],\"histogram\":[{\"marker\":{\"pattern\":{\"fillmode\":\"overlay\",\"size\":10,\"solidity\":0.2}},\"type\":\"histogram\"}],\"mesh3d\":[{\"colorbar\":{\"outlinewidth\":0,\"ticks\":\"\"},\"type\":\"mesh3d\"}],\"parcoords\":[{\"line\":{\"colorbar\":{\"outlinewidth\":0,\"ticks\":\"\"}},\"type\":\"parcoords\"}],\"pie\":[{\"automargin\":true,\"type\":\"pie\"}],\"scatter3d\":[{\"line\":{\"colorbar\":{\"outlinewidth\":0,\"ticks\":\"\"}},\"marker\":{\"colorbar\":{\"outlinewidth\":0,\"ticks\":\"\"}},\"type\":\"scatter3d\"}],\"scattercarpet\":[{\"marker\":{\"colorbar\":{\"outlinewidth\":0,\"ticks\":\"\"}},\"type\":\"scattercarpet\"}],\"scattergeo\":[{\"marker\":{\"colorbar\":{\"outlinewidth\":0,\"ticks\":\"\"}},\"type\":\"scattergeo\"}],\"scattergl\":[{\"marker\":{\"line\":{\"color\":\"#283442\"}},\"type\":\"scattergl\"}],\"scattermapbox\":[{\"marker\":{\"colorbar\":{\"outlinewidth\":0,\"ticks\":\"\"}},\"type\":\"scattermapbox\"}],\"scatterpolargl\":[{\"marker\":{\"colorbar\":{\"outlinewidth\":0,\"ticks\":\"\"}},\"type\":\"scatterpolargl\"}],\"scatterpolar\":[{\"marker\":{\"colorbar\":{\"outlinewidth\":0,\"ticks\":\"\"}},\"type\":\"scatterpolar\"}],\"scatter\":[{\"marker\":{\"line\":{\"color\":\"#283442\"}},\"type\":\"scatter\"}],\"scatterternary\":[{\"marker\":{\"colorbar\":{\"outlinewidth\":0,\"ticks\":\"\"}},\"type\":\"scatterternary\"}],\"surface\":[{\"colorbar\":{\"outlinewidth\":0,\"ticks\":\"\"},\"colorscale\":[[0.0,\"#0d0887\"],[0.1111111111111111,\"#46039f\"],[0.2222222222222222,\"#7201a8\"],[0.3333333333333333,\"#9c179e\"],[0.4444444444444444,\"#bd3786\"],[0.5555555555555556,\"#d8576b\"],[0.6666666666666666,\"#ed7953\"],[0.7777777777777778,\"#fb9f3a\"],[0.8888888888888888,\"#fdca26\"],[1.0,\"#f0f921\"]],\"type\":\"surface\"}],\"table\":[{\"cells\":{\"fill\":{\"color\":\"#506784\"},\"line\":{\"color\":\"rgb(17,17,17)\"}},\"header\":{\"fill\":{\"color\":\"#2a3f5f\"},\"line\":{\"color\":\"rgb(17,17,17)\"}},\"type\":\"table\"}]},\"layout\":{\"annotationdefaults\":{\"arrowcolor\":\"#f2f5fa\",\"arrowhead\":0,\"arrowwidth\":1},\"autotypenumbers\":\"strict\",\"coloraxis\":{\"colorbar\":{\"outlinewidth\":0,\"ticks\":\"\"}},\"colorscale\":{\"diverging\":[[0,\"#8e0152\"],[0.1,\"#c51b7d\"],[0.2,\"#de77ae\"],[0.3,\"#f1b6da\"],[0.4,\"#fde0ef\"],[0.5,\"#f7f7f7\"],[0.6,\"#e6f5d0\"],[0.7,\"#b8e186\"],[0.8,\"#7fbc41\"],[0.9,\"#4d9221\"],[1,\"#276419\"]],\"sequential\":[[0.0,\"#0d0887\"],[0.1111111111111111,\"#46039f\"],[0.2222222222222222,\"#7201a8\"],[0.3333333333333333,\"#9c179e\"],[0.4444444444444444,\"#bd3786\"],[0.5555555555555556,\"#d8576b\"],[0.6666666666666666,\"#ed7953\"],[0.7777777777777778,\"#fb9f3a\"],[0.8888888888888888,\"#fdca26\"],[1.0,\"#f0f921\"]],\"sequentialminus\":[[0.0,\"#0d0887\"],[0.1111111111111111,\"#46039f\"],[0.2222222222222222,\"#7201a8\"],[0.3333333333333333,\"#9c179e\"],[0.4444444444444444,\"#bd3786\"],[0.5555555555555556,\"#d8576b\"],[0.6666666666666666,\"#ed7953\"],[0.7777777777777778,\"#fb9f3a\"],[0.8888888888888888,\"#fdca26\"],[1.0,\"#f0f921\"]]},\"colorway\":[\"#636efa\",\"#EF553B\",\"#00cc96\",\"#ab63fa\",\"#FFA15A\",\"#19d3f3\",\"#FF6692\",\"#B6E880\",\"#FF97FF\",\"#FECB52\"],\"font\":{\"color\":\"#f2f5fa\"},\"geo\":{\"bgcolor\":\"rgb(17,17,17)\",\"lakecolor\":\"rgb(17,17,17)\",\"landcolor\":\"rgb(17,17,17)\",\"showlakes\":true,\"showland\":true,\"subunitcolor\":\"#506784\"},\"hoverlabel\":{\"align\":\"left\"},\"hovermode\":\"closest\",\"mapbox\":{\"style\":\"dark\"},\"paper_bgcolor\":\"rgb(17,17,17)\",\"plot_bgcolor\":\"rgb(17,17,17)\",\"polar\":{\"angularaxis\":{\"gridcolor\":\"#506784\",\"linecolor\":\"#506784\",\"ticks\":\"\"},\"bgcolor\":\"rgb(17,17,17)\",\"radialaxis\":{\"gridcolor\":\"#506784\",\"linecolor\":\"#506784\",\"ticks\":\"\"}},\"scene\":{\"xaxis\":{\"backgroundcolor\":\"rgb(17,17,17)\",\"gridcolor\":\"#506784\",\"gridwidth\":2,\"linecolor\":\"#506784\",\"showbackground\":true,\"ticks\":\"\",\"zerolinecolor\":\"#C8D4E3\"},\"yaxis\":{\"backgroundcolor\":\"rgb(17,17,17)\",\"gridcolor\":\"#506784\",\"gridwidth\":2,\"linecolor\":\"#506784\",\"showbackground\":true,\"ticks\":\"\",\"zerolinecolor\":\"#C8D4E3\"},\"zaxis\":{\"backgroundcolor\":\"rgb(17,17,17)\",\"gridcolor\":\"#506784\",\"gridwidth\":2,\"linecolor\":\"#506784\",\"showbackground\":true,\"ticks\":\"\",\"zerolinecolor\":\"#C8D4E3\"}},\"shapedefaults\":{\"line\":{\"color\":\"#f2f5fa\"}},\"sliderdefaults\":{\"bgcolor\":\"#C8D4E3\",\"bordercolor\":\"rgb(17,17,17)\",\"borderwidth\":1,\"tickwidth\":0},\"ternary\":{\"aaxis\":{\"gridcolor\":\"#506784\",\"linecolor\":\"#506784\",\"ticks\":\"\"},\"baxis\":{\"gridcolor\":\"#506784\",\"linecolor\":\"#506784\",\"ticks\":\"\"},\"bgcolor\":\"rgb(17,17,17)\",\"caxis\":{\"gridcolor\":\"#506784\",\"linecolor\":\"#506784\",\"ticks\":\"\"}},\"title\":{\"x\":0.05},\"updatemenudefaults\":{\"bgcolor\":\"#506784\",\"borderwidth\":0},\"xaxis\":{\"automargin\":true,\"gridcolor\":\"#283442\",\"linecolor\":\"#506784\",\"ticks\":\"\",\"title\":{\"standoff\":15},\"zerolinecolor\":\"#283442\",\"zerolinewidth\":2},\"yaxis\":{\"automargin\":true,\"gridcolor\":\"#283442\",\"linecolor\":\"#506784\",\"ticks\":\"\",\"title\":{\"standoff\":15},\"zerolinecolor\":\"#283442\",\"zerolinewidth\":2}}},\"xaxis\":{\"tickmode\":\"array\",\"tickvals\":[0,1,2,3,4,5,6,7,8,9,10,11,12,13,14,15,16,17,18,19,20,21,22,23,24,25,26,27,28,29,30,31,32,33,34,35,36,37,38,39,40,41,42,43,44,45,46,47,48,49,50,51,52,53,54,55,56,57,58,59,60,61,62,63,64,65,66,67,68,69,70],\"ticktext\":[\"B0\",\"bodyType_\\u041a\\u0443\\u043f\\u0435\",\"bodyType_\\u041b\\u0438\\u0444\\u0442\\u0431\\u0435\\u043a\",\"bodyType_\\u041c\\u0438\\u043d\\u0438\\u0432\\u044d\\u043d\",\"bodyType_\\u041f\\u0438\\u043a\\u0430\\u043f\",\"bodyType_\\u0421\\u0435\\u0434\\u0430\\u043d\",\"bodyType_\\u0425\\u044d\\u0442\\u0447\\u0431\\u0435\\u043a 5 \\u0434\\u0432.\",\"brand_BMW\",\"brand_Honda\",\"brand_Hyundai\",\"brand_Land Rover\",\"brand_Lexus\",\"brand_Mercedes-Benz\",\"brand_Peugeot\",\"brand_SsangYong\",\"brand_Suzuki\",\"brand_Volkswagen\",\"brand_\\u041b\\u0430\\u0434\\u0430\",\"brand_\\u041c\\u043e\\u0441\\u043a\\u0432\\u0438\\u0447\",\"brand_\\u0423\\u0410\\u0417\",\"name_3\",\"name_7-Series\",\"name_Amarok\",\"name_Antara\",\"name_Bighorn\",\"name_Caddy\",\"name_Caravelle\",\"name_Carnival\",\"name_Corolla Fielder\",\"name_Corolla Spacio\",\"name_Corona\",\"name_Creta\",\"name_Delica\",\"name_Discovery Sport\",\"name_Gaia\",\"name_Grand C4 Picasso\",\"name_Grand Starex\",\"name_H1\",\"name_Harrier\",\"name_Hiace\",\"name_Hilux\",\"name_Hilux Surf\",\"name_Homy Elgrand\",\"name_Ipsum\",\"name_Land Cruiser\",\"name_Land Cruiser Prado\",\"name_Lite Ace\",\"name_Multivan\",\"name_NV200\",\"name_Nadia\",\"name_Niva\",\"name_Pajero\",\"name_Pajero Sport\",\"name_Patrol\",\"name_Prius Alpha\",\"name_Proace\",\"name_RAV4\",\"name_Safari\",\"name_Scenic\",\"name_Sorento\",\"name_Sportage\",\"name_Staria\",\"name_Terrano\",\"name_Tiguan\",\"name_TrailBlazer\",\"name_Traveller\",\"name_V-Class\",\"name_Voxy\",\"name_Wish\",\"name_X3\",\"name_\\u0411\\u0443\\u0445\\u0430\\u043d\\u043a\\u0430\"]},\"title\":{\"text\":\"\\u0412\\u0435\\u0441\\u0430 \\u043c\\u043e\\u0434\\u0435\\u043b\\u0438\"},\"width\":1600,\"height\":600},                        {\"responsive\": true}                    ).then(function(){\n",
              "                            \n",
              "var gd = document.getElementById('89526786-d717-4e9d-b8be-948283d7e90f');\n",
              "var x = new MutationObserver(function (mutations, observer) {{\n",
              "        var display = window.getComputedStyle(gd).display;\n",
              "        if (!display || display === 'none') {{\n",
              "            console.log([gd, 'removed!']);\n",
              "            Plotly.purge(gd);\n",
              "            observer.disconnect();\n",
              "        }}\n",
              "}});\n",
              "\n",
              "// Listen for the removal of the full notebook cells\n",
              "var notebookContainer = gd.closest('#notebook-container');\n",
              "if (notebookContainer) {{\n",
              "    x.observe(notebookContainer, {childList: true});\n",
              "}}\n",
              "\n",
              "// Listen for the clearing of the current output cell\n",
              "var outputEl = gd.closest('.output');\n",
              "if (outputEl) {{\n",
              "    x.observe(outputEl, {childList: true});\n",
              "}}\n",
              "\n",
              "                        })                };                            </script>        </div>\n",
              "</body>\n",
              "</html>"
            ]
          },
          "metadata": {}
        }
      ]
    },
    {
      "cell_type": "code",
      "source": [
        "print(f\"f1 на тренировочной выборке: {calculate_metric(pipe_all, X_train, y_train):.4f}\")\n",
        "print(f\"f1 на валидационной выборке: {calculate_metric(pipe_all, X_val, y_val):.4f}\")"
      ],
      "metadata": {
        "colab": {
          "base_uri": "https://localhost:8080/"
        },
        "id": "YRTsaS1oS64O",
        "outputId": "f28666b4-fb0d-428f-f871-9ff10609ca80"
      },
      "execution_count": 120,
      "outputs": [
        {
          "output_type": "stream",
          "name": "stdout",
          "text": [
            "f1 на тренировочной выборке: 0.7265\n",
            "f1 на валидационной выборке: 0.6723\n"
          ]
        }
      ]
    },
    {
      "cell_type": "code",
      "source": [
        "print(classification_report(y_val, pipe_all.predict(X_val), target_names=Label.classes_))"
      ],
      "metadata": {
        "colab": {
          "base_uri": "https://localhost:8080/"
        },
        "id": "_atRVolJS84N",
        "outputId": "e097120e-7dbb-4746-ef38-ce64050dc0ca"
      },
      "execution_count": 121,
      "outputs": [
        {
          "output_type": "stream",
          "name": "stdout",
          "text": [
            "              precision    recall  f1-score   support\n",
            "\n",
            "      Бензин       0.96      0.99      0.98      2604\n",
            "      Дизель       0.85      0.56      0.67       215\n",
            "\n",
            "    accuracy                           0.96      2819\n",
            "   macro avg       0.90      0.77      0.83      2819\n",
            "weighted avg       0.96      0.96      0.95      2819\n",
            "\n"
          ]
        }
      ]
    },
    {
      "cell_type": "code",
      "source": [
        "cross_validation (X_train, y_train,\n",
        "                  pipe_all,\n",
        "                  scoring_clf,\n",
        "                  StratifiedKFold(n_splits=5, shuffle= True, random_state = 42))"
      ],
      "metadata": {
        "colab": {
          "base_uri": "https://localhost:8080/",
          "height": 345
        },
        "id": "ckaDb3weTAv8",
        "outputId": "f9e47193-6efb-4973-cde4-6b5ca73b1aac"
      },
      "execution_count": 122,
      "outputs": [
        {
          "output_type": "stream",
          "name": "stdout",
          "text": [
            "Ошибка на кросс-валидации\n"
          ]
        },
        {
          "output_type": "display_data",
          "data": {
            "text/plain": [
              "   fit_time  score_time  test_ACC   test_F1  test_Precision  test_Recall\n",
              "0  0.701656    0.081957  0.965805  0.685315        0.875000     0.563218\n",
              "1  0.774335    0.078467  0.959726  0.582677        0.948718     0.420455\n",
              "2  0.033654    0.000000       NaN       NaN             NaN          NaN\n",
              "3  0.946004    0.076277  0.959696  0.613139        0.840000     0.482759\n",
              "4  1.067883    0.092245  0.968061  0.695652        0.941176     0.551724"
            ],
            "text/html": [
              "\n",
              "  <div id=\"df-f0ec7db3-db3e-4c6b-8ef3-f20d9b7622ec\" class=\"colab-df-container\">\n",
              "    <div>\n",
              "<style scoped>\n",
              "    .dataframe tbody tr th:only-of-type {\n",
              "        vertical-align: middle;\n",
              "    }\n",
              "\n",
              "    .dataframe tbody tr th {\n",
              "        vertical-align: top;\n",
              "    }\n",
              "\n",
              "    .dataframe thead th {\n",
              "        text-align: right;\n",
              "    }\n",
              "</style>\n",
              "<table border=\"1\" class=\"dataframe\">\n",
              "  <thead>\n",
              "    <tr style=\"text-align: right;\">\n",
              "      <th></th>\n",
              "      <th>fit_time</th>\n",
              "      <th>score_time</th>\n",
              "      <th>test_ACC</th>\n",
              "      <th>test_F1</th>\n",
              "      <th>test_Precision</th>\n",
              "      <th>test_Recall</th>\n",
              "    </tr>\n",
              "  </thead>\n",
              "  <tbody>\n",
              "    <tr>\n",
              "      <th>0</th>\n",
              "      <td>0.701656</td>\n",
              "      <td>0.081957</td>\n",
              "      <td>0.965805</td>\n",
              "      <td>0.685315</td>\n",
              "      <td>0.875000</td>\n",
              "      <td>0.563218</td>\n",
              "    </tr>\n",
              "    <tr>\n",
              "      <th>1</th>\n",
              "      <td>0.774335</td>\n",
              "      <td>0.078467</td>\n",
              "      <td>0.959726</td>\n",
              "      <td>0.582677</td>\n",
              "      <td>0.948718</td>\n",
              "      <td>0.420455</td>\n",
              "    </tr>\n",
              "    <tr>\n",
              "      <th>2</th>\n",
              "      <td>0.033654</td>\n",
              "      <td>0.000000</td>\n",
              "      <td>NaN</td>\n",
              "      <td>NaN</td>\n",
              "      <td>NaN</td>\n",
              "      <td>NaN</td>\n",
              "    </tr>\n",
              "    <tr>\n",
              "      <th>3</th>\n",
              "      <td>0.946004</td>\n",
              "      <td>0.076277</td>\n",
              "      <td>0.959696</td>\n",
              "      <td>0.613139</td>\n",
              "      <td>0.840000</td>\n",
              "      <td>0.482759</td>\n",
              "    </tr>\n",
              "    <tr>\n",
              "      <th>4</th>\n",
              "      <td>1.067883</td>\n",
              "      <td>0.092245</td>\n",
              "      <td>0.968061</td>\n",
              "      <td>0.695652</td>\n",
              "      <td>0.941176</td>\n",
              "      <td>0.551724</td>\n",
              "    </tr>\n",
              "  </tbody>\n",
              "</table>\n",
              "</div>\n",
              "    <div class=\"colab-df-buttons\">\n",
              "\n",
              "  <div class=\"colab-df-container\">\n",
              "    <button class=\"colab-df-convert\" onclick=\"convertToInteractive('df-f0ec7db3-db3e-4c6b-8ef3-f20d9b7622ec')\"\n",
              "            title=\"Convert this dataframe to an interactive table.\"\n",
              "            style=\"display:none;\">\n",
              "\n",
              "  <svg xmlns=\"http://www.w3.org/2000/svg\" height=\"24px\" viewBox=\"0 -960 960 960\">\n",
              "    <path d=\"M120-120v-720h720v720H120Zm60-500h600v-160H180v160Zm220 220h160v-160H400v160Zm0 220h160v-160H400v160ZM180-400h160v-160H180v160Zm440 0h160v-160H620v160ZM180-180h160v-160H180v160Zm440 0h160v-160H620v160Z\"/>\n",
              "  </svg>\n",
              "    </button>\n",
              "\n",
              "  <style>\n",
              "    .colab-df-container {\n",
              "      display:flex;\n",
              "      gap: 12px;\n",
              "    }\n",
              "\n",
              "    .colab-df-convert {\n",
              "      background-color: #E8F0FE;\n",
              "      border: none;\n",
              "      border-radius: 50%;\n",
              "      cursor: pointer;\n",
              "      display: none;\n",
              "      fill: #1967D2;\n",
              "      height: 32px;\n",
              "      padding: 0 0 0 0;\n",
              "      width: 32px;\n",
              "    }\n",
              "\n",
              "    .colab-df-convert:hover {\n",
              "      background-color: #E2EBFA;\n",
              "      box-shadow: 0px 1px 2px rgba(60, 64, 67, 0.3), 0px 1px 3px 1px rgba(60, 64, 67, 0.15);\n",
              "      fill: #174EA6;\n",
              "    }\n",
              "\n",
              "    .colab-df-buttons div {\n",
              "      margin-bottom: 4px;\n",
              "    }\n",
              "\n",
              "    [theme=dark] .colab-df-convert {\n",
              "      background-color: #3B4455;\n",
              "      fill: #D2E3FC;\n",
              "    }\n",
              "\n",
              "    [theme=dark] .colab-df-convert:hover {\n",
              "      background-color: #434B5C;\n",
              "      box-shadow: 0px 1px 3px 1px rgba(0, 0, 0, 0.15);\n",
              "      filter: drop-shadow(0px 1px 2px rgba(0, 0, 0, 0.3));\n",
              "      fill: #FFFFFF;\n",
              "    }\n",
              "  </style>\n",
              "\n",
              "    <script>\n",
              "      const buttonEl =\n",
              "        document.querySelector('#df-f0ec7db3-db3e-4c6b-8ef3-f20d9b7622ec button.colab-df-convert');\n",
              "      buttonEl.style.display =\n",
              "        google.colab.kernel.accessAllowed ? 'block' : 'none';\n",
              "\n",
              "      async function convertToInteractive(key) {\n",
              "        const element = document.querySelector('#df-f0ec7db3-db3e-4c6b-8ef3-f20d9b7622ec');\n",
              "        const dataTable =\n",
              "          await google.colab.kernel.invokeFunction('convertToInteractive',\n",
              "                                                    [key], {});\n",
              "        if (!dataTable) return;\n",
              "\n",
              "        const docLinkHtml = 'Like what you see? Visit the ' +\n",
              "          '<a target=\"_blank\" href=https://colab.research.google.com/notebooks/data_table.ipynb>data table notebook</a>'\n",
              "          + ' to learn more about interactive tables.';\n",
              "        element.innerHTML = '';\n",
              "        dataTable['output_type'] = 'display_data';\n",
              "        await google.colab.output.renderOutput(dataTable, element);\n",
              "        const docLink = document.createElement('div');\n",
              "        docLink.innerHTML = docLinkHtml;\n",
              "        element.appendChild(docLink);\n",
              "      }\n",
              "    </script>\n",
              "  </div>\n",
              "\n",
              "\n",
              "<div id=\"df-5df146f1-b7a7-4e7a-a0dc-db3db52cff86\">\n",
              "  <button class=\"colab-df-quickchart\" onclick=\"quickchart('df-5df146f1-b7a7-4e7a-a0dc-db3db52cff86')\"\n",
              "            title=\"Suggest charts\"\n",
              "            style=\"display:none;\">\n",
              "\n",
              "<svg xmlns=\"http://www.w3.org/2000/svg\" height=\"24px\"viewBox=\"0 0 24 24\"\n",
              "     width=\"24px\">\n",
              "    <g>\n",
              "        <path d=\"M19 3H5c-1.1 0-2 .9-2 2v14c0 1.1.9 2 2 2h14c1.1 0 2-.9 2-2V5c0-1.1-.9-2-2-2zM9 17H7v-7h2v7zm4 0h-2V7h2v10zm4 0h-2v-4h2v4z\"/>\n",
              "    </g>\n",
              "</svg>\n",
              "  </button>\n",
              "\n",
              "<style>\n",
              "  .colab-df-quickchart {\n",
              "      --bg-color: #E8F0FE;\n",
              "      --fill-color: #1967D2;\n",
              "      --hover-bg-color: #E2EBFA;\n",
              "      --hover-fill-color: #174EA6;\n",
              "      --disabled-fill-color: #AAA;\n",
              "      --disabled-bg-color: #DDD;\n",
              "  }\n",
              "\n",
              "  [theme=dark] .colab-df-quickchart {\n",
              "      --bg-color: #3B4455;\n",
              "      --fill-color: #D2E3FC;\n",
              "      --hover-bg-color: #434B5C;\n",
              "      --hover-fill-color: #FFFFFF;\n",
              "      --disabled-bg-color: #3B4455;\n",
              "      --disabled-fill-color: #666;\n",
              "  }\n",
              "\n",
              "  .colab-df-quickchart {\n",
              "    background-color: var(--bg-color);\n",
              "    border: none;\n",
              "    border-radius: 50%;\n",
              "    cursor: pointer;\n",
              "    display: none;\n",
              "    fill: var(--fill-color);\n",
              "    height: 32px;\n",
              "    padding: 0;\n",
              "    width: 32px;\n",
              "  }\n",
              "\n",
              "  .colab-df-quickchart:hover {\n",
              "    background-color: var(--hover-bg-color);\n",
              "    box-shadow: 0 1px 2px rgba(60, 64, 67, 0.3), 0 1px 3px 1px rgba(60, 64, 67, 0.15);\n",
              "    fill: var(--button-hover-fill-color);\n",
              "  }\n",
              "\n",
              "  .colab-df-quickchart-complete:disabled,\n",
              "  .colab-df-quickchart-complete:disabled:hover {\n",
              "    background-color: var(--disabled-bg-color);\n",
              "    fill: var(--disabled-fill-color);\n",
              "    box-shadow: none;\n",
              "  }\n",
              "\n",
              "  .colab-df-spinner {\n",
              "    border: 2px solid var(--fill-color);\n",
              "    border-color: transparent;\n",
              "    border-bottom-color: var(--fill-color);\n",
              "    animation:\n",
              "      spin 1s steps(1) infinite;\n",
              "  }\n",
              "\n",
              "  @keyframes spin {\n",
              "    0% {\n",
              "      border-color: transparent;\n",
              "      border-bottom-color: var(--fill-color);\n",
              "      border-left-color: var(--fill-color);\n",
              "    }\n",
              "    20% {\n",
              "      border-color: transparent;\n",
              "      border-left-color: var(--fill-color);\n",
              "      border-top-color: var(--fill-color);\n",
              "    }\n",
              "    30% {\n",
              "      border-color: transparent;\n",
              "      border-left-color: var(--fill-color);\n",
              "      border-top-color: var(--fill-color);\n",
              "      border-right-color: var(--fill-color);\n",
              "    }\n",
              "    40% {\n",
              "      border-color: transparent;\n",
              "      border-right-color: var(--fill-color);\n",
              "      border-top-color: var(--fill-color);\n",
              "    }\n",
              "    60% {\n",
              "      border-color: transparent;\n",
              "      border-right-color: var(--fill-color);\n",
              "    }\n",
              "    80% {\n",
              "      border-color: transparent;\n",
              "      border-right-color: var(--fill-color);\n",
              "      border-bottom-color: var(--fill-color);\n",
              "    }\n",
              "    90% {\n",
              "      border-color: transparent;\n",
              "      border-bottom-color: var(--fill-color);\n",
              "    }\n",
              "  }\n",
              "</style>\n",
              "\n",
              "  <script>\n",
              "    async function quickchart(key) {\n",
              "      const quickchartButtonEl =\n",
              "        document.querySelector('#' + key + ' button');\n",
              "      quickchartButtonEl.disabled = true;  // To prevent multiple clicks.\n",
              "      quickchartButtonEl.classList.add('colab-df-spinner');\n",
              "      try {\n",
              "        const charts = await google.colab.kernel.invokeFunction(\n",
              "            'suggestCharts', [key], {});\n",
              "      } catch (error) {\n",
              "        console.error('Error during call to suggestCharts:', error);\n",
              "      }\n",
              "      quickchartButtonEl.classList.remove('colab-df-spinner');\n",
              "      quickchartButtonEl.classList.add('colab-df-quickchart-complete');\n",
              "    }\n",
              "    (() => {\n",
              "      let quickchartButtonEl =\n",
              "        document.querySelector('#df-5df146f1-b7a7-4e7a-a0dc-db3db52cff86 button');\n",
              "      quickchartButtonEl.style.display =\n",
              "        google.colab.kernel.accessAllowed ? 'block' : 'none';\n",
              "    })();\n",
              "  </script>\n",
              "</div>\n",
              "    </div>\n",
              "  </div>\n"
            ]
          },
          "metadata": {}
        },
        {
          "output_type": "stream",
          "name": "stdout",
          "text": [
            "\n",
            "\n",
            "test_ACC          0.963322\n",
            "test_F1           0.644196\n",
            "test_Precision    0.901224\n",
            "test_Recall       0.504539\n",
            "dtype: float64\n"
          ]
        }
      ]
    },
    {
      "cell_type": "markdown",
      "source": [
        "Небольшие выводы по модели:\n",
        "\n",
        "добавление категориальных признаков улучшает результаты модели (метрика accuracy на кроссвалидации 0.96 против 0.93)\n",
        "\n",
        "добавляется интерпретация некоторых категориальных признаков: некоторые категории усиливают вероятность того, что автомобиль - с ДВС, а другие - с дизельным двигателем"
      ],
      "metadata": {
        "id": "fsaNppH_TJKF"
      }
    },
    {
      "cell_type": "markdown",
      "source": [
        "**Сохранение модели**"
      ],
      "metadata": {
        "id": "HZ4IfFLCTaGS"
      }
    },
    {
      "cell_type": "code",
      "source": [
        "from joblib import dump, load"
      ],
      "metadata": {
        "id": "_ML3t-llTEfD"
      },
      "execution_count": 123,
      "outputs": []
    },
    {
      "cell_type": "code",
      "source": [
        "dump(model, 'model.joblib')  # чтобы сохранить объект\n",
        "dump(pipe_num, 'pipe_num.joblib')  # чтобы сохранить объект\n",
        "dump(pipe_all, 'pipe_all.joblib')  # чтобы сохранить объект"
      ],
      "metadata": {
        "colab": {
          "base_uri": "https://localhost:8080/"
        },
        "id": "TlQDK5keTcH8",
        "outputId": "580231e5-16d6-4dae-ef48-fe952d469b0f"
      },
      "execution_count": 124,
      "outputs": [
        {
          "output_type": "execute_result",
          "data": {
            "text/plain": [
              "['pipe_all.joblib']"
            ]
          },
          "metadata": {},
          "execution_count": 124
        }
      ]
    },
    {
      "cell_type": "code",
      "source": [
        "pipe_load = load('pipe_all.joblib')"
      ],
      "metadata": {
        "id": "Y1oGv04bThkd"
      },
      "execution_count": 125,
      "outputs": []
    }
  ]
}