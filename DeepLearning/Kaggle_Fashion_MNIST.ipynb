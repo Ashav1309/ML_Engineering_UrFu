{
  "nbformat": 4,
  "nbformat_minor": 0,
  "metadata": {
    "colab": {
      "provenance": []
    },
    "kernelspec": {
      "name": "python3",
      "display_name": "Python 3"
    },
    "language_info": {
      "name": "python"
    }
  },
  "cells": [
    {
      "cell_type": "markdown",
      "source": [
        "# [DL-URFU-2024] Построение классифика..."
      ],
      "metadata": {
        "id": "UnZKHtqkhb8t"
      }
    },
    {
      "cell_type": "markdown",
      "source": [
        "## Dataset Description"
      ],
      "metadata": {
        "id": "2wPwefqhhiak"
      }
    },
    {
      "cell_type": "markdown",
      "source": [
        "Fashion-MNIST – аналог знаменитого датасета MNIST, который состоит не из рукописных символов, а из предметов одежды. Он был создан, чтобы актуализировать учебные задачи в компьютерном зрении и приблизить их к реальности.\n",
        "\n",
        "Решение более сложной постановки этой задачи может использоваться, например, в маркетплейсах. Покупателю могут рекомендоваться товары по изображениям в соответствии с введённым описанием. Продавцу при загрузке изображений в карточку товара могут автоматически рекомендоваться теги и описание предмета одежды.\n",
        "\n",
        "Каждое изображение представляет собой набор их 784 пикселей (28x28). Каждый пиксель принимает значение от 0 до 255, обозначая его цвет в черно-белой шкале. Обучающая выборка содержит 786 столбцов, где первый (label) – принадлежность изображения к классу, а последний – его уникальный номер (id). Остальные столбцы – пиксели изображения.\n",
        "Проведите первичный анализ данных, чтобы определить наличие NaN значений.\n",
        "Тестовая выборка (на основе которой должно быть получено исследование) содержит все те же столбцы, кроме label."
      ],
      "metadata": {
        "id": "2r3w-SNhheYf"
      }
    },
    {
      "cell_type": "markdown",
      "source": [
        "### Расшифровка классов (label), к которым принадлежат изображения:"
      ],
      "metadata": {
        "id": "0RGk72VRhnXx"
      }
    },
    {
      "cell_type": "markdown",
      "source": [
        "0. T-shirt/top – футболка\n",
        "1. Trouser – брюки\n",
        "2. Pullover – свитер\n",
        "3. Dress – платье\n",
        "4. Coat – пальто\n",
        "5. Sandal – сандалия\n",
        "6. Shirt – рубашка\n",
        "7. Sneaker – кроссовок\n",
        "8. Bag – сумка\n",
        "9. Ankle boot – сапог"
      ],
      "metadata": {
        "id": "5SwSMfYShrDl"
      }
    },
    {
      "cell_type": "markdown",
      "source": [
        "# Добавляем необходимые библиотеки"
      ],
      "metadata": {
        "id": "OFjMRCqChtpd"
      }
    },
    {
      "cell_type": "code",
      "execution_count": 34,
      "metadata": {
        "colab": {
          "base_uri": "https://localhost:8080/"
        },
        "id": "zjJEhkWBa64h",
        "outputId": "cdc82fce-aa3f-4101-a56c-0196c9872587"
      },
      "outputs": [
        {
          "output_type": "stream",
          "name": "stdout",
          "text": [
            "Requirement already satisfied: kaggle in /usr/local/lib/python3.10/dist-packages (1.6.14)\n",
            "Requirement already satisfied: six>=1.10 in /usr/local/lib/python3.10/dist-packages (from kaggle) (1.16.0)\n",
            "Requirement already satisfied: certifi>=2023.7.22 in /usr/local/lib/python3.10/dist-packages (from kaggle) (2024.2.2)\n",
            "Requirement already satisfied: python-dateutil in /usr/local/lib/python3.10/dist-packages (from kaggle) (2.8.2)\n",
            "Requirement already satisfied: requests in /usr/local/lib/python3.10/dist-packages (from kaggle) (2.31.0)\n",
            "Requirement already satisfied: tqdm in /usr/local/lib/python3.10/dist-packages (from kaggle) (4.66.4)\n",
            "Requirement already satisfied: python-slugify in /usr/local/lib/python3.10/dist-packages (from kaggle) (8.0.4)\n",
            "Requirement already satisfied: urllib3 in /usr/local/lib/python3.10/dist-packages (from kaggle) (2.0.7)\n",
            "Requirement already satisfied: bleach in /usr/local/lib/python3.10/dist-packages (from kaggle) (6.1.0)\n",
            "Requirement already satisfied: webencodings in /usr/local/lib/python3.10/dist-packages (from bleach->kaggle) (0.5.1)\n",
            "Requirement already satisfied: text-unidecode>=1.3 in /usr/local/lib/python3.10/dist-packages (from python-slugify->kaggle) (1.3)\n",
            "Requirement already satisfied: charset-normalizer<4,>=2 in /usr/local/lib/python3.10/dist-packages (from requests->kaggle) (3.3.2)\n",
            "Requirement already satisfied: idna<4,>=2.5 in /usr/local/lib/python3.10/dist-packages (from requests->kaggle) (3.7)\n"
          ]
        }
      ],
      "source": [
        "!pip install kaggle\n",
        "from tensorflow.keras.models import Sequential\n",
        "from tensorflow.keras.layers import Dense, Dropout\n",
        "from tensorflow.keras import utils\n",
        "from tensorflow.keras.preprocessing import image\n",
        "import pandas as pd\n",
        "import numpy as np\n",
        "import matplotlib.pyplot as plt\n",
        "from google.colab import files\n",
        "%matplotlib inline"
      ]
    },
    {
      "cell_type": "markdown",
      "source": [
        "# Загружаем DataSet с Kaggle соревнование DL-URFU-2024"
      ],
      "metadata": {
        "id": "kxhxvYJKiF7A"
      }
    },
    {
      "cell_type": "code",
      "source": [
        "df_train = pd.read_csv('/content/fashion-mnist_train.csv')\n",
        "df_test = pd.read_csv('/content/fashion-mnist_test.csv')\n",
        "submission = pd.read_csv('/content/sample_submission.csv')"
      ],
      "metadata": {
        "id": "zDgiYUaTiXKH"
      },
      "execution_count": 36,
      "outputs": []
    },
    {
      "cell_type": "markdown",
      "source": [
        "Получим размерность обоих датасетов"
      ],
      "metadata": {
        "id": "Nzd4vHIjjRLR"
      }
    },
    {
      "cell_type": "code",
      "source": [
        "print(df_train.shape)"
      ],
      "metadata": {
        "colab": {
          "base_uri": "https://localhost:8080/"
        },
        "id": "JFviC4umjDHY",
        "outputId": "db077f2b-4487-4106-f2ff-854196ab57c9"
      },
      "execution_count": 37,
      "outputs": [
        {
          "output_type": "stream",
          "name": "stdout",
          "text": [
            "(60000, 785)\n"
          ]
        }
      ]
    },
    {
      "cell_type": "code",
      "source": [
        "print(df_test.shape)"
      ],
      "metadata": {
        "colab": {
          "base_uri": "https://localhost:8080/"
        },
        "id": "eCIeO_KTjJwg",
        "outputId": "95e64962-0e72-4e48-f43c-02ba287542db"
      },
      "execution_count": 38,
      "outputs": [
        {
          "output_type": "stream",
          "name": "stdout",
          "text": [
            "(10000, 785)\n"
          ]
        }
      ]
    },
    {
      "cell_type": "code",
      "source": [
        "# Извлечение пиксельных данных\n",
        "x_train = df_train.drop(['label'], axis=1).values\n",
        "x_test = df_test.drop(['label'], axis=1).values\n",
        "\n",
        "# Получение меток\n",
        "y_train = df_train['label'].values\n",
        "y_test = df_test['label'].values\n"
      ],
      "metadata": {
        "id": "ohfBITeubNQc"
      },
      "execution_count": 40,
      "outputs": []
    },
    {
      "cell_type": "code",
      "source": [
        "classes = ['футболка', 'брюки', 'свитер', 'платье', 'пальто', 'туфли', 'рубашка', 'кроссовки', 'сумка', 'ботинки']"
      ],
      "metadata": {
        "id": "Dynisg1ocaHR"
      },
      "execution_count": 41,
      "outputs": []
    },
    {
      "cell_type": "markdown",
      "source": [
        "**Преобразование размерности данных в наборе**"
      ],
      "metadata": {
        "id": "dOAbkYJdngjj"
      }
    },
    {
      "cell_type": "code",
      "source": [
        "x_train = x_train.reshape(60000, 784)"
      ],
      "metadata": {
        "id": "tJm0zJU1dBTv"
      },
      "execution_count": 44,
      "outputs": []
    },
    {
      "cell_type": "markdown",
      "source": [
        "**Нормализация данных**"
      ],
      "metadata": {
        "id": "90CW0loYnmor"
      }
    },
    {
      "cell_type": "code",
      "source": [
        "x_train = x_train / 255"
      ],
      "metadata": {
        "id": "a_aFGf_OdDVH"
      },
      "execution_count": 45,
      "outputs": []
    },
    {
      "cell_type": "code",
      "source": [
        "print(y_train[0])"
      ],
      "metadata": {
        "colab": {
          "base_uri": "https://localhost:8080/"
        },
        "id": "1vDeErsMdHKe",
        "outputId": "397adc26-a281-4db0-907b-efb21895c824"
      },
      "execution_count": 46,
      "outputs": [
        {
          "output_type": "stream",
          "name": "stdout",
          "text": [
            "2\n"
          ]
        }
      ]
    },
    {
      "cell_type": "markdown",
      "source": [
        "**Преобразуем метки в формат one hot encoding**"
      ],
      "metadata": {
        "id": "dBV_HxtTnt32"
      }
    },
    {
      "cell_type": "code",
      "source": [
        "y_train = utils.to_categorical(y_train, 10)"
      ],
      "metadata": {
        "id": "B-AGpR0SdJnc"
      },
      "execution_count": 47,
      "outputs": []
    },
    {
      "cell_type": "code",
      "source": [
        "print(y_train[0])"
      ],
      "metadata": {
        "colab": {
          "base_uri": "https://localhost:8080/"
        },
        "id": "RHcKbEccdL46",
        "outputId": "973c92a0-e0cd-4dc7-c8b3-1d122c67a9bf"
      },
      "execution_count": 48,
      "outputs": [
        {
          "output_type": "stream",
          "name": "stdout",
          "text": [
            "[0. 0. 1. 0. 0. 0. 0. 0. 0. 0.]\n"
          ]
        }
      ]
    },
    {
      "cell_type": "markdown",
      "source": [
        "## Создаем нейронную сеть"
      ],
      "metadata": {
        "id": "71j6iS8znzx6"
      }
    },
    {
      "cell_type": "code",
      "source": [
        "# Создаем последовательную модель\n",
        "model = Sequential()\n",
        "# Входной полносвязный слой, 800 нейронов, 784 входа в каждый нейрон\n",
        "model.add(Dense(800, input_dim=784, activation=\"relu\"))\n",
        "# Выходной полносвязный слой, 10 нейронов (по количеству рукописных цифр)\n",
        "model.add(Dense(10, activation=\"softmax\"))"
      ],
      "metadata": {
        "id": "rJbeS7C-dNt1"
      },
      "execution_count": 49,
      "outputs": []
    },
    {
      "cell_type": "code",
      "source": [
        "# Обучаем модель\n",
        "model.compile(loss=\"categorical_crossentropy\", optimizer=\"SGD\", metrics=[\"accuracy\"])\n",
        "\n",
        "model.fit(x_train, y_train,\n",
        "          batch_size=200,\n",
        "          epochs=100,\n",
        "          verbose=1,\n",
        "          validation_split=0.2)\n",
        "\n",
        "# Сохраняем модель.\n",
        "model.save(\"cnn_mnist_classification\")"
      ],
      "metadata": {
        "colab": {
          "base_uri": "https://localhost:8080/"
        },
        "id": "eAb9yOSDdP3M",
        "outputId": "18da8560-dace-4f8a-fc55-278acbf8f6c5"
      },
      "execution_count": 53,
      "outputs": [
        {
          "output_type": "stream",
          "name": "stdout",
          "text": [
            "Epoch 1/100\n",
            "240/240 [==============================] - 4s 17ms/step - loss: 0.3180 - accuracy: 0.8895 - val_loss: 0.3259 - val_accuracy: 0.8875\n",
            "Epoch 2/100\n",
            "240/240 [==============================] - 4s 15ms/step - loss: 0.3171 - accuracy: 0.8895 - val_loss: 0.3262 - val_accuracy: 0.8875\n",
            "Epoch 3/100\n",
            "240/240 [==============================] - 5s 23ms/step - loss: 0.3162 - accuracy: 0.8902 - val_loss: 0.3275 - val_accuracy: 0.8856\n",
            "Epoch 4/100\n",
            "240/240 [==============================] - 4s 15ms/step - loss: 0.3153 - accuracy: 0.8907 - val_loss: 0.3303 - val_accuracy: 0.8847\n",
            "Epoch 5/100\n",
            "240/240 [==============================] - 4s 15ms/step - loss: 0.3147 - accuracy: 0.8913 - val_loss: 0.3286 - val_accuracy: 0.8862\n",
            "Epoch 6/100\n",
            "240/240 [==============================] - 4s 18ms/step - loss: 0.3139 - accuracy: 0.8918 - val_loss: 0.3257 - val_accuracy: 0.8870\n",
            "Epoch 7/100\n",
            "240/240 [==============================] - 5s 20ms/step - loss: 0.3128 - accuracy: 0.8917 - val_loss: 0.3259 - val_accuracy: 0.8863\n",
            "Epoch 8/100\n",
            "240/240 [==============================] - 4s 15ms/step - loss: 0.3122 - accuracy: 0.8914 - val_loss: 0.3257 - val_accuracy: 0.8868\n",
            "Epoch 9/100\n",
            "240/240 [==============================] - 4s 16ms/step - loss: 0.3114 - accuracy: 0.8914 - val_loss: 0.3255 - val_accuracy: 0.8873\n",
            "Epoch 10/100\n",
            "240/240 [==============================] - 6s 23ms/step - loss: 0.3110 - accuracy: 0.8917 - val_loss: 0.3256 - val_accuracy: 0.8869\n",
            "Epoch 11/100\n",
            "240/240 [==============================] - 4s 16ms/step - loss: 0.3099 - accuracy: 0.8924 - val_loss: 0.3245 - val_accuracy: 0.8879\n",
            "Epoch 12/100\n",
            "240/240 [==============================] - 4s 16ms/step - loss: 0.3092 - accuracy: 0.8926 - val_loss: 0.3262 - val_accuracy: 0.8866\n",
            "Epoch 13/100\n",
            "240/240 [==============================] - 5s 21ms/step - loss: 0.3083 - accuracy: 0.8928 - val_loss: 0.3299 - val_accuracy: 0.8843\n",
            "Epoch 14/100\n",
            "240/240 [==============================] - 4s 18ms/step - loss: 0.3079 - accuracy: 0.8936 - val_loss: 0.3285 - val_accuracy: 0.8857\n",
            "Epoch 15/100\n",
            "240/240 [==============================] - 4s 16ms/step - loss: 0.3071 - accuracy: 0.8930 - val_loss: 0.3242 - val_accuracy: 0.8872\n",
            "Epoch 16/100\n",
            "240/240 [==============================] - 4s 16ms/step - loss: 0.3060 - accuracy: 0.8938 - val_loss: 0.3304 - val_accuracy: 0.8827\n",
            "Epoch 17/100\n",
            "240/240 [==============================] - 5s 22ms/step - loss: 0.3052 - accuracy: 0.8948 - val_loss: 0.3241 - val_accuracy: 0.8877\n",
            "Epoch 18/100\n",
            "240/240 [==============================] - 3s 14ms/step - loss: 0.3043 - accuracy: 0.8942 - val_loss: 0.3245 - val_accuracy: 0.8869\n",
            "Epoch 19/100\n",
            "240/240 [==============================] - 4s 15ms/step - loss: 0.3042 - accuracy: 0.8944 - val_loss: 0.3232 - val_accuracy: 0.8875\n",
            "Epoch 20/100\n",
            "240/240 [==============================] - 5s 19ms/step - loss: 0.3033 - accuracy: 0.8950 - val_loss: 0.3278 - val_accuracy: 0.8863\n",
            "Epoch 21/100\n",
            "240/240 [==============================] - 5s 19ms/step - loss: 0.3028 - accuracy: 0.8948 - val_loss: 0.3227 - val_accuracy: 0.8869\n",
            "Epoch 22/100\n",
            "240/240 [==============================] - 3s 14ms/step - loss: 0.3020 - accuracy: 0.8959 - val_loss: 0.3233 - val_accuracy: 0.8882\n",
            "Epoch 23/100\n",
            "240/240 [==============================] - 4s 16ms/step - loss: 0.3007 - accuracy: 0.8952 - val_loss: 0.3227 - val_accuracy: 0.8890\n",
            "Epoch 24/100\n",
            "240/240 [==============================] - 6s 23ms/step - loss: 0.3006 - accuracy: 0.8962 - val_loss: 0.3259 - val_accuracy: 0.8851\n",
            "Epoch 25/100\n",
            "240/240 [==============================] - 4s 16ms/step - loss: 0.2997 - accuracy: 0.8960 - val_loss: 0.3224 - val_accuracy: 0.8886\n",
            "Epoch 26/100\n",
            "240/240 [==============================] - 4s 15ms/step - loss: 0.2992 - accuracy: 0.8962 - val_loss: 0.3248 - val_accuracy: 0.8855\n",
            "Epoch 27/100\n",
            "240/240 [==============================] - 6s 27ms/step - loss: 0.2985 - accuracy: 0.8961 - val_loss: 0.3230 - val_accuracy: 0.8877\n",
            "Epoch 28/100\n",
            "240/240 [==============================] - 5s 20ms/step - loss: 0.2976 - accuracy: 0.8957 - val_loss: 0.3228 - val_accuracy: 0.8887\n",
            "Epoch 29/100\n",
            "240/240 [==============================] - 4s 16ms/step - loss: 0.2970 - accuracy: 0.8965 - val_loss: 0.3215 - val_accuracy: 0.8876\n",
            "Epoch 30/100\n",
            "240/240 [==============================] - 4s 16ms/step - loss: 0.2964 - accuracy: 0.8970 - val_loss: 0.3262 - val_accuracy: 0.8848\n",
            "Epoch 31/100\n",
            "240/240 [==============================] - 5s 22ms/step - loss: 0.2957 - accuracy: 0.8978 - val_loss: 0.3223 - val_accuracy: 0.8882\n",
            "Epoch 32/100\n",
            "240/240 [==============================] - 4s 16ms/step - loss: 0.2948 - accuracy: 0.8978 - val_loss: 0.3241 - val_accuracy: 0.8855\n",
            "Epoch 33/100\n",
            "240/240 [==============================] - 4s 16ms/step - loss: 0.2946 - accuracy: 0.8975 - val_loss: 0.3227 - val_accuracy: 0.8857\n",
            "Epoch 34/100\n",
            "240/240 [==============================] - 5s 19ms/step - loss: 0.2936 - accuracy: 0.8985 - val_loss: 0.3205 - val_accuracy: 0.8892\n",
            "Epoch 35/100\n",
            "240/240 [==============================] - 5s 20ms/step - loss: 0.2932 - accuracy: 0.8982 - val_loss: 0.3207 - val_accuracy: 0.8882\n",
            "Epoch 36/100\n",
            "240/240 [==============================] - 4s 16ms/step - loss: 0.2926 - accuracy: 0.8988 - val_loss: 0.3276 - val_accuracy: 0.8854\n",
            "Epoch 37/100\n",
            "240/240 [==============================] - 3s 15ms/step - loss: 0.2919 - accuracy: 0.8989 - val_loss: 0.3203 - val_accuracy: 0.8882\n",
            "Epoch 38/100\n",
            "240/240 [==============================] - 5s 23ms/step - loss: 0.2912 - accuracy: 0.8992 - val_loss: 0.3235 - val_accuracy: 0.8871\n",
            "Epoch 39/100\n",
            "240/240 [==============================] - 4s 16ms/step - loss: 0.2904 - accuracy: 0.8991 - val_loss: 0.3205 - val_accuracy: 0.8898\n",
            "Epoch 40/100\n",
            "240/240 [==============================] - 4s 15ms/step - loss: 0.2900 - accuracy: 0.8999 - val_loss: 0.3196 - val_accuracy: 0.8875\n",
            "Epoch 41/100\n",
            "240/240 [==============================] - 4s 18ms/step - loss: 0.2895 - accuracy: 0.8993 - val_loss: 0.3216 - val_accuracy: 0.8877\n",
            "Epoch 42/100\n",
            "240/240 [==============================] - 5s 20ms/step - loss: 0.2887 - accuracy: 0.9000 - val_loss: 0.3194 - val_accuracy: 0.8867\n",
            "Epoch 43/100\n",
            "240/240 [==============================] - 4s 16ms/step - loss: 0.2882 - accuracy: 0.8998 - val_loss: 0.3276 - val_accuracy: 0.8847\n",
            "Epoch 44/100\n",
            "240/240 [==============================] - 4s 16ms/step - loss: 0.2873 - accuracy: 0.9007 - val_loss: 0.3192 - val_accuracy: 0.8897\n",
            "Epoch 45/100\n",
            "240/240 [==============================] - 5s 22ms/step - loss: 0.2868 - accuracy: 0.9001 - val_loss: 0.3173 - val_accuracy: 0.8896\n",
            "Epoch 46/100\n",
            "240/240 [==============================] - 4s 15ms/step - loss: 0.2861 - accuracy: 0.9009 - val_loss: 0.3184 - val_accuracy: 0.8885\n",
            "Epoch 47/100\n",
            "240/240 [==============================] - 4s 16ms/step - loss: 0.2854 - accuracy: 0.9015 - val_loss: 0.3200 - val_accuracy: 0.8890\n",
            "Epoch 48/100\n",
            "240/240 [==============================] - 4s 17ms/step - loss: 0.2847 - accuracy: 0.9016 - val_loss: 0.3175 - val_accuracy: 0.8886\n",
            "Epoch 49/100\n",
            "240/240 [==============================] - 5s 21ms/step - loss: 0.2843 - accuracy: 0.9022 - val_loss: 0.3176 - val_accuracy: 0.8881\n",
            "Epoch 50/100\n",
            "240/240 [==============================] - 4s 16ms/step - loss: 0.2839 - accuracy: 0.9020 - val_loss: 0.3172 - val_accuracy: 0.8892\n",
            "Epoch 51/100\n",
            "240/240 [==============================] - 3s 14ms/step - loss: 0.2829 - accuracy: 0.9028 - val_loss: 0.3174 - val_accuracy: 0.8903\n",
            "Epoch 52/100\n",
            "240/240 [==============================] - 5s 22ms/step - loss: 0.2828 - accuracy: 0.9020 - val_loss: 0.3206 - val_accuracy: 0.8883\n",
            "Epoch 53/100\n",
            "240/240 [==============================] - 4s 15ms/step - loss: 0.2816 - accuracy: 0.9031 - val_loss: 0.3182 - val_accuracy: 0.8886\n",
            "Epoch 54/100\n",
            "240/240 [==============================] - 4s 15ms/step - loss: 0.2812 - accuracy: 0.9023 - val_loss: 0.3165 - val_accuracy: 0.8904\n",
            "Epoch 55/100\n",
            "240/240 [==============================] - 4s 16ms/step - loss: 0.2808 - accuracy: 0.9021 - val_loss: 0.3168 - val_accuracy: 0.8882\n",
            "Epoch 56/100\n",
            "240/240 [==============================] - 5s 22ms/step - loss: 0.2801 - accuracy: 0.9020 - val_loss: 0.3181 - val_accuracy: 0.8899\n",
            "Epoch 57/100\n",
            "240/240 [==============================] - 4s 16ms/step - loss: 0.2794 - accuracy: 0.9031 - val_loss: 0.3175 - val_accuracy: 0.8875\n",
            "Epoch 58/100\n",
            "240/240 [==============================] - 4s 16ms/step - loss: 0.2791 - accuracy: 0.9023 - val_loss: 0.3264 - val_accuracy: 0.8874\n",
            "Epoch 59/100\n",
            "240/240 [==============================] - 6s 23ms/step - loss: 0.2789 - accuracy: 0.9029 - val_loss: 0.3186 - val_accuracy: 0.8892\n",
            "Epoch 60/100\n",
            "240/240 [==============================] - 4s 16ms/step - loss: 0.2781 - accuracy: 0.9031 - val_loss: 0.3222 - val_accuracy: 0.8873\n",
            "Epoch 61/100\n",
            "240/240 [==============================] - 3s 15ms/step - loss: 0.2770 - accuracy: 0.9041 - val_loss: 0.3157 - val_accuracy: 0.8887\n",
            "Epoch 62/100\n",
            "240/240 [==============================] - 4s 16ms/step - loss: 0.2767 - accuracy: 0.9036 - val_loss: 0.3166 - val_accuracy: 0.8898\n",
            "Epoch 63/100\n",
            "240/240 [==============================] - 5s 21ms/step - loss: 0.2762 - accuracy: 0.9041 - val_loss: 0.3160 - val_accuracy: 0.8878\n",
            "Epoch 64/100\n",
            "240/240 [==============================] - 4s 15ms/step - loss: 0.2756 - accuracy: 0.9044 - val_loss: 0.3151 - val_accuracy: 0.8886\n",
            "Epoch 65/100\n",
            "240/240 [==============================] - 3s 15ms/step - loss: 0.2747 - accuracy: 0.9051 - val_loss: 0.3176 - val_accuracy: 0.8898\n",
            "Epoch 66/100\n",
            "240/240 [==============================] - 5s 22ms/step - loss: 0.2748 - accuracy: 0.9050 - val_loss: 0.3140 - val_accuracy: 0.8904\n",
            "Epoch 67/100\n",
            "240/240 [==============================] - 5s 22ms/step - loss: 0.2738 - accuracy: 0.9052 - val_loss: 0.3177 - val_accuracy: 0.8880\n",
            "Epoch 68/100\n",
            "240/240 [==============================] - 4s 16ms/step - loss: 0.2736 - accuracy: 0.9054 - val_loss: 0.3149 - val_accuracy: 0.8899\n",
            "Epoch 69/100\n",
            "240/240 [==============================] - 5s 21ms/step - loss: 0.2724 - accuracy: 0.9057 - val_loss: 0.3156 - val_accuracy: 0.8895\n",
            "Epoch 70/100\n",
            "240/240 [==============================] - 5s 19ms/step - loss: 0.2725 - accuracy: 0.9049 - val_loss: 0.3174 - val_accuracy: 0.8908\n",
            "Epoch 71/100\n",
            "240/240 [==============================] - 5s 20ms/step - loss: 0.2716 - accuracy: 0.9058 - val_loss: 0.3131 - val_accuracy: 0.8892\n",
            "Epoch 72/100\n",
            "240/240 [==============================] - 6s 23ms/step - loss: 0.2711 - accuracy: 0.9061 - val_loss: 0.3132 - val_accuracy: 0.8904\n",
            "Epoch 73/100\n",
            "240/240 [==============================] - 5s 20ms/step - loss: 0.2706 - accuracy: 0.9061 - val_loss: 0.3149 - val_accuracy: 0.8906\n",
            "Epoch 74/100\n",
            "240/240 [==============================] - 4s 18ms/step - loss: 0.2699 - accuracy: 0.9067 - val_loss: 0.3146 - val_accuracy: 0.8878\n",
            "Epoch 75/100\n",
            "240/240 [==============================] - 4s 17ms/step - loss: 0.2694 - accuracy: 0.9069 - val_loss: 0.3165 - val_accuracy: 0.8906\n",
            "Epoch 76/100\n",
            "240/240 [==============================] - 7s 27ms/step - loss: 0.2691 - accuracy: 0.9070 - val_loss: 0.3136 - val_accuracy: 0.8916\n",
            "Epoch 77/100\n",
            "240/240 [==============================] - 4s 16ms/step - loss: 0.2684 - accuracy: 0.9068 - val_loss: 0.3132 - val_accuracy: 0.8923\n",
            "Epoch 78/100\n",
            "240/240 [==============================] - 4s 17ms/step - loss: 0.2680 - accuracy: 0.9062 - val_loss: 0.3143 - val_accuracy: 0.8912\n",
            "Epoch 79/100\n",
            "240/240 [==============================] - 6s 24ms/step - loss: 0.2670 - accuracy: 0.9068 - val_loss: 0.3125 - val_accuracy: 0.8905\n",
            "Epoch 80/100\n",
            "240/240 [==============================] - 4s 18ms/step - loss: 0.2664 - accuracy: 0.9080 - val_loss: 0.3145 - val_accuracy: 0.8916\n",
            "Epoch 81/100\n",
            "240/240 [==============================] - 4s 17ms/step - loss: 0.2660 - accuracy: 0.9078 - val_loss: 0.3122 - val_accuracy: 0.8913\n",
            "Epoch 82/100\n",
            "240/240 [==============================] - 5s 22ms/step - loss: 0.2653 - accuracy: 0.9079 - val_loss: 0.3128 - val_accuracy: 0.8907\n",
            "Epoch 83/100\n",
            "240/240 [==============================] - 5s 19ms/step - loss: 0.2650 - accuracy: 0.9082 - val_loss: 0.3124 - val_accuracy: 0.8911\n",
            "Epoch 84/100\n",
            "240/240 [==============================] - 4s 17ms/step - loss: 0.2649 - accuracy: 0.9083 - val_loss: 0.3126 - val_accuracy: 0.8906\n",
            "Epoch 85/100\n",
            "240/240 [==============================] - 4s 17ms/step - loss: 0.2642 - accuracy: 0.9083 - val_loss: 0.3135 - val_accuracy: 0.8888\n",
            "Epoch 86/100\n",
            "240/240 [==============================] - 5s 23ms/step - loss: 0.2637 - accuracy: 0.9086 - val_loss: 0.3148 - val_accuracy: 0.8908\n",
            "Epoch 87/100\n",
            "240/240 [==============================] - 4s 16ms/step - loss: 0.2633 - accuracy: 0.9087 - val_loss: 0.3169 - val_accuracy: 0.8912\n",
            "Epoch 88/100\n",
            "240/240 [==============================] - 4s 16ms/step - loss: 0.2628 - accuracy: 0.9084 - val_loss: 0.3112 - val_accuracy: 0.8897\n",
            "Epoch 89/100\n",
            "240/240 [==============================] - 6s 24ms/step - loss: 0.2617 - accuracy: 0.9095 - val_loss: 0.3114 - val_accuracy: 0.8919\n",
            "Epoch 90/100\n",
            "240/240 [==============================] - 4s 17ms/step - loss: 0.2612 - accuracy: 0.9089 - val_loss: 0.3121 - val_accuracy: 0.8903\n",
            "Epoch 91/100\n",
            "240/240 [==============================] - 4s 16ms/step - loss: 0.2611 - accuracy: 0.9096 - val_loss: 0.3163 - val_accuracy: 0.8866\n",
            "Epoch 92/100\n",
            "240/240 [==============================] - 5s 19ms/step - loss: 0.2601 - accuracy: 0.9097 - val_loss: 0.3107 - val_accuracy: 0.8908\n",
            "Epoch 93/100\n",
            "240/240 [==============================] - 5s 19ms/step - loss: 0.2597 - accuracy: 0.9099 - val_loss: 0.3118 - val_accuracy: 0.8913\n",
            "Epoch 94/100\n",
            "240/240 [==============================] - 5s 22ms/step - loss: 0.2589 - accuracy: 0.9100 - val_loss: 0.3107 - val_accuracy: 0.8894\n",
            "Epoch 95/100\n",
            "240/240 [==============================] - 5s 23ms/step - loss: 0.2586 - accuracy: 0.9102 - val_loss: 0.3110 - val_accuracy: 0.8898\n",
            "Epoch 96/100\n",
            "240/240 [==============================] - 5s 22ms/step - loss: 0.2582 - accuracy: 0.9102 - val_loss: 0.3088 - val_accuracy: 0.8917\n",
            "Epoch 97/100\n",
            "240/240 [==============================] - 4s 17ms/step - loss: 0.2576 - accuracy: 0.9109 - val_loss: 0.3112 - val_accuracy: 0.8901\n",
            "Epoch 98/100\n",
            "240/240 [==============================] - 5s 22ms/step - loss: 0.2569 - accuracy: 0.9107 - val_loss: 0.3119 - val_accuracy: 0.8906\n",
            "Epoch 99/100\n",
            "240/240 [==============================] - 6s 23ms/step - loss: 0.2565 - accuracy: 0.9108 - val_loss: 0.3104 - val_accuracy: 0.8933\n",
            "Epoch 100/100\n",
            "240/240 [==============================] - 4s 17ms/step - loss: 0.2562 - accuracy: 0.9119 - val_loss: 0.3094 - val_accuracy: 0.8912\n"
          ]
        }
      ]
    },
    {
      "cell_type": "markdown",
      "source": [
        "**Запускаем распознавание набора данных, на котором обучалась сеть**"
      ],
      "metadata": {
        "id": "NTkoebJNn_s8"
      }
    },
    {
      "cell_type": "code",
      "source": [
        "predictions = model.predict(x_test)\n",
        "predicted_classes = predictions.argmax(axis=1)"
      ],
      "metadata": {
        "colab": {
          "base_uri": "https://localhost:8080/"
        },
        "id": "oOXk3RJufldq",
        "outputId": "f4d892b6-ab33-4853-bfbb-0f1268002c3e"
      },
      "execution_count": 63,
      "outputs": [
        {
          "output_type": "stream",
          "name": "stdout",
          "text": [
            "313/313 [==============================] - 1s 4ms/step\n"
          ]
        }
      ]
    },
    {
      "cell_type": "code",
      "source": [
        "# Сохранение предсказанных меток в колонке 'Category'\n",
        "submission['Category'] = predicted_classes\n",
        "\n",
        "# Сохранение результатов в CSV\n",
        "submission.to_csv('/content/result_submission.csv', index=False)"
      ],
      "metadata": {
        "id": "88-2Fckzfp4m"
      },
      "execution_count": 65,
      "outputs": []
    }
  ]
}